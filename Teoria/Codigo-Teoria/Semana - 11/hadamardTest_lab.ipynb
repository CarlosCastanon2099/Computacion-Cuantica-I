{
  "nbformat": 4,
  "nbformat_minor": 0,
  "metadata": {
    "colab": {
      "provenance": []
    },
    "kernelspec": {
      "name": "python3",
      "display_name": "Python 3"
    },
    "language_info": {
      "name": "python"
    }
  },
  "cells": [
    {
      "cell_type": "code",
      "execution_count": 1,
      "metadata": {
        "colab": {
          "base_uri": "https://localhost:8080/"
        },
        "id": "TIJMLMz5BE_D",
        "outputId": "6ae907a1-7abe-4663-db5c-6763698901ac"
      },
      "outputs": [
        {
          "output_type": "stream",
          "name": "stdout",
          "text": [
            "Collecting qiskit\n",
            "  Downloading qiskit-1.2.4-cp38-abi3-manylinux_2_17_x86_64.manylinux2014_x86_64.whl.metadata (12 kB)\n",
            "Collecting rustworkx>=0.15.0 (from qiskit)\n",
            "  Downloading rustworkx-0.15.1-cp38-abi3-manylinux_2_17_x86_64.manylinux2014_x86_64.whl.metadata (9.9 kB)\n",
            "Requirement already satisfied: numpy<3,>=1.17 in /usr/local/lib/python3.10/dist-packages (from qiskit) (1.26.4)\n",
            "Requirement already satisfied: scipy>=1.5 in /usr/local/lib/python3.10/dist-packages (from qiskit) (1.13.1)\n",
            "Requirement already satisfied: sympy>=1.3 in /usr/local/lib/python3.10/dist-packages (from qiskit) (1.13.1)\n",
            "Collecting dill>=0.3 (from qiskit)\n",
            "  Downloading dill-0.3.9-py3-none-any.whl.metadata (10 kB)\n",
            "Requirement already satisfied: python-dateutil>=2.8.0 in /usr/local/lib/python3.10/dist-packages (from qiskit) (2.8.2)\n",
            "Collecting stevedore>=3.0.0 (from qiskit)\n",
            "  Downloading stevedore-5.3.0-py3-none-any.whl.metadata (2.3 kB)\n",
            "Requirement already satisfied: typing-extensions in /usr/local/lib/python3.10/dist-packages (from qiskit) (4.12.2)\n",
            "Collecting symengine<0.14,>=0.11 (from qiskit)\n",
            "  Downloading symengine-0.13.0-cp310-cp310-manylinux_2_17_x86_64.manylinux2014_x86_64.whl.metadata (1.2 kB)\n",
            "Requirement already satisfied: six>=1.5 in /usr/local/lib/python3.10/dist-packages (from python-dateutil>=2.8.0->qiskit) (1.16.0)\n",
            "Collecting pbr>=2.0.0 (from stevedore>=3.0.0->qiskit)\n",
            "  Downloading pbr-6.1.0-py2.py3-none-any.whl.metadata (3.4 kB)\n",
            "Requirement already satisfied: mpmath<1.4,>=1.1.0 in /usr/local/lib/python3.10/dist-packages (from sympy>=1.3->qiskit) (1.3.0)\n",
            "Downloading qiskit-1.2.4-cp38-abi3-manylinux_2_17_x86_64.manylinux2014_x86_64.whl (4.8 MB)\n",
            "\u001b[2K   \u001b[90m━━━━━━━━━━━━━━━━━━━━━━━━━━━━━━━━━━━━━━━━\u001b[0m \u001b[32m4.8/4.8 MB\u001b[0m \u001b[31m34.6 MB/s\u001b[0m eta \u001b[36m0:00:00\u001b[0m\n",
            "\u001b[?25hDownloading dill-0.3.9-py3-none-any.whl (119 kB)\n",
            "\u001b[2K   \u001b[90m━━━━━━━━━━━━━━━━━━━━━━━━━━━━━━━━━━━━━━━━\u001b[0m \u001b[32m119.4/119.4 kB\u001b[0m \u001b[31m4.7 MB/s\u001b[0m eta \u001b[36m0:00:00\u001b[0m\n",
            "\u001b[?25hDownloading rustworkx-0.15.1-cp38-abi3-manylinux_2_17_x86_64.manylinux2014_x86_64.whl (2.0 MB)\n",
            "\u001b[2K   \u001b[90m━━━━━━━━━━━━━━━━━━━━━━━━━━━━━━━━━━━━━━━━\u001b[0m \u001b[32m2.0/2.0 MB\u001b[0m \u001b[31m40.9 MB/s\u001b[0m eta \u001b[36m0:00:00\u001b[0m\n",
            "\u001b[?25hDownloading stevedore-5.3.0-py3-none-any.whl (49 kB)\n",
            "\u001b[2K   \u001b[90m━━━━━━━━━━━━━━━━━━━━━━━━━━━━━━━━━━━━━━━━\u001b[0m \u001b[32m49.7/49.7 kB\u001b[0m \u001b[31m1.7 MB/s\u001b[0m eta \u001b[36m0:00:00\u001b[0m\n",
            "\u001b[?25hDownloading symengine-0.13.0-cp310-cp310-manylinux_2_17_x86_64.manylinux2014_x86_64.whl (49.7 MB)\n",
            "\u001b[2K   \u001b[90m━━━━━━━━━━━━━━━━━━━━━━━━━━━━━━━━━━━━━━━━\u001b[0m \u001b[32m49.7/49.7 MB\u001b[0m \u001b[31m16.8 MB/s\u001b[0m eta \u001b[36m0:00:00\u001b[0m\n",
            "\u001b[?25hDownloading pbr-6.1.0-py2.py3-none-any.whl (108 kB)\n",
            "\u001b[2K   \u001b[90m━━━━━━━━━━━━━━━━━━━━━━━━━━━━━━━━━━━━━━━━\u001b[0m \u001b[32m108.5/108.5 kB\u001b[0m \u001b[31m3.5 MB/s\u001b[0m eta \u001b[36m0:00:00\u001b[0m\n",
            "\u001b[?25hInstalling collected packages: symengine, rustworkx, pbr, dill, stevedore, qiskit\n",
            "Successfully installed dill-0.3.9 pbr-6.1.0 qiskit-1.2.4 rustworkx-0.15.1 stevedore-5.3.0 symengine-0.13.0\n",
            "Collecting pylatexenc\n",
            "  Downloading pylatexenc-2.10.tar.gz (162 kB)\n",
            "\u001b[2K     \u001b[90m━━━━━━━━━━━━━━━━━━━━━━━━━━━━━━━━━━━━━━━━\u001b[0m \u001b[32m162.6/162.6 kB\u001b[0m \u001b[31m2.8 MB/s\u001b[0m eta \u001b[36m0:00:00\u001b[0m\n",
            "\u001b[?25h  Preparing metadata (setup.py) ... \u001b[?25l\u001b[?25hdone\n",
            "Building wheels for collected packages: pylatexenc\n",
            "  Building wheel for pylatexenc (setup.py) ... \u001b[?25l\u001b[?25hdone\n",
            "  Created wheel for pylatexenc: filename=pylatexenc-2.10-py3-none-any.whl size=136816 sha256=b6b237a4ce4c5da026a4662aed45e40b936ebbfc538f8b9c12c0b0707359f2f6\n",
            "  Stored in directory: /root/.cache/pip/wheels/d3/31/8b/e09b0386afd80cfc556c00408c9aeea5c35c4d484a9c762fd5\n",
            "Successfully built pylatexenc\n",
            "Installing collected packages: pylatexenc\n",
            "Successfully installed pylatexenc-2.10\n",
            "Collecting qiskit-aer\n",
            "  Downloading qiskit_aer-0.15.1-cp310-cp310-manylinux_2_17_x86_64.manylinux2014_x86_64.whl.metadata (8.0 kB)\n",
            "Requirement already satisfied: qiskit>=1.1.0 in /usr/local/lib/python3.10/dist-packages (from qiskit-aer) (1.2.4)\n",
            "Requirement already satisfied: numpy>=1.16.3 in /usr/local/lib/python3.10/dist-packages (from qiskit-aer) (1.26.4)\n",
            "Requirement already satisfied: scipy>=1.0 in /usr/local/lib/python3.10/dist-packages (from qiskit-aer) (1.13.1)\n",
            "Requirement already satisfied: psutil>=5 in /usr/local/lib/python3.10/dist-packages (from qiskit-aer) (5.9.5)\n",
            "Requirement already satisfied: rustworkx>=0.15.0 in /usr/local/lib/python3.10/dist-packages (from qiskit>=1.1.0->qiskit-aer) (0.15.1)\n",
            "Requirement already satisfied: sympy>=1.3 in /usr/local/lib/python3.10/dist-packages (from qiskit>=1.1.0->qiskit-aer) (1.13.1)\n",
            "Requirement already satisfied: dill>=0.3 in /usr/local/lib/python3.10/dist-packages (from qiskit>=1.1.0->qiskit-aer) (0.3.9)\n",
            "Requirement already satisfied: python-dateutil>=2.8.0 in /usr/local/lib/python3.10/dist-packages (from qiskit>=1.1.0->qiskit-aer) (2.8.2)\n",
            "Requirement already satisfied: stevedore>=3.0.0 in /usr/local/lib/python3.10/dist-packages (from qiskit>=1.1.0->qiskit-aer) (5.3.0)\n",
            "Requirement already satisfied: typing-extensions in /usr/local/lib/python3.10/dist-packages (from qiskit>=1.1.0->qiskit-aer) (4.12.2)\n",
            "Requirement already satisfied: symengine<0.14,>=0.11 in /usr/local/lib/python3.10/dist-packages (from qiskit>=1.1.0->qiskit-aer) (0.13.0)\n",
            "Requirement already satisfied: six>=1.5 in /usr/local/lib/python3.10/dist-packages (from python-dateutil>=2.8.0->qiskit>=1.1.0->qiskit-aer) (1.16.0)\n",
            "Requirement already satisfied: pbr>=2.0.0 in /usr/local/lib/python3.10/dist-packages (from stevedore>=3.0.0->qiskit>=1.1.0->qiskit-aer) (6.1.0)\n",
            "Requirement already satisfied: mpmath<1.4,>=1.1.0 in /usr/local/lib/python3.10/dist-packages (from sympy>=1.3->qiskit>=1.1.0->qiskit-aer) (1.3.0)\n",
            "Downloading qiskit_aer-0.15.1-cp310-cp310-manylinux_2_17_x86_64.manylinux2014_x86_64.whl (12.3 MB)\n",
            "\u001b[2K   \u001b[90m━━━━━━━━━━━━━━━━━━━━━━━━━━━━━━━━━━━━━━━━\u001b[0m \u001b[32m12.3/12.3 MB\u001b[0m \u001b[31m19.7 MB/s\u001b[0m eta \u001b[36m0:00:00\u001b[0m\n",
            "\u001b[?25hInstalling collected packages: qiskit-aer\n",
            "Successfully installed qiskit-aer-0.15.1\n"
          ]
        }
      ],
      "source": [
        "!pip install qiskit\n",
        "!pip install pylatexenc\n",
        "!pip install qiskit-aer"
      ]
    },
    {
      "cell_type": "code",
      "source": [
        "from typing import List, Optional\n",
        "from qiskit import transpile, QuantumCircuit, QuantumRegister, ClassicalRegister\n",
        "from qiskit.visualization import plot_histogram\n",
        "import warnings\n",
        "warnings.filterwarnings(\"ignore\")\n",
        "import math\n",
        "import numpy as np\n",
        "\n",
        "import matplotlib.pyplot as plt\n",
        "%matplotlib inline\n",
        "import numpy as np\n",
        "\n",
        "\n",
        "from qiskit_aer import AerSimulator\n",
        "backend =  AerSimulator(method='statevector')"
      ],
      "metadata": {
        "id": "7_M4-iyEBGmV"
      },
      "execution_count": 2,
      "outputs": []
    },
    {
      "cell_type": "markdown",
      "source": [
        "#La prueba de Hadamard\n",
        "\n",
        "La prueba de Hadamard es una primitiva algorítmica cuántica que se utiliza para estimar el valor esperado de un operador unitario $\\hat U$ que actúa sobre un estado cuántico $|\\psi\\rangle$. Es un componente fundamental en muchos algoritmos cuánticos, incluidos la simulación cuántica, la química cuántica y el aprendizaje automático cuántico.\n",
        "\n",
        "La prueba de Hadamard crea una variable aleatoria cuyo valor esperado es la parte real del valor esperado de $\\hat U$, $${\\rm Re}\\,\\langle\\psi |\\hat U|\\psi\\rangle.$$ La prueba funciona aplicando una compuerta de Hadamard a un qubit ancilla, condicionada a que el primer qubit se encuentre en un estado de superposición. Esto produce una distribución de probabilidad sobre los resultados de la medición del qubit ancilla, que se puede utilizar para estimar el valor esperado.\n",
        "\n",
        "En este ejercicio, usaremos $|\\psi\\rangle=|0\\rangle$.\n",
        "\n",
        "![hadamard_test.png](data:image/png;base64,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)"
      ],
      "metadata": {
        "id": "bEbBOcHMBLCD"
      }
    },
    {
      "cell_type": "markdown",
      "source": [
        "## Ejercicio 1:\n",
        "\n",
        "Muestre que la probabilidad de medir el primero qubit en el estado $|0\\rangle$ es $$\\tfrac{1}{2}(1+{\\rm Re}\\,\\langle\\psi|\\hat U|\\psi\\rangle)$$\n",
        "\n",
        "*Hint:* $$\\langle\\psi|\\hat U^\\dagger|\\psi\\rangle=(\\langle\\psi|\\hat U|\\psi\\rangle)^*$$"
      ],
      "metadata": {
        "id": "cKJHg-vlBP7k"
      }
    },
    {
      "cell_type": "code",
      "source": [
        "def ht_circuit():\n",
        "\n",
        "    qr = QuantumRegister(2)\n",
        "    cr = ClassicalRegister(1)\n",
        "    qc = QuantumCircuit(qr, cr)\n",
        "\n",
        "    qc.h(qr[0])\n",
        "\n",
        "    # Coloque una compuerta controlada. En este caso, usamos CNOT, pruebe con\n",
        "    # otras compuertas\n",
        "\n",
        "    qc.cx(qr[0], qr[1])\n",
        "\n",
        "    ##########################################################################\n",
        "\n",
        "    qc.h(qr[0])\n",
        "\n",
        "    qc.measure(qr[0], cr[0])\n",
        "\n",
        "    return qc"
      ],
      "metadata": {
        "id": "OprRcp39BWLH"
      },
      "execution_count": 3,
      "outputs": []
    },
    {
      "cell_type": "code",
      "source": [
        "hadamard_test = ht_circuit()\n",
        "hadamard_test.draw('mpl')"
      ],
      "metadata": {
        "colab": {
          "base_uri": "https://localhost:8080/",
          "height": 255
        },
        "id": "Dq6Q2vz9BbRi",
        "outputId": "830fdfcd-6c97-4a65-89b9-f3179572cb6e"
      },
      "execution_count": 4,
      "outputs": [
        {
          "output_type": "execute_result",
          "data": {
            "text/plain": [
              "<Figure size 472.747x284.278 with 1 Axes>"
            ],
            "image/png": "[encoded data removed]"
          },
          "metadata": {},
          "execution_count": 4
        }
      ]
    },
    {
      "cell_type": "code",
      "source": [
        "shots = 1024\n",
        "counts = backend.run(hadamard_test, shots=shots).result().get_counts()\n",
        "\n",
        "probability_0 = counts.get('0')/shots\n",
        "\n",
        "print(\"Probability of measuring the first qubit in |0> = \",probability_0)"
      ],
      "metadata": {
        "colab": {
          "base_uri": "https://localhost:8080/"
        },
        "id": "r_jJHbkcBdrL",
        "outputId": "b98b4245-8443-4cd3-c846-e5e76a514784"
      },
      "execution_count": 5,
      "outputs": [
        {
          "output_type": "stream",
          "name": "stdout",
          "text": [
            "Probability of measuring the first qubit in |0> =  0.5126953125\n"
          ]
        }
      ]
    },
    {
      "cell_type": "code",
      "source": [
        "plot_histogram(counts)"
      ],
      "metadata": {
        "colab": {
          "base_uri": "https://localhost:8080/",
          "height": 429
        },
        "id": "SLf22-aVBgfT",
        "outputId": "befc0b1b-efa9-4a9b-996d-d9445abdbd36"
      },
      "execution_count": 6,
      "outputs": [
        {
          "output_type": "execute_result",
          "data": {
            "text/plain": [
              "<Figure size 640x480 with 1 Axes>"
            ],
            "image/png": "[encoded data removed]"
          },
          "metadata": {},
          "execution_count": 6
        }
      ]
    },
    {
      "cell_type": "markdown",
      "source": [
        "## Ejercicio 2:\n",
        "\n",
        "Usando los resultados anteriores, calcule la parte real del valor esperado del operador $\\hat U$ (en el programa original, $\\hat U =\\hat X$)."
      ],
      "metadata": {
        "id": "9LkcnduuBild"
      }
    },
    {
      "cell_type": "code",
      "source": [
        "def ev(probability_0):\n",
        "\n",
        "  # Complete la función para obtener el valor esperado de U\n",
        "\n",
        "\n",
        "  ############################################################\n",
        "\n",
        "  return expectation_value\n",
        "\n",
        "print(\"Re (<U>) = \",ev(probability_0))"
      ],
      "metadata": {
        "colab": {
          "base_uri": "https://localhost:8080/"
        },
        "id": "ZhFrHEeeBmmp",
        "outputId": "9e334670-b0ef-41bd-cb5e-2dee321890a9"
      },
      "execution_count": 7,
      "outputs": [
        {
          "output_type": "stream",
          "name": "stdout",
          "text": [
            "Re (<U>) =  0.025390625\n"
          ]
        }
      ]
    },
    {
      "cell_type": "markdown",
      "source": [
        "## Ejercicio 3:\n",
        "\n",
        "Explique si sus resultados coinciden con la teoría, para CNOT y para la compuerta CRZGate (https://docs.quantum.ibm.com/api/qiskit/qiskit.circuit.library.CRZGate), con el valor de $\\lambda$ de su elección."
      ],
      "metadata": {
        "id": "VoRoE00WBpiK"
      }
    },
    {
      "cell_type": "markdown",
      "source": [
        "## Ejercicio 4:\n",
        "\n",
        "Diseñe un cicrcuito que le permita medir ${\\rm Im}\\,\\langle\\psi|\\hat U|\\psi\\rangle$.\n",
        "\n",
        "*Hint:* encuentre una compuerta que haga uso del número $i$.\n",
        "(https://docs.quantum.ibm.com/api/qiskit)"
      ],
      "metadata": {
        "id": "b9GLkSDqB3ko"
      }
    },
    {
      "cell_type": "code",
      "source": [],
      "metadata": {
        "id": "lrdIE4U_E6ax"
      },
      "execution_count": null,
      "outputs": []
    },
    {
      "cell_type": "markdown",
      "source": [
        "## Ejercicio 5:\n",
        "\n",
        "Muestre que el circuito del Ejercicio 4 resulta la probabilidad del estado $|0\\rangle$, $$P_0=\\tfrac{1}{4}\\big(2-i\\langle\\psi|\\hat U|\\psi\\rangle+i\\langle\\psi|\\hat U^\\dagger|\\psi\\rangle\\big),$$\n",
        "y la probabilidad del estado $|1\\rangle$ es\n",
        "$$P_1=\\tfrac{1}{4}\\big(2+i\\langle\\psi|\\hat U|\\psi\\rangle-i\\langle\\psi|\\hat U^\\dagger|\\psi\\rangle\\big),$$ de tak suerte que\n",
        "$$P_0-P_1=-i\\frac{\\langle\\psi|\\hat U|\\psi\\rangle-\\langle\\psi|\\hat U^\\dagger|\\psi\\rangle}{2}={\\rm Im}\\,\\langle\\psi|\\hat U|\\psi\\rangle$$"
      ],
      "metadata": {
        "id": "DJkFqptHB-J6"
      }
    },
    {
      "cell_type": "code",
      "source": [],
      "metadata": {
        "id": "OcOGyuoBCA5T"
      },
      "execution_count": null,
      "outputs": []
    }
  ]
}