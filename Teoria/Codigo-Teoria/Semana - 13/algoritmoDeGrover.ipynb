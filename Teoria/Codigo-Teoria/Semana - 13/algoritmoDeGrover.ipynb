{
  "nbformat": 4,
  "nbformat_minor": 0,
  "metadata": {
    "colab": {
      "provenance": []
    },
    "kernelspec": {
      "name": "python3",
      "display_name": "Python 3"
    },
    "language_info": {
      "name": "python"
    }
  },
  "cells": [
    {
      "cell_type": "code",
      "execution_count": 2,
      "metadata": {
        "colab": {
          "base_uri": "https://localhost:8080/"
        },
        "id": "jixwm9cp3BPi",
        "outputId": "e18cd971-02a6-414d-b5f5-80d50d98892e"
      },
      "outputs": [
        {
          "output_type": "stream",
          "name": "stdout",
          "text": [
            "Collecting qiskit\n",
            "  Downloading qiskit-1.2.4-cp38-abi3-manylinux_2_17_x86_64.manylinux2014_x86_64.whl.metadata (12 kB)\n",
            "Collecting rustworkx>=0.15.0 (from qiskit)\n",
            "  Downloading rustworkx-0.15.1-cp38-abi3-manylinux_2_17_x86_64.manylinux2014_x86_64.whl.metadata (9.9 kB)\n",
            "Requirement already satisfied: numpy<3,>=1.17 in /usr/local/lib/python3.10/dist-packages (from qiskit) (1.26.4)\n",
            "Requirement already satisfied: scipy>=1.5 in /usr/local/lib/python3.10/dist-packages (from qiskit) (1.13.1)\n",
            "Requirement already satisfied: sympy>=1.3 in /usr/local/lib/python3.10/dist-packages (from qiskit) (1.13.1)\n",
            "Collecting dill>=0.3 (from qiskit)\n",
            "  Downloading dill-0.3.9-py3-none-any.whl.metadata (10 kB)\n",
            "Requirement already satisfied: python-dateutil>=2.8.0 in /usr/local/lib/python3.10/dist-packages (from qiskit) (2.8.2)\n",
            "Collecting stevedore>=3.0.0 (from qiskit)\n",
            "  Downloading stevedore-5.3.0-py3-none-any.whl.metadata (2.3 kB)\n",
            "Requirement already satisfied: typing-extensions in /usr/local/lib/python3.10/dist-packages (from qiskit) (4.12.2)\n",
            "Collecting symengine<0.14,>=0.11 (from qiskit)\n",
            "  Downloading symengine-0.13.0-cp310-cp310-manylinux_2_17_x86_64.manylinux2014_x86_64.whl.metadata (1.2 kB)\n",
            "Requirement already satisfied: six>=1.5 in /usr/local/lib/python3.10/dist-packages (from python-dateutil>=2.8.0->qiskit) (1.16.0)\n",
            "Collecting pbr>=2.0.0 (from stevedore>=3.0.0->qiskit)\n",
            "  Downloading pbr-6.1.0-py2.py3-none-any.whl.metadata (3.4 kB)\n",
            "Requirement already satisfied: mpmath<1.4,>=1.1.0 in /usr/local/lib/python3.10/dist-packages (from sympy>=1.3->qiskit) (1.3.0)\n",
            "Downloading qiskit-1.2.4-cp38-abi3-manylinux_2_17_x86_64.manylinux2014_x86_64.whl (4.8 MB)\n",
            "\u001b[2K   \u001b[90m━━━━━━━━━━━━━━━━━━━━━━━━━━━━━━━━━━━━━━━━\u001b[0m \u001b[32m4.8/4.8 MB\u001b[0m \u001b[31m33.5 MB/s\u001b[0m eta \u001b[36m0:00:00\u001b[0m\n",
            "\u001b[?25hDownloading dill-0.3.9-py3-none-any.whl (119 kB)\n",
            "\u001b[2K   \u001b[90m━━━━━━━━━━━━━━━━━━━━━━━━━━━━━━━━━━━━━━━━\u001b[0m \u001b[32m119.4/119.4 kB\u001b[0m \u001b[31m11.0 MB/s\u001b[0m eta \u001b[36m0:00:00\u001b[0m\n",
            "\u001b[?25hDownloading rustworkx-0.15.1-cp38-abi3-manylinux_2_17_x86_64.manylinux2014_x86_64.whl (2.0 MB)\n",
            "\u001b[2K   \u001b[90m━━━━━━━━━━━━━━━━━━━━━━━━━━━━━━━━━━━━━━━━\u001b[0m \u001b[32m2.0/2.0 MB\u001b[0m \u001b[31m37.4 MB/s\u001b[0m eta \u001b[36m0:00:00\u001b[0m\n",
            "\u001b[?25hDownloading stevedore-5.3.0-py3-none-any.whl (49 kB)\n",
            "\u001b[2K   \u001b[90m━━━━━━━━━━━━━━━━━━━━━━━━━━━━━━━━━━━━━━━━\u001b[0m \u001b[32m49.7/49.7 kB\u001b[0m \u001b[31m2.8 MB/s\u001b[0m eta \u001b[36m0:00:00\u001b[0m\n",
            "\u001b[?25hDownloading symengine-0.13.0-cp310-cp310-manylinux_2_17_x86_64.manylinux2014_x86_64.whl (49.7 MB)\n",
            "\u001b[2K   \u001b[90m━━━━━━━━━━━━━━━━━━━━━━━━━━━━━━━━━━━━━━━━\u001b[0m \u001b[32m49.7/49.7 MB\u001b[0m \u001b[31m9.7 MB/s\u001b[0m eta \u001b[36m0:00:00\u001b[0m\n",
            "\u001b[?25hDownloading pbr-6.1.0-py2.py3-none-any.whl (108 kB)\n",
            "\u001b[2K   \u001b[90m━━━━━━━━━━━━━━━━━━━━━━━━━━━━━━━━━━━━━━━━\u001b[0m \u001b[32m108.5/108.5 kB\u001b[0m \u001b[31m6.4 MB/s\u001b[0m eta \u001b[36m0:00:00\u001b[0m\n",
            "\u001b[?25hInstalling collected packages: symengine, rustworkx, pbr, dill, stevedore, qiskit\n",
            "Successfully installed dill-0.3.9 pbr-6.1.0 qiskit-1.2.4 rustworkx-0.15.1 stevedore-5.3.0 symengine-0.13.0\n",
            "Collecting pylatexenc\n",
            "  Downloading pylatexenc-2.10.tar.gz (162 kB)\n",
            "\u001b[2K     \u001b[90m━━━━━━━━━━━━━━━━━━━━━━━━━━━━━━━━━━━━━━━━\u001b[0m \u001b[32m162.6/162.6 kB\u001b[0m \u001b[31m5.4 MB/s\u001b[0m eta \u001b[36m0:00:00\u001b[0m\n",
            "\u001b[?25h  Preparing metadata (setup.py) ... \u001b[?25l\u001b[?25hdone\n",
            "Building wheels for collected packages: pylatexenc\n",
            "  Building wheel for pylatexenc (setup.py) ... \u001b[?25l\u001b[?25hdone\n",
            "  Created wheel for pylatexenc: filename=pylatexenc-2.10-py3-none-any.whl size=136816 sha256=e6a9c8be61496bed2eb2d662ef9044e9ddd3a4e8c158439a32acc8446839c35a\n",
            "  Stored in directory: /root/.cache/pip/wheels/d3/31/8b/e09b0386afd80cfc556c00408c9aeea5c35c4d484a9c762fd5\n",
            "Successfully built pylatexenc\n",
            "Installing collected packages: pylatexenc\n",
            "Successfully installed pylatexenc-2.10\n",
            "Collecting qiskit-aer\n",
            "  Downloading qiskit_aer-0.15.1-cp310-cp310-manylinux_2_17_x86_64.manylinux2014_x86_64.whl.metadata (8.0 kB)\n",
            "Requirement already satisfied: qiskit>=1.1.0 in /usr/local/lib/python3.10/dist-packages (from qiskit-aer) (1.2.4)\n",
            "Requirement already satisfied: numpy>=1.16.3 in /usr/local/lib/python3.10/dist-packages (from qiskit-aer) (1.26.4)\n",
            "Requirement already satisfied: scipy>=1.0 in /usr/local/lib/python3.10/dist-packages (from qiskit-aer) (1.13.1)\n",
            "Requirement already satisfied: psutil>=5 in /usr/local/lib/python3.10/dist-packages (from qiskit-aer) (5.9.5)\n",
            "Requirement already satisfied: rustworkx>=0.15.0 in /usr/local/lib/python3.10/dist-packages (from qiskit>=1.1.0->qiskit-aer) (0.15.1)\n",
            "Requirement already satisfied: sympy>=1.3 in /usr/local/lib/python3.10/dist-packages (from qiskit>=1.1.0->qiskit-aer) (1.13.1)\n",
            "Requirement already satisfied: dill>=0.3 in /usr/local/lib/python3.10/dist-packages (from qiskit>=1.1.0->qiskit-aer) (0.3.9)\n",
            "Requirement already satisfied: python-dateutil>=2.8.0 in /usr/local/lib/python3.10/dist-packages (from qiskit>=1.1.0->qiskit-aer) (2.8.2)\n",
            "Requirement already satisfied: stevedore>=3.0.0 in /usr/local/lib/python3.10/dist-packages (from qiskit>=1.1.0->qiskit-aer) (5.3.0)\n",
            "Requirement already satisfied: typing-extensions in /usr/local/lib/python3.10/dist-packages (from qiskit>=1.1.0->qiskit-aer) (4.12.2)\n",
            "Requirement already satisfied: symengine<0.14,>=0.11 in /usr/local/lib/python3.10/dist-packages (from qiskit>=1.1.0->qiskit-aer) (0.13.0)\n",
            "Requirement already satisfied: six>=1.5 in /usr/local/lib/python3.10/dist-packages (from python-dateutil>=2.8.0->qiskit>=1.1.0->qiskit-aer) (1.16.0)\n",
            "Requirement already satisfied: pbr>=2.0.0 in /usr/local/lib/python3.10/dist-packages (from stevedore>=3.0.0->qiskit>=1.1.0->qiskit-aer) (6.1.0)\n",
            "Requirement already satisfied: mpmath<1.4,>=1.1.0 in /usr/local/lib/python3.10/dist-packages (from sympy>=1.3->qiskit>=1.1.0->qiskit-aer) (1.3.0)\n",
            "Downloading qiskit_aer-0.15.1-cp310-cp310-manylinux_2_17_x86_64.manylinux2014_x86_64.whl (12.3 MB)\n",
            "\u001b[2K   \u001b[90m━━━━━━━━━━━━━━━━━━━━━━━━━━━━━━━━━━━━━━━━\u001b[0m \u001b[32m12.3/12.3 MB\u001b[0m \u001b[31m50.8 MB/s\u001b[0m eta \u001b[36m0:00:00\u001b[0m\n",
            "\u001b[?25hInstalling collected packages: qiskit-aer\n",
            "Successfully installed qiskit-aer-0.15.1\n"
          ]
        }
      ],
      "source": [
        "!pip install qiskit\n",
        "!pip install pylatexenc\n",
        "!pip install qiskit-aer"
      ]
    },
    {
      "cell_type": "code",
      "source": [
        "from typing import List, Optional\n",
        "from qiskit import transpile, QuantumCircuit, QuantumRegister, ClassicalRegister\n",
        "from qiskit.visualization import plot_histogram\n",
        "import warnings\n",
        "warnings.filterwarnings(\"ignore\")\n",
        "import math\n",
        "import numpy as np\n",
        "\n",
        "import matplotlib.pyplot as plt\n",
        "%matplotlib inline\n",
        "import numpy as np\n",
        "\n",
        "\n",
        "from qiskit_aer import AerSimulator\n",
        "backend =  AerSimulator(method='statevector')"
      ],
      "metadata": {
        "id": "UXL9Dg7J3E82"
      },
      "execution_count": 3,
      "outputs": []
    },
    {
      "cell_type": "markdown",
      "source": [
        "#El algoritmo de Grover"
      ],
      "metadata": {
        "id": "HdY6dt3Y3IpR"
      }
    },
    {
      "cell_type": "markdown",
      "source": [
        "## 1. Introducción\n",
        "\n",
        "El algoritmo de Grover puede acelerar un problema de búsqueda no estructurada con una ventaja cyadrática, através de la amplificación de amplitud.\n",
        "\n",
        "Suponga que tiene una lista grande de $N$ elementos. Entre estos elementos hay un elemento con una propiedad única que deseamos localizar; lo llamaremos el *bueno* $w$. Para encontrar a $w$ mediante el cómputo clásico, habría que comprobar en promedio $N/2$ de estas cajas y, en el peor de los casos, las $N$ de ellas. Sin embargo, en una computadora cuántica, podemos encontrar el elemento marcado en aproximadamente $\\sqrt{N}$ pasos con el truco de amplificación de amplitud de Grover."
      ],
      "metadata": {
        "id": "OgPJn5Ed3RXA"
      }
    },
    {
      "cell_type": "markdown",
      "source": [
        "### 1.1 Descripción general del algoritmo\n",
        "\n",
        "El algoritmo de Grover consta de tres pasos principales: preparación del estado, el oráculo y el operador de Grover. La preparación del estado es donde creamos el espacio de búsqueda, que son todos los casos posibles que podría tomar la respuesta. El oráculo marca la respuesta que estamos buscando, y el operador de Grover magnifica la respuesta, para que pueda destacarse y medirse al final del algoritmo.\n",
        "\n",
        "Antes de mirar la lista de elementos, no tenemos idea de dónde está el elemento marcado. Por lo tanto, cualquier suposición de su ubicación es tan buena como cualquier otra: $$|s \\rangle = \\frac{1}{\\sqrt{N}} \\sum_{x = 0}^{N -1} | x\\rangle.$$\n",
        "\n",
        "Si en este punto tuviéramos que medir en la base computacional, nuestras posibilidades de adivinar el valor correcto $w$ son, por lo tanto, $1$ en $2^n$, como era de esperar. Por lo tanto, en promedio, necesitaríamos intentar aproximadamente $N/2 = 2^{n-1}$ veces para adivinar el elemento correcto.\n",
        "\n",
        "Usamos entonces la amplificación de amplitud. Este procedimiento extiende (amplifica) la amplitud del elemento marcado, lo que reduce la amplitud de los otros elementos, de modo que la medición del estado final devolverá el elemento correcto con casi certeza.\n",
        "\n",
        "Este algoritmo tiene una buena interpretación geométrica en términos de dos reflexiones, que generan una rotación en un plano bidimensional. Los únicos dos estados especiales que debemos considerar son el bueno $| w \\rangle$ y la superposición uniforme $| s \\rangle$. Estos dos vectores abarcan un plano bidimensional en el espacio vectorial ${\\mathbb{C}^N}$. Introducimos un estado adicional $|s'\\rangle$ que se encuentra en el espacio de estos dos vectores, que es perpendicular a $| w \\rangle$ y se obtiene a partir de $|s \\rangle$ eliminando $| w \\rangle$ y reescalando.\n",
        "\n",
        "**Paso 1**: El procedimiento de amplificación de amplitud comienza con la superposición uniforme $| s \\rangle$, que se construye a partir de $| s \\rangle = H^{\\otimes n} | 0 \\rangle^n$.\n",
        "\n",
        "**Paso 2**: Aplicamos la reflexión del oráculo $U_f$ al estado $|s\\rangle$.\n",
        "\n",
        "Esto corresponde a una reflexión del estado $|s\\rangle$ sobre $|s'\\rangle$. Esta transformación significa que la amplitud frente al estado $|w\\rangle$ se vuelve negativa, lo que a su vez significa que la amplitud promedio se ha reducido.\n",
        "\n",
        "**Paso 3**: Ahora aplicamos una reflexión adicional ($U_s$) sobre el estado $|s\\rangle$: $U_s = 2|s\\rangle\\langle s| - \\mathbb{1}$. Esta transformación asigna el estado a $U_s U_f| s \\rangle$ y completa la transformación.\n",
        "\n",
        "\n",
        "Dos reflexiones siempre corresponden a una rotación. La transformación $U_s U_f$ hace rotar el estado inicial $|s\\rangle$ para acercarlo al bueno $|w\\rangle$. La acción de la reflexión $U_s$ en el diagrama de barras de amplitud se puede entender como una reflexión sobre la amplitud media. Dado que la amplitud media se ha reducido por la primera reflexión, esta transformación aumenta la amplitud negativa de $|w\\rangle$ a aproximadamente tres veces su valor original, mientras que disminuye las otras amplitudes. Luego pasamos al **paso 2** para repetir la aplicación. Este procedimiento se repetirá varias veces para dar con el ganador.\n",
        "\n",
        "Después de $t$ pasos estaremos en el estado $|\\psi_t\\rangle$ donde: $| \\psi_t \\rangle = (U_s U_f)^t | s \\rangle$.\n",
        "\n",
        "¿Cuántas veces necesitamos aplicar la rotación? Resulta que aproximadamente $\\sqrt{N}$ rotaciones son suficientes. Esto se vuelve claro cuando observamos las amplitudes del estado $| \\psi \\rangle$. Podemos ver que la amplitud de $| w \\rangle$ crece linealmente con el número de aplicaciones $\\sim t N^{-1/2}$. Sin embargo, dado que estamos tratando con amplitudes y no con probabilidades, la dimensión del espacio vectorial entra como una raíz cuadrada. Por lo tanto, es la amplitud, y no solo la probabilidad, lo que se está amplificando en este procedimiento.\n",
        "\n",
        "Para calcular el número de rotaciones necesitamos saber el tamaño del espacio de búsqueda y el número de respuestas que buscamos. Para obtener el número óptimo de iteraciones $t$, podemos seguir la ecuación:\n",
        "\n",
        "$$\n",
        "t = \\lfloor\\frac{\\pi}{4}\\sqrt{N}\\rfloor\n",
        "$$\n",
        "\n",
        "Donde N es el tamaño del espacio de búsqueda."
      ],
      "metadata": {
        "id": "Ub9spLa-4AEE"
      }
    },
    {
      "cell_type": "markdown",
      "source": [
        "## 1.2 Grover paso a paso\n",
        "\n",
        "## 1.2.1 Preparación del espacio de búsqueda\n",
        "\n",
        "El primer paso del algoritmo de Grover es la preparación del estado inicial. El espacio de búsqueda son todos los valores posibles que necesitamos buscar para encontrar la respuesta que queremos. Por ejemplo, si tenemos 3 qubits, nuestra lista son los estados $|000\\rangle, |001\\rangle, \\dots |111\\rangle$ (es decir, los estados $|0\\rangle \\rightarrow |7\\rangle$). Por lo tanto, en este caso, el tamaño de nuestro espacio de búsqueda será $N = 2^{3} = 8$.\n"
      ],
      "metadata": {
        "id": "XoZu4yGI69di"
      }
    },
    {
      "cell_type": "markdown",
      "source": [
        "## 1.2.2 Creación del Oráculo\n",
        "\n",
        "El segundo paso del algoritmo de Grover es el oráculo. Los oráculos añaden una fase negativa a los estados de la solución para que puedan destacarse del resto y ser medidos. Es decir, para cualquier estado $|x\\rangle$ en la base computacional:\n",
        "\n",
        "$$\n",
        "U_\\omega|x\\rangle = \\bigg\\{\n",
        "\\begin{aligned}\n",
        "\\phantom{-}|x\\rangle \\quad \\text{si} \\; x \\neq \\omega \\\\\n",
        "-|x\\rangle \\quad \\text{si} \\; x = \\omega \\\\\n",
        "\\end{aligned}\n",
        "$$\n",
        "\n",
        "Este oráculo será una matriz diagonal, donde la entrada que corresponda al elemento marcado tendrá una fase negativa. Por ejemplo, si tenemos tres qubits y $\\omega = \\text{101}$, nuestro oráculo tendrá la matriz:\n",
        "\n",
        "$$\n",
        "U_\\omega =\n",
        "\\begin{pmatrix}\n",
        "1 & 0 & 0 & 0 & 0 & 0 & 0 & 0 \\\\\n",
        "0 & 1 & 0 & 0 & 0 & 0 & 0 & 0 \\\\\n",
        "0 & 0 & 1 & 0 & 0 & 0 & 0 & 0 \\\\\n",
        "0 & 0 & 0 & 1 & 0 & 0 & 0 & 0 \\\\\n",
        "0 & 0 & 0 & 0 & 1 & 0 & 0 & 0 \\\\\n",
        "0 & 0 & 0 & 0 & 0 & -1 & 0 & 0 \\\\\n",
        "0 & 0 & 0 & 0 & 0 & 0 & 1 & 0 \\\\\n",
        "0 & 0 & 0 & 0 & 0 & 0 & 0 & 1 \\\\\n",
        "\\end{pmatrix}\n",
        "$$\n",
        "\n",
        "Podemos crear una función $f$ que tome una solución propuesta $x$ y devuelva $f(x) = 0$ si $x$ no es una solución ($x \\neq \\omega$) y $f(x) = 1$ para una solución válida ($x = \\omega$). Nuestro oráculo puede describirse entonces como:\n",
        "\n",
        "$$\n",
        "U_\\omega|x\\rangle = (-1)^{f(x)}|x\\rangle\n",
        "$$\n",
        "\n",
        "y la matriz del oráculo será una matriz diagonal de la forma:\n",
        "\n",
        "$$\n",
        "U_\\omega =\n",
        "\\begin{bmatrix}\n",
        "(-1)^{f(0)} & 0 & \\cdots & 0 \\\\\n",
        "0 & (-1)^{f(1)} & \\cdots & 0 \\\\\n",
        "\\vdots & 0 & \\ddots & \\vdots \\\\\n",
        "0 & 0 & \\cdots & (-1)^{f(2^n-1)} \\\\\n",
        "\\end{bmatrix}\n",
        "$$\n",
        "\n",
        "Crearemos ejemplos de oráculos en los que conocemos de antemano el valor de $\\omega$ y no nos preocuparemos de si estos oráculos son útiles o no."
      ],
      "metadata": {
        "id": "eyxkqmNs86Bo"
      }
    },
    {
      "cell_type": "markdown",
      "source": [
        "## 2. Ejemplo: 2 qubits\n",
        "\n",
        "En este caso, $N=4$, por lo que sólo se requiere una rotación para llevar el estado inicial $|s\\rangle$ al ganador $|w\\rangle$:\n",
        "\n",
        "1. En el caso $N=4$ tenemos\n",
        "\n",
        "$$\\theta = \\arcsin \\frac{1}{2} = \\frac{\\pi}{6}.$$\n",
        "\n",
        "2. Después de $t$ pasos, tenemos\n",
        "\n",
        "$$(U_s U_\\omega)^t | s \\rangle = \\sin \\theta_t | \\omega \\rangle + \\cos \\theta_t | s' \\rangle ,$$\n",
        "\n",
        "donde\n",
        "\n",
        "$$\\theta_t = (2t+1)\\theta.$$\n",
        "\n",
        "3. Para obtener $| \\omega \\rangle$ necesitamos $\\theta_t = \\frac{\\pi}{2}$, que con $\\theta=\\frac{\\pi}{6}$ insertado arriba da como resultado $t=1$. Esto implica que después de una rotación de $t=1$ se encuentra el elemento buscado.\n",
        "\n",
        "Veamos un ejemplo usando un oráculo específico.\n",
        "\n",
        "#### Oráculo para $| \\omega \\rangle = | 11 \\rangle$\n",
        "Veamos el caso $| w \\rangle = | 11 \\rangle$. El oráculo $U_\\omega$ en este caso actúa de la siguiente manera:\n",
        "\n",
        "$$U_\\omega | s \\rangle = U_\\omega \\frac{1}{2}\\left( |00\\rangle + |01\\rangle + |10\\rangle + |11\\rangle \\right) = \\frac{1}{2}\\left( |00\\rangle + |01\\rangle + |10\\rangle - |11\\rangle \\right).$$\n",
        "\n",
        "o:\n",
        "\n",
        "$$\n",
        "U_\\omega =\n",
        "\\begin{bmatrix}\n",
        "1 & 0 & 0 & 0 \\\\\n",
        "0 & 1 & 0 & 0 \\\\\n",
        "0 & 0 & 1 & 0 \\\\\n",
        "0 & 0 & 0 & -1 \\\\\n",
        "\\end{bmatrix}\n",
        "$$\n",
        "\n",
        "que puede reconocer como (**Ejercicio 1**) la compuerta **¿?**\n",
        "\n",
        "#### Reflexión $U_s$\n",
        "\n",
        "Para completar el circuito, necesitamos implementar la reflexión adicional $U_s = 2|s\\rangle\\langle s| - \\mathbb{1}$. Como se trata de una reflexión sobre $|s\\rangle$, queremos agregar una fase negativa a cada estado ortogonal a $|s\\rangle$.\n",
        "\n",
        "Una forma de hacer esto es usar la operación que transforma el estado $|s\\rangle \\rightarrow |0\\rangle$, que ya sabemos que es la puerta Hadamard aplicada a cada qubit:\n",
        "\n",
        "$$H^{\\otimes n}|s\\rangle = |0\\rangle$$\n",
        "\n",
        "Luego aplicamos un circuito que agrega una fase negativa a los estados ortogonales a $|0\\rangle$:\n",
        "\n",
        "$$U_0 \\frac{1}{2}\\left( \\lvert 00 \\rangle + \\lvert 01 \\rangle + \\lvert 10 \\rangle + \\lvert 11 \\rangle \\right) = \\frac{1}{2}\\left( \\lvert 00 \\rangle - \\lvert 01 \\rangle - \\lvert 10 \\rangle - \\lvert 11 \\rangle \\right)$$\n",
        "\n",
        "es decir, los signos de cada estado se invierten excepto $\\lvert 00 \\rangle$.\n",
        "\n",
        "**Ejercicio 2:** Encuentre el circuito que hace esa operación.\n",
        "\n",
        "Finalmente, realizamos la operación que transforma el estado $|0\\rangle \\rightarrow |s\\rangle$ (la compuerta H nuevamente):\n",
        "\n",
        "$$H^{\\otimes n}U_0 H^{\\otimes n} = U_s$$\n",
        "\n",
        "### 2.1 Implementación de Qiskit\n",
        "\n",
        "Ahora implementamos el algoritmo de Grover para el caso anterior de 2 qubits para $\\lvert w \\rangle = |11\\rangle$."
      ],
      "metadata": {
        "id": "YR-_WRZO9Rm7"
      }
    },
    {
      "cell_type": "code",
      "source": [
        "## Preparamos el circuito de dos qubits\n",
        "\n",
        "n = 2\n",
        "grover_circuit = QuantumCircuit(n)"
      ],
      "metadata": {
        "id": "27IGMnPxD4pT"
      },
      "execution_count": 3,
      "outputs": []
    },
    {
      "cell_type": "code",
      "source": [
        "# Creamos una función que, para n qubits, genere el estado inicial\n",
        "\n",
        "def initialize_s(qc, qubits):\n",
        "    for q in qubits:\n",
        "        qc.h(q)\n",
        "    qc.barrier()\n",
        "    return qc"
      ],
      "metadata": {
        "id": "Bwqi-lgGEHXk"
      },
      "execution_count": 4,
      "outputs": []
    },
    {
      "cell_type": "code",
      "source": [
        "grover_circuit = initialize_s(grover_circuit, [0,1])\n",
        "grover_circuit.draw('mpl')"
      ],
      "metadata": {
        "colab": {
          "base_uri": "https://localhost:8080/",
          "height": 191
        },
        "id": "Af5to_z5EPsi",
        "outputId": "1b57eec1-26fc-4c86-f3da-062ed2a5ed4f"
      },
      "execution_count": 5,
      "outputs": [
        {
          "output_type": "execute_result",
          "data": {
            "text/plain": [
              "<Figure size 287.294x200.667 with 1 Axes>"
            ],
            "image/png": "[encoded data removed]"
          },
          "metadata": {},
          "execution_count": 5
        }
      ]
    },
    {
      "cell_type": "markdown",
      "source": [
        "**Ejercicio 3:** aplique el oráculo tal que $|\\omega\\rangle=|11\\rangle$"
      ],
      "metadata": {
        "id": "yF6aOJnoETTw"
      }
    },
    {
      "cell_type": "code",
      "source": [
        "grover_circuit.cz(0,1) # Oracle\n",
        "grover_circuit.barrier()\n",
        "grover_circuit.draw('mpl')"
      ],
      "metadata": {
        "colab": {
          "base_uri": "https://localhost:8080/",
          "height": 191
        },
        "id": "x7S5p6dmEkHV",
        "outputId": "95fb7ec7-ee45-4f0c-f85f-e30f979af56a"
      },
      "execution_count": 6,
      "outputs": [
        {
          "output_type": "execute_result",
          "data": {
            "text/plain": [
              "<Figure size 454.517x200.667 with 1 Axes>"
            ],
            "image/png": "[encoded data removed]"
          },
          "metadata": {},
          "execution_count": 6
        }
      ]
    },
    {
      "cell_type": "markdown",
      "source": [
        "**Ejercicio 4:** aplique el operador de Grover, $G=HU_0HU_s$"
      ],
      "metadata": {
        "id": "YnQV7BJsEoHH"
      }
    },
    {
      "cell_type": "code",
      "source": [
        "grover_circuit.h([0,1])\n",
        "grover_circuit.z([0,1])\n",
        "grover_circuit.cz(0,1)\n",
        "grover_circuit.h([0,1])\n",
        "grover_circuit.barrier()\n",
        "grover_circuit.measure_all()\n",
        "grover_circuit.draw('mpl')"
      ],
      "metadata": {
        "colab": {
          "base_uri": "https://localhost:8080/",
          "height": 255
        },
        "id": "U2oG4E-nEzOC",
        "outputId": "99fd4ea1-5cb2-4235-9f2e-f2637c5a044a"
      },
      "execution_count": 7,
      "outputs": [
        {
          "output_type": "execute_result",
          "data": {
            "text/plain": [
              "<Figure size 1165.66x284.278 with 1 Axes>"
            ],
            "image/png": "[encoded data removed]"
          },
          "metadata": {},
          "execution_count": 7
        }
      ]
    },
    {
      "cell_type": "markdown",
      "source": [
        "#### Simulamos el circuito"
      ],
      "metadata": {
        "id": "w4NFgIIUE6MZ"
      }
    },
    {
      "cell_type": "code",
      "source": [
        "shots = 1\n",
        "counts = backend.run(grover_circuit, shots=shots).result().get_counts()\n",
        "plot_histogram(counts)"
      ],
      "metadata": {
        "colab": {
          "base_uri": "https://localhost:8080/",
          "height": 176
        },
        "id": "bSfn_xgWGL-H",
        "outputId": "91b40607-2b25-44d0-bd2a-1e2fe24f215a"
      },
      "execution_count": 1,
      "outputs": [
        {
          "output_type": "error",
          "ename": "NameError",
          "evalue": "name 'backend' is not defined",
          "traceback": [
            "\u001b[0;31m---------------------------------------------------------------------------\u001b[0m",
            "\u001b[0;31mNameError\u001b[0m                                 Traceback (most recent call last)",
            "\u001b[0;32m<ipython-input-1-ec9640285194>\u001b[0m in \u001b[0;36m<cell line: 2>\u001b[0;34m()\u001b[0m\n\u001b[1;32m      1\u001b[0m \u001b[0mshots\u001b[0m \u001b[0;34m=\u001b[0m \u001b[0;36m1\u001b[0m\u001b[0;34m\u001b[0m\u001b[0;34m\u001b[0m\u001b[0m\n\u001b[0;32m----> 2\u001b[0;31m \u001b[0mcounts\u001b[0m \u001b[0;34m=\u001b[0m \u001b[0mbackend\u001b[0m\u001b[0;34m.\u001b[0m\u001b[0mrun\u001b[0m\u001b[0;34m(\u001b[0m\u001b[0mgrover_circuit\u001b[0m\u001b[0;34m,\u001b[0m \u001b[0mshots\u001b[0m\u001b[0;34m=\u001b[0m\u001b[0mshots\u001b[0m\u001b[0;34m)\u001b[0m\u001b[0;34m.\u001b[0m\u001b[0mresult\u001b[0m\u001b[0;34m(\u001b[0m\u001b[0;34m)\u001b[0m\u001b[0;34m.\u001b[0m\u001b[0mget_counts\u001b[0m\u001b[0;34m(\u001b[0m\u001b[0;34m)\u001b[0m\u001b[0;34m\u001b[0m\u001b[0;34m\u001b[0m\u001b[0m\n\u001b[0m\u001b[1;32m      3\u001b[0m \u001b[0mplot_histogram\u001b[0m\u001b[0;34m(\u001b[0m\u001b[0mcounts\u001b[0m\u001b[0;34m)\u001b[0m\u001b[0;34m\u001b[0m\u001b[0;34m\u001b[0m\u001b[0m\n",
            "\u001b[0;31mNameError\u001b[0m: name 'backend' is not defined"
          ]
        }
      ]
    },
    {
      "cell_type": "markdown",
      "source": [
        "#### Ejecutamos en hardware cuántico"
      ],
      "metadata": {
        "id": "cn5ExZJ9GT6P"
      }
    },
    {
      "cell_type": "code",
      "source": [
        "!pip install qiskit-ibm-runtime"
      ],
      "metadata": {
        "colab": {
          "base_uri": "https://localhost:8080/"
        },
        "id": "UojzAf7PH3He",
        "outputId": "9e075fcb-0ba5-44fe-d27e-0063948cce5f"
      },
      "execution_count": 9,
      "outputs": [
        {
          "output_type": "stream",
          "name": "stdout",
          "text": [
            "Collecting qiskit-ibm-runtime\n",
            "  Downloading qiskit_ibm_runtime-0.33.2-py3-none-any.whl.metadata (19 kB)\n",
            "Requirement already satisfied: requests>=2.19 in /usr/local/lib/python3.10/dist-packages (from qiskit-ibm-runtime) (2.32.3)\n",
            "Collecting requests-ntlm>=1.1.0 (from qiskit-ibm-runtime)\n",
            "  Downloading requests_ntlm-1.3.0-py3-none-any.whl.metadata (2.4 kB)\n",
            "Requirement already satisfied: numpy>=1.13 in /usr/local/lib/python3.10/dist-packages (from qiskit-ibm-runtime) (1.26.4)\n",
            "Requirement already satisfied: urllib3>=1.21.1 in /usr/local/lib/python3.10/dist-packages (from qiskit-ibm-runtime) (2.2.3)\n",
            "Requirement already satisfied: python-dateutil>=2.8.0 in /usr/local/lib/python3.10/dist-packages (from qiskit-ibm-runtime) (2.8.2)\n",
            "Requirement already satisfied: websocket-client>=1.5.1 in /usr/local/lib/python3.10/dist-packages (from qiskit-ibm-runtime) (1.8.0)\n",
            "Collecting ibm-platform-services>=0.22.6 (from qiskit-ibm-runtime)\n",
            "  Downloading ibm_platform_services-0.59.0-py3-none-any.whl.metadata (9.0 kB)\n",
            "Requirement already satisfied: pydantic>=2.5.0 in /usr/local/lib/python3.10/dist-packages (from qiskit-ibm-runtime) (2.9.2)\n",
            "Requirement already satisfied: qiskit>=1.1.0 in /usr/local/lib/python3.10/dist-packages (from qiskit-ibm-runtime) (1.2.4)\n",
            "Collecting ibm-cloud-sdk-core<4.0.0,>=3.22.0 (from ibm-platform-services>=0.22.6->qiskit-ibm-runtime)\n",
            "  Downloading ibm_cloud_sdk_core-3.22.0-py3-none-any.whl.metadata (8.6 kB)\n",
            "Requirement already satisfied: annotated-types>=0.6.0 in /usr/local/lib/python3.10/dist-packages (from pydantic>=2.5.0->qiskit-ibm-runtime) (0.7.0)\n",
            "Requirement already satisfied: pydantic-core==2.23.4 in /usr/local/lib/python3.10/dist-packages (from pydantic>=2.5.0->qiskit-ibm-runtime) (2.23.4)\n",
            "Requirement already satisfied: typing-extensions>=4.6.1 in /usr/local/lib/python3.10/dist-packages (from pydantic>=2.5.0->qiskit-ibm-runtime) (4.12.2)\n",
            "Requirement already satisfied: six>=1.5 in /usr/local/lib/python3.10/dist-packages (from python-dateutil>=2.8.0->qiskit-ibm-runtime) (1.16.0)\n",
            "Requirement already satisfied: rustworkx>=0.15.0 in /usr/local/lib/python3.10/dist-packages (from qiskit>=1.1.0->qiskit-ibm-runtime) (0.15.1)\n",
            "Requirement already satisfied: scipy>=1.5 in /usr/local/lib/python3.10/dist-packages (from qiskit>=1.1.0->qiskit-ibm-runtime) (1.13.1)\n",
            "Requirement already satisfied: sympy>=1.3 in /usr/local/lib/python3.10/dist-packages (from qiskit>=1.1.0->qiskit-ibm-runtime) (1.13.1)\n",
            "Requirement already satisfied: dill>=0.3 in /usr/local/lib/python3.10/dist-packages (from qiskit>=1.1.0->qiskit-ibm-runtime) (0.3.9)\n",
            "Requirement already satisfied: stevedore>=3.0.0 in /usr/local/lib/python3.10/dist-packages (from qiskit>=1.1.0->qiskit-ibm-runtime) (5.3.0)\n",
            "Requirement already satisfied: symengine<0.14,>=0.11 in /usr/local/lib/python3.10/dist-packages (from qiskit>=1.1.0->qiskit-ibm-runtime) (0.13.0)\n",
            "Requirement already satisfied: charset-normalizer<4,>=2 in /usr/local/lib/python3.10/dist-packages (from requests>=2.19->qiskit-ibm-runtime) (3.4.0)\n",
            "Requirement already satisfied: idna<4,>=2.5 in /usr/local/lib/python3.10/dist-packages (from requests>=2.19->qiskit-ibm-runtime) (3.10)\n",
            "Requirement already satisfied: certifi>=2017.4.17 in /usr/local/lib/python3.10/dist-packages (from requests>=2.19->qiskit-ibm-runtime) (2024.8.30)\n",
            "Requirement already satisfied: cryptography>=1.3 in /usr/local/lib/python3.10/dist-packages (from requests-ntlm>=1.1.0->qiskit-ibm-runtime) (43.0.3)\n",
            "Collecting pyspnego>=0.4.0 (from requests-ntlm>=1.1.0->qiskit-ibm-runtime)\n",
            "  Downloading pyspnego-0.11.2-py3-none-any.whl.metadata (5.4 kB)\n",
            "Requirement already satisfied: cffi>=1.12 in /usr/local/lib/python3.10/dist-packages (from cryptography>=1.3->requests-ntlm>=1.1.0->qiskit-ibm-runtime) (1.17.1)\n",
            "Requirement already satisfied: PyJWT<3.0.0,>=2.8.0 in /usr/local/lib/python3.10/dist-packages (from ibm-cloud-sdk-core<4.0.0,>=3.22.0->ibm-platform-services>=0.22.6->qiskit-ibm-runtime) (2.9.0)\n",
            "Requirement already satisfied: pbr>=2.0.0 in /usr/local/lib/python3.10/dist-packages (from stevedore>=3.0.0->qiskit>=1.1.0->qiskit-ibm-runtime) (6.1.0)\n",
            "Requirement already satisfied: mpmath<1.4,>=1.1.0 in /usr/local/lib/python3.10/dist-packages (from sympy>=1.3->qiskit>=1.1.0->qiskit-ibm-runtime) (1.3.0)\n",
            "Requirement already satisfied: pycparser in /usr/local/lib/python3.10/dist-packages (from cffi>=1.12->cryptography>=1.3->requests-ntlm>=1.1.0->qiskit-ibm-runtime) (2.22)\n",
            "Downloading qiskit_ibm_runtime-0.33.2-py3-none-any.whl (2.9 MB)\n",
            "\u001b[2K   \u001b[90m━━━━━━━━━━━━━━━━━━━━━━━━━━━━━━━━━━━━━━━━\u001b[0m \u001b[32m2.9/2.9 MB\u001b[0m \u001b[31m19.5 MB/s\u001b[0m eta \u001b[36m0:00:00\u001b[0m\n",
            "\u001b[?25hDownloading ibm_platform_services-0.59.0-py3-none-any.whl (340 kB)\n",
            "\u001b[2K   \u001b[90m━━━━━━━━━━━━━━━━━━━━━━━━━━━━━━━━━━━━━━━━\u001b[0m \u001b[32m340.8/340.8 kB\u001b[0m \u001b[31m12.1 MB/s\u001b[0m eta \u001b[36m0:00:00\u001b[0m\n",
            "\u001b[?25hDownloading requests_ntlm-1.3.0-py3-none-any.whl (6.6 kB)\n",
            "Downloading ibm_cloud_sdk_core-3.22.0-py3-none-any.whl (69 kB)\n",
            "\u001b[2K   \u001b[90m━━━━━━━━━━━━━━━━━━━━━━━━━━━━━━━━━━━━━━━━\u001b[0m \u001b[32m69.4/69.4 kB\u001b[0m \u001b[31m1.9 MB/s\u001b[0m eta \u001b[36m0:00:00\u001b[0m\n",
            "\u001b[?25hDownloading pyspnego-0.11.2-py3-none-any.whl (130 kB)\n",
            "\u001b[2K   \u001b[90m━━━━━━━━━━━━━━━━━━━━━━━━━━━━━━━━━━━━━━━━\u001b[0m \u001b[32m130.5/130.5 kB\u001b[0m \u001b[31m3.9 MB/s\u001b[0m eta \u001b[36m0:00:00\u001b[0m\n",
            "\u001b[?25hInstalling collected packages: ibm-cloud-sdk-core, pyspnego, ibm-platform-services, requests-ntlm, qiskit-ibm-runtime\n",
            "Successfully installed ibm-cloud-sdk-core-3.22.0 ibm-platform-services-0.59.0 pyspnego-0.11.2 qiskit-ibm-runtime-0.33.2 requests-ntlm-1.3.0\n"
          ]
        }
      ]
    },
    {
      "cell_type": "code",
      "source": [
        "from qiskit_ibm_runtime import QiskitRuntimeService\n",
        "ibm_quantum_service = QiskitRuntimeService(channel=\"ibm_quantum\", token=\"49992489bd836a0f70ea23cb8fed4a468650bfd9e4e63a429314c4218b676aea3dde538fd3a706b5b98a88f39a40f54a0f256f353f8ae83e4712b7b461c92e29\")\n",
        "from qiskit import QuantumCircuit\n",
        "from qiskit.transpiler.preset_passmanagers import generate_preset_pass_manager\n",
        "from qiskit_ibm_runtime import QiskitRuntimeService, SamplerV2 as Sampler"
      ],
      "metadata": {
        "id": "28DVXI5cH3jl"
      },
      "execution_count": 10,
      "outputs": []
    },
    {
      "cell_type": "code",
      "source": [
        "backend = ibm_quantum_service.least_busy(operational=True, simulator=False)\n",
        "pm = generate_preset_pass_manager(backend=backend, optimization_level=1)\n",
        "isa_circuit = pm.run(grover_circuit)"
      ],
      "metadata": {
        "id": "SQBh8SmHICLh"
      },
      "execution_count": 11,
      "outputs": []
    },
    {
      "cell_type": "code",
      "source": [
        "sampler = Sampler(mode=backend)\n",
        "sampler.options.default_shots = 4096\n",
        "job = sampler.run([isa_circuit])\n",
        "print(f\"Job ID is {job.job_id()}\")\n",
        "pub_result = job.result()[0]\n",
        "print(f\"Counts for the meas output register: {pub_result.data.meas.get_counts()}\")"
      ],
      "metadata": {
        "colab": {
          "base_uri": "https://localhost:8080/"
        },
        "id": "xtVYJ3n9IHcq",
        "outputId": "da240220-47b5-492b-d701-0dcb2f2d4a1e"
      },
      "execution_count": 12,
      "outputs": [
        {
          "output_type": "stream",
          "name": "stdout",
          "text": [
            "Job ID is cwsr6ah997wg008xm9jg\n",
            "Counts for the meas output register: {'10': 145, '11': 3740, '01': 195, '00': 16}\n"
          ]
        }
      ]
    },
    {
      "cell_type": "code",
      "source": [
        "plot_histogram(pub_result.data.meas.get_counts())"
      ],
      "metadata": {
        "colab": {
          "base_uri": "https://localhost:8080/",
          "height": 437
        },
        "id": "PuyMSGjpKS-s",
        "outputId": "93d7fb13-82ff-4962-ac44-a0196aa1ba02"
      },
      "execution_count": 13,
      "outputs": [
        {
          "output_type": "execute_result",
          "data": {
            "text/plain": [
              "<Figure size 640x480 with 1 Axes>"
            ],
            "image/png": "[encoded data removed]"
          },
          "metadata": {},
          "execution_count": 13
        }
      ]
    },
    {
      "cell_type": "markdown",
      "source": [
        "**Ejercicio 4:** Muestre que el iterador de Grover es un operador unitario."
      ],
      "metadata": {
        "id": "98rzmImKIWvu"
      }
    },
    {
      "cell_type": "markdown",
      "source": [
        "#### Construyamos el algoritmo para $n$ qubits"
      ],
      "metadata": {
        "id": "m5qsAOXVKne-"
      }
    },
    {
      "cell_type": "code",
      "source": [
        "## Preparamos el circuito de dos qubits\n",
        "n = 3\n",
        "grover_circuit = QuantumCircuit(n)"
      ],
      "metadata": {
        "id": "sY_LHEKoLBwu"
      },
      "execution_count": 4,
      "outputs": []
    },
    {
      "cell_type": "code",
      "source": [
        "# Creamos una función que, para n qubits, genere el estado inicial\n",
        "\n",
        "def initialize_s(qc, qubits):\n",
        "    for q in qubits:\n",
        "        qc.h(q)\n",
        "    qc.barrier()\n",
        "    return qc"
      ],
      "metadata": {
        "id": "NuUSJy-KLUFn"
      },
      "execution_count": 5,
      "outputs": []
    },
    {
      "cell_type": "markdown",
      "source": [
        "**Paso 1.** Creamos el estado inicial: $H|0\\rangle$"
      ],
      "metadata": {
        "id": "vD7EUZNaMngD"
      }
    },
    {
      "cell_type": "code",
      "source": [
        "qr = QuantumRegister(n)\n",
        "grover_circuit = QuantumCircuit(qr)\n",
        "grover_circuit = initialize_s(grover_circuit, qr)\n",
        "grover_circuit.draw('mpl')"
      ],
      "metadata": {
        "colab": {
          "base_uri": "https://localhost:8080/",
          "height": 255
        },
        "id": "fadl8Ek7LU89",
        "outputId": "83e90411-fcaf-4487-dde4-87056b67f90b"
      },
      "execution_count": 6,
      "outputs": [
        {
          "output_type": "execute_result",
          "data": {
            "text/plain": [
              "<Figure size 305.727x284.278 with 1 Axes>"
            ],
            "image/png": "[encoded data removed]"
          },
          "metadata": {},
          "execution_count": 6
        }
      ]
    },
    {
      "cell_type": "markdown",
      "source": [
        "**Paso 2.** Creamos el oráculo. Buscaremos el estado $|1\\cdots1\\rangle$"
      ],
      "metadata": {
        "id": "2qby9-ELL4tI"
      }
    },
    {
      "cell_type": "code",
      "source": [
        "#Inicializamos el oráculo en forma matricial\n",
        "\n",
        "oracle_matrix=np.identity(2**n)\n",
        "oracle_matrix[2**n-1][2**n-1] = -1\n",
        "oracle_matrix"
      ],
      "metadata": {
        "colab": {
          "base_uri": "https://localhost:8080/"
        },
        "id": "SeWkb8ZpNNIZ",
        "outputId": "ccf39188-2603-48fd-dd7f-7cd6931aea26"
      },
      "execution_count": 7,
      "outputs": [
        {
          "output_type": "execute_result",
          "data": {
            "text/plain": [
              "array([[ 1.,  0.,  0.,  0.,  0.,  0.,  0.,  0.],\n",
              "       [ 0.,  1.,  0.,  0.,  0.,  0.,  0.,  0.],\n",
              "       [ 0.,  0.,  1.,  0.,  0.,  0.,  0.,  0.],\n",
              "       [ 0.,  0.,  0.,  1.,  0.,  0.,  0.,  0.],\n",
              "       [ 0.,  0.,  0.,  0.,  1.,  0.,  0.,  0.],\n",
              "       [ 0.,  0.,  0.,  0.,  0.,  1.,  0.,  0.],\n",
              "       [ 0.,  0.,  0.,  0.,  0.,  0.,  1.,  0.],\n",
              "       [ 0.,  0.,  0.,  0.,  0.,  0.,  0., -1.]])"
            ]
          },
          "metadata": {},
          "execution_count": 7
        }
      ]
    },
    {
      "cell_type": "markdown",
      "source": [
        "\n",
        "**Paso 3.** Creamos el iterador de Grover, $G=HU_0HU_f$, actuando $\\frac{\\pi}{4}\\sqrt{2^n}$ veces."
      ],
      "metadata": {
        "id": "3my2CRwVOATC"
      }
    },
    {
      "cell_type": "code",
      "source": [
        "U0_matrix=-np.identity(2**n)\n",
        "U0_matrix[0][0] = 1\n",
        "\n",
        "for j in range(int(np.floor(np.pi*np.sqrt(2**n)/4.))):\n",
        "\n",
        "    # LLevamos el oráculo al modelo de circuito\n",
        "\n",
        "  grover_circuit.unitary(oracle_matrix, qubits = grover_circuit.qubits, label = \"oracle\")\n",
        "\n",
        "  for i in range(n):\n",
        "          grover_circuit.h(qr[i])\n",
        "\n",
        "\n",
        "  grover_circuit.unitary(U0_matrix, qubits = grover_circuit.qubits, label = \"U_0\")\n",
        "\n",
        "  for i in range(n):\n",
        "          grover_circuit.h(qr[i])\n",
        "\n",
        "grover_circuit.barrier()\n",
        "\n",
        "grover_circuit.measure_all()\n",
        "\n",
        "grover_circuit.draw('mpl')"
      ],
      "metadata": {
        "colab": {
          "base_uri": "https://localhost:8080/",
          "height": 255
        },
        "id": "eo3am486PSLp",
        "outputId": "2c647097-6cad-45d4-b8c9-137002c11a95"
      },
      "execution_count": 8,
      "outputs": [
        {
          "output_type": "execute_result",
          "data": {
            "text/plain": [
              "<Figure size 1583.72x367.889 with 1 Axes>"
            ],
            "image/png": "[encoded data removed]"
          },
          "metadata": {},
          "execution_count": 8
        }
      ]
    },
    {
      "cell_type": "code",
      "source": [
        "from qiskit import transpile\n",
        "\n",
        "grover_circuit_transpiled = transpile(grover_circuit, backend=backend, optimization_level=3)\n",
        "\n",
        "shots = 1000\n",
        "counts = backend.run(grover_circuit_transpiled, shots=shots).result().get_counts()\n",
        "plot_histogram(counts)"
      ],
      "metadata": {
        "colab": {
          "base_uri": "https://localhost:8080/",
          "height": 446
        },
        "id": "ft-gt7XlPn0Y",
        "outputId": "773862a1-7996-4f58-d738-c0db6f55080b"
      },
      "execution_count": 9,
      "outputs": [
        {
          "output_type": "execute_result",
          "data": {
            "text/plain": [
              "<Figure size 640x480 with 1 Axes>"
            ],
            "image/png": "[encoded data removed]"
          },
          "metadata": {},
          "execution_count": 9
        }
      ]
    },
    {
      "cell_type": "code",
      "source": [
        "(np.pi/4.)*np.sqrt(8)"
      ],
      "metadata": {
        "id": "P6PAoClPRRs9"
      },
      "execution_count": null,
      "outputs": []
    },
    {
      "cell_type": "code",
      "source": [
        "U0_matrix"
      ],
      "metadata": {
        "colab": {
          "base_uri": "https://localhost:8080/"
        },
        "id": "8OzXyelJO8-J",
        "outputId": "1da36bb9-a119-4dcb-d5c4-12ef4f9254b0"
      },
      "execution_count": 50,
      "outputs": [
        {
          "output_type": "execute_result",
          "data": {
            "text/plain": [
              "array([[ 1., -0., -0., -0., -0., -0., -0., -0.],\n",
              "       [-0., -1., -0., -0., -0., -0., -0., -0.],\n",
              "       [-0., -0., -1., -0., -0., -0., -0., -0.],\n",
              "       [-0., -0., -0., -1., -0., -0., -0., -0.],\n",
              "       [-0., -0., -0., -0., -1., -0., -0., -0.],\n",
              "       [-0., -0., -0., -0., -0., -1., -0., -0.],\n",
              "       [-0., -0., -0., -0., -0., -0., -1., -0.],\n",
              "       [-0., -0., -0., -0., -0., -0., -0., -1.]])"
            ]
          },
          "metadata": {},
          "execution_count": 50
        }
      ]
    },
    {
      "cell_type": "code",
      "source": [],
      "metadata": {
        "id": "x4VY9l4cRv-m"
      },
      "execution_count": null,
      "outputs": []
    }
  ]
}