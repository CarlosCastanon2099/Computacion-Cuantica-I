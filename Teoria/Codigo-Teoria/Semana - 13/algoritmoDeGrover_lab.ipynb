{
  "nbformat": 4,
  "nbformat_minor": 0,
  "metadata": {
    "colab": {
      "provenance": []
    },
    "kernelspec": {
      "name": "python3",
      "display_name": "Python 3"
    },
    "language_info": {
      "name": "python"
    }
  },
  "cells": [
    {
      "cell_type": "code",
      "execution_count": null,
      "metadata": {
        "id": "5wy7ft3yauDP"
      },
      "outputs": [],
      "source": [
        "!pip install qiskit\n",
        "!pip install pylatexenc\n",
        "!pip install qiskit-aer"
      ]
    },
    {
      "cell_type": "code",
      "source": [
        "from typing import List, Optional\n",
        "from qiskit import transpile, QuantumCircuit, QuantumRegister, ClassicalRegister\n",
        "from qiskit.visualization import plot_histogram\n",
        "import warnings\n",
        "warnings.filterwarnings(\"ignore\")\n",
        "import math\n",
        "import numpy as np\n",
        "\n",
        "import matplotlib.pyplot as plt\n",
        "%matplotlib inline\n",
        "import numpy as np\n",
        "\n",
        "\n",
        "from qiskit_aer import AerSimulator\n",
        "backend =  AerSimulator(method='statevector')"
      ],
      "metadata": {
        "id": "DtSIQfL7azsG"
      },
      "execution_count": null,
      "outputs": []
    },
    {
      "cell_type": "markdown",
      "source": [
        "#El algoritmo de Grover"
      ],
      "metadata": {
        "id": "vIM0z1qda2gE"
      }
    },
    {
      "cell_type": "markdown",
      "source": [
        "## 1. Introducción\n",
        "\n",
        "El algoritmo de Grover puede acelerar un problema de búsqueda no estructurada con una ventaja cyadrática, através de la amplificación de amplitud.\n",
        "\n",
        "Suponga que tiene una lista grande de $N$ elementos. Entre estos elementos hay un elemento con una propiedad única que deseamos localizar; lo llamaremos el *bueno* $w$. Para encontrar a $w$ mediante el cómputo clásico, habría que comprobar en promedio $N/2$ de estas cajas y, en el peor de los casos, las $N$ de ellas. Sin embargo, en una computadora cuántica, podemos encontrar el elemento marcado en aproximadamente $\\sqrt{N}$ pasos con el truco de amplificación de amplitud de Grover."
      ],
      "metadata": {
        "id": "rd1Ntv-7a5zG"
      }
    },
    {
      "cell_type": "markdown",
      "source": [
        "### 1.1 Descripción general del algoritmo\n",
        "\n",
        "El algoritmo de Grover consta de tres pasos principales: preparación del estado, el oráculo y el operador de Grover. La preparación del estado es donde creamos el espacio de búsqueda, que son todos los casos posibles que podría tomar la respuesta. El oráculo marca la respuesta que estamos buscando, y el operador de Grover magnifica la respuesta, para que pueda destacarse y medirse al final del algoritmo.\n",
        "\n",
        "Antes de mirar la lista de elementos, no tenemos idea de dónde está el elemento marcado. Por lo tanto, cualquier suposición de su ubicación es tan buena como cualquier otra: $$|s \\rangle = \\frac{1}{\\sqrt{N}} \\sum_{x = 0}^{N -1} | x\\rangle.$$\n",
        "\n",
        "Si en este punto tuviéramos que medir en la base computacional, nuestras posibilidades de adivinar el valor correcto $w$ son, por lo tanto, $1$ en $2^n$, como era de esperar. Por lo tanto, en promedio, necesitaríamos intentar aproximadamente $N/2 = 2^{n-1}$ veces para adivinar el elemento correcto.\n",
        "\n",
        "Usamos entonces la amplificación de amplitud. Este procedimiento extiende (amplifica) la amplitud del elemento marcado, lo que reduce la amplitud de los otros elementos, de modo que la medición del estado final devolverá el elemento correcto con casi certeza.\n",
        "\n",
        "Este algoritmo tiene una buena interpretación geométrica en términos de dos reflexiones, que generan una rotación en un plano bidimensional. Los únicos dos estados especiales que debemos considerar son el bueno $| w \\rangle$ y la superposición uniforme $| s \\rangle$. Estos dos vectores abarcan un plano bidimensional en el espacio vectorial ${\\mathbb{C}^N}$. Introducimos un estado adicional $|s'\\rangle$ que se encuentra en el espacio de estos dos vectores, que es perpendicular a $| w \\rangle$ y se obtiene a partir de $|s \\rangle$ eliminando $| w \\rangle$ y reescalando.\n",
        "\n",
        "**Paso 1**: El procedimiento de amplificación de amplitud comienza con la superposición uniforme $| s \\rangle$, que se construye a partir de $| s \\rangle = H^{\\otimes n} | 0 \\rangle^n$.\n",
        "\n",
        "**Paso 2**: Aplicamos la reflexión del oráculo $U_f$ al estado $|s\\rangle$.\n",
        "\n",
        "Esto corresponde a una reflexión del estado $|s\\rangle$ sobre $|s'\\rangle$. Esta transformación significa que la amplitud frente al estado $|w\\rangle$ se vuelve negativa, lo que a su vez significa que la amplitud promedio se ha reducido.\n",
        "\n",
        "**Paso 3**: Ahora aplicamos una reflexión adicional ($U_s$) sobre el estado $|s\\rangle$: $U_s = 2|s\\rangle\\langle s| - \\mathbb{1}$. Esta transformación asigna el estado a $U_s U_f| s \\rangle$ y completa la transformación.\n",
        "\n",
        "\n",
        "Dos reflexiones siempre corresponden a una rotación. La transformación $U_s U_f$ hace rotar el estado inicial $|s\\rangle$ para acercarlo al bueno $|w\\rangle$. La acción de la reflexión $U_s$ en el diagrama de barras de amplitud se puede entender como una reflexión sobre la amplitud media. Dado que la amplitud media se ha reducido por la primera reflexión, esta transformación aumenta la amplitud negativa de $|w\\rangle$ a aproximadamente tres veces su valor original, mientras que disminuye las otras amplitudes. Luego pasamos al **paso 2** para repetir la aplicación. Este procedimiento se repetirá varias veces para dar con el ganador.\n",
        "\n",
        "Después de $t$ pasos estaremos en el estado $|\\psi_t\\rangle$ donde: $| \\psi_t \\rangle = (U_s U_f)^t | s \\rangle$.\n",
        "\n",
        "¿Cuántas veces necesitamos aplicar la rotación? Resulta que aproximadamente $\\sqrt{N}$ rotaciones son suficientes. Esto se vuelve claro cuando observamos las amplitudes del estado $| \\psi \\rangle$. Podemos ver que la amplitud de $| w \\rangle$ crece linealmente con el número de aplicaciones $\\sim t N^{-1/2}$. Sin embargo, dado que estamos tratando con amplitudes y no con probabilidades, la dimensión del espacio vectorial entra como una raíz cuadrada. Por lo tanto, es la amplitud, y no solo la probabilidad, lo que se está amplificando en este procedimiento.\n",
        "\n",
        "Para calcular el número de rotaciones necesitamos saber el tamaño del espacio de búsqueda y el número de respuestas que buscamos. Para obtener el número óptimo de iteraciones $t$, podemos seguir la ecuación:\n",
        "\n",
        "$$\n",
        "t = \\lfloor\\frac{\\pi}{4}\\sqrt{N}\\rfloor\n",
        "$$\n",
        "\n",
        "Donde N es el tamaño del espacio de búsqueda."
      ],
      "metadata": {
        "id": "T-sT3GTUa9Aw"
      }
    },
    {
      "cell_type": "markdown",
      "source": [
        "## 1.2 Grover paso a paso\n",
        "\n",
        "## 1.2.1 Preparación del espacio de búsqueda\n",
        "\n",
        "El primer paso del algoritmo de Grover es la preparación del estado inicial. El espacio de búsqueda son todos los valores posibles que necesitamos buscar para encontrar la respuesta que queremos. Por ejemplo, si tenemos 3 qubits, nuestra lista son los estados $|000\\rangle, |001\\rangle, \\dots |111\\rangle$ (es decir, los estados $|0\\rangle \\rightarrow |7\\rangle$). Por lo tanto, en este caso, el tamaño de nuestro espacio de búsqueda será $N = 2^{3} = 8$.\n"
      ],
      "metadata": {
        "id": "zcsGiY3SbAEm"
      }
    },
    {
      "cell_type": "markdown",
      "source": [
        "## 1.2.2 Creación del Oráculo\n",
        "\n",
        "El segundo paso del algoritmo de Grover es el oráculo. Los oráculos añaden una fase negativa a los estados de la solución para que puedan destacarse del resto y ser medidos. Es decir, para cualquier estado $|x\\rangle$ en la base computacional:\n",
        "\n",
        "$$\n",
        "U_\\omega|x\\rangle = \\bigg\\{\n",
        "\\begin{aligned}\n",
        "\\phantom{-}|x\\rangle \\quad \\text{si} \\; x \\neq \\omega \\\\\n",
        "-|x\\rangle \\quad \\text{si} \\; x = \\omega \\\\\n",
        "\\end{aligned}\n",
        "$$\n",
        "\n",
        "Este oráculo será una matriz diagonal, donde la entrada que corresponda al elemento marcado tendrá una fase negativa. Por ejemplo, si tenemos tres qubits y $\\omega = \\text{101}$, nuestro oráculo tendrá la matriz:\n",
        "\n",
        "$$\n",
        "U_\\omega =\n",
        "\\begin{pmatrix}\n",
        "1 & 0 & 0 & 0 & 0 & 0 & 0 & 0 \\\\\n",
        "0 & 1 & 0 & 0 & 0 & 0 & 0 & 0 \\\\\n",
        "0 & 0 & 1 & 0 & 0 & 0 & 0 & 0 \\\\\n",
        "0 & 0 & 0 & 1 & 0 & 0 & 0 & 0 \\\\\n",
        "0 & 0 & 0 & 0 & 1 & 0 & 0 & 0 \\\\\n",
        "0 & 0 & 0 & 0 & 0 & -1 & 0 & 0 \\\\\n",
        "0 & 0 & 0 & 0 & 0 & 0 & 1 & 0 \\\\\n",
        "0 & 0 & 0 & 0 & 0 & 0 & 0 & 1 \\\\\n",
        "\\end{pmatrix}\n",
        "$$\n",
        "\n",
        "Podemos crear una función $f$ que tome una solución propuesta $x$ y devuelva $f(x) = 0$ si $x$ no es una solución ($x \\neq \\omega$) y $f(x) = 1$ para una solución válida ($x = \\omega$). Nuestro oráculo puede describirse entonces como:\n",
        "\n",
        "$$\n",
        "U_\\omega|x\\rangle = (-1)^{f(x)}|x\\rangle\n",
        "$$\n",
        "\n",
        "y la matriz del oráculo será una matriz diagonal de la forma:\n",
        "\n",
        "$$\n",
        "U_\\omega =\n",
        "\\begin{bmatrix}\n",
        "(-1)^{f(0)} & 0 & \\cdots & 0 \\\\\n",
        "0 & (-1)^{f(1)} & \\cdots & 0 \\\\\n",
        "\\vdots & 0 & \\ddots & \\vdots \\\\\n",
        "0 & 0 & \\cdots & (-1)^{f(2^n-1)} \\\\\n",
        "\\end{bmatrix}\n",
        "$$\n",
        "\n",
        "Crearemos ejemplos de oráculos en los que conocemos de antemano el valor de $\\omega$ y no nos preocuparemos de si estos oráculos son útiles o no."
      ],
      "metadata": {
        "id": "ZRvC-yAobDwx"
      }
    },
    {
      "cell_type": "markdown",
      "source": [
        "## 2. Ejemplo: 2 qubits\n",
        "\n",
        "En este caso, $N=4$, por lo que sólo se requiere una rotación para llevar el estado inicial $|s\\rangle$ al ganador $|w\\rangle$:\n",
        "\n",
        "1. En el caso $N=4$ tenemos\n",
        "\n",
        "$$\\theta = \\arcsin \\frac{1}{2} = \\frac{\\pi}{6}.$$\n",
        "\n",
        "2. Después de $t$ pasos, tenemos\n",
        "\n",
        "$$(U_s U_\\omega)^t | s \\rangle = \\sin \\theta_t | \\omega \\rangle + \\cos \\theta_t | s' \\rangle ,$$\n",
        "\n",
        "donde\n",
        "\n",
        "$$\\theta_t = (2t+1)\\theta.$$\n",
        "\n",
        "3. Para obtener $| \\omega \\rangle$ necesitamos $\\theta_t = \\frac{\\pi}{2}$, que con $\\theta=\\frac{\\pi}{6}$ insertado arriba da como resultado $t=1$. Esto implica que después de una rotación de $t=1$ se encuentra el elemento buscado.\n",
        "\n",
        "Veamos un ejemplo usando un oráculo específico.\n",
        "\n",
        "#### Oráculo para $| \\omega \\rangle = | 11 \\rangle$\n",
        "Veamos el caso $| w \\rangle = | 11 \\rangle$. El oráculo $U_\\omega$ en este caso actúa de la siguiente manera:\n",
        "\n",
        "$$U_\\omega | s \\rangle = U_\\omega \\frac{1}{2}\\left( |00\\rangle + |01\\rangle + |10\\rangle + |11\\rangle \\right) = \\frac{1}{2}\\left( |00\\rangle + |01\\rangle + |10\\rangle - |11\\rangle \\right).$$\n",
        "\n",
        "o:\n",
        "\n",
        "$$\n",
        "U_\\omega =\n",
        "\\begin{bmatrix}\n",
        "1 & 0 & 0 & 0 \\\\\n",
        "0 & 1 & 0 & 0 \\\\\n",
        "0 & 0 & 1 & 0 \\\\\n",
        "0 & 0 & 0 & -1 \\\\\n",
        "\\end{bmatrix}\n",
        "$$\n",
        "\n",
        "que puede reconocer como (**Ejercicio 1**) la compuerta **¿?**\n",
        "\n",
        "#### Reflexión $U_s$\n",
        "\n",
        "Para completar el circuito, necesitamos implementar la reflexión adicional $U_s = 2|s\\rangle\\langle s| - \\mathbb{1}$. Como se trata de una reflexión sobre $|s\\rangle$, queremos agregar una fase negativa a cada estado ortogonal a $|s\\rangle$.\n",
        "\n",
        "Una forma de hacer esto es usar la operación que transforma el estado $|s\\rangle \\rightarrow |0\\rangle$, que ya sabemos que es la puerta Hadamard aplicada a cada qubit:\n",
        "\n",
        "$$H^{\\otimes n}|s\\rangle = |0\\rangle$$\n",
        "\n",
        "Luego aplicamos un circuito que agrega una fase negativa a los estados ortogonales a $|0\\rangle$:\n",
        "\n",
        "$$U_0 \\frac{1}{2}\\left( \\lvert 00 \\rangle + \\lvert 01 \\rangle + \\lvert 10 \\rangle + \\lvert 11 \\rangle \\right) = \\frac{1}{2}\\left( \\lvert 00 \\rangle - \\lvert 01 \\rangle - \\lvert 10 \\rangle - \\lvert 11 \\rangle \\right)$$\n",
        "\n",
        "es decir, los signos de cada estado se invierten excepto $\\lvert 00 \\rangle$.\n",
        "\n",
        "**Ejercicio 2:** Encuentre el circuito que hace esa operación.\n",
        "\n",
        "Finalmente, realizamos la operación que transforma el estado $|0\\rangle \\rightarrow |s\\rangle$ (la compuerta H nuevamente):\n",
        "\n",
        "$$H^{\\otimes n}U_0 H^{\\otimes n} = U_s$$\n",
        "\n",
        "### 2.1 Implementación de Qiskit\n",
        "\n",
        "Ahora implementamos el algoritmo de Grover para el caso anterior de 2 qubits para $\\lvert w \\rangle = |11\\rangle$."
      ],
      "metadata": {
        "id": "suCL7_GZbHQB"
      }
    },
    {
      "cell_type": "code",
      "source": [
        "# Preparamos el circuito de dos qubits\n",
        "\n",
        "n = 2\n",
        "grover_circuit = QuantumCircuit(n)"
      ],
      "metadata": {
        "id": "iHf7p7whbJ_L"
      },
      "execution_count": null,
      "outputs": []
    },
    {
      "cell_type": "code",
      "source": [
        "# Creamos una función que, para n qubits, genere el estado inicial\n",
        "\n",
        "def initialize_s(qc, qubits):\n",
        "    for q in qubits:\n",
        "        qc.h(q)\n",
        "    qc.barrier()\n",
        "    return qc"
      ],
      "metadata": {
        "id": "OOZDKSyXbNnu"
      },
      "execution_count": null,
      "outputs": []
    },
    {
      "cell_type": "code",
      "source": [
        "grover_circuit = initialize_s(grover_circuit, [0,1])\n",
        "grover_circuit.draw('mpl')"
      ],
      "metadata": {
        "id": "wunIlHpVbQFS"
      },
      "execution_count": null,
      "outputs": []
    },
    {
      "cell_type": "code",
      "source": [
        "**Ejercicio 3:** aplique el oráculo tal que $|\\omega\\rangle=|11\\rangle$"
      ],
      "metadata": {
        "id": "5b69YNGcbYfG"
      },
      "execution_count": null,
      "outputs": []
    },
    {
      "cell_type": "code",
      "source": [
        "\n",
        "\n",
        "grover_circuit.barrier()\n",
        "grover_circuit.draw('mpl')"
      ],
      "metadata": {
        "id": "TaDvlI5mbbaD"
      },
      "execution_count": null,
      "outputs": []
    },
    {
      "cell_type": "markdown",
      "source": [
        "**Ejercicio 4:** aplique el operador  $HU_0H$"
      ],
      "metadata": {
        "id": "o15eQn_4bgf3"
      }
    },
    {
      "cell_type": "code",
      "source": [
        "\n",
        "\n",
        "grover_circuit.barrier()\n",
        "grover_circuit.measure_all()\n",
        "grover_circuit.draw('mpl')"
      ],
      "metadata": {
        "id": "xiVD9BQxblW9"
      },
      "execution_count": null,
      "outputs": []
    },
    {
      "cell_type": "markdown",
      "source": [
        "#### Simulamos el circuito"
      ],
      "metadata": {
        "id": "IuFnbOeJbvtL"
      }
    },
    {
      "cell_type": "code",
      "source": [
        "shots = 4096\n",
        "counts = backend.run(grover_circuit, shots=shots).result().get_counts()\n",
        "plot_histogram(counts)"
      ],
      "metadata": {
        "id": "c6R94Zqgbyvv"
      },
      "execution_count": null,
      "outputs": []
    },
    {
      "cell_type": "markdown",
      "source": [
        "#### Ejecutamos en hardware cuántico"
      ],
      "metadata": {
        "id": "dFrFlFV9b1Hb"
      }
    },
    {
      "cell_type": "code",
      "source": [
        "!pip install qiskit-ibm-runtime"
      ],
      "metadata": {
        "id": "Kmgf4YfPb39a"
      },
      "execution_count": null,
      "outputs": []
    },
    {
      "cell_type": "code",
      "source": [
        "from qiskit_ibm_runtime import QiskitRuntimeService\n",
        "ibm_quantum_service = QiskitRuntimeService(channel=\"ibm_quantum\", token=\"\")\n",
        "from qiskit import QuantumCircuit\n",
        "from qiskit.transpiler.preset_passmanagers import generate_preset_pass_manager\n",
        "from qiskit_ibm_runtime import QiskitRuntimeService, SamplerV2 as Sampler"
      ],
      "metadata": {
        "id": "dIw2SqTNb6T_"
      },
      "execution_count": null,
      "outputs": []
    },
    {
      "cell_type": "code",
      "source": [
        "backend = ibm_quantum_service.least_busy(operational=True, simulator=False)\n",
        "pm = generate_preset_pass_manager(backend=backend, optimization_level=1)\n",
        "isa_circuit = pm.run(grover_circuit)"
      ],
      "metadata": {
        "id": "RhM_KP0hb-4M"
      },
      "execution_count": null,
      "outputs": []
    },
    {
      "cell_type": "code",
      "source": [
        "sampler = Sampler(mode=backend)\n",
        "sampler.options.default_shots = 4096\n",
        "job = sampler.run([isa_circuit])\n",
        "print(f\"Job ID is {job.job_id()}\")\n",
        "pub_result = job.result()[0]\n",
        "print(f\"Counts for the meas output register: {pub_result.data.meas.get_counts()}\")"
      ],
      "metadata": {
        "id": "NJubgtvGcBsp"
      },
      "execution_count": null,
      "outputs": []
    },
    {
      "cell_type": "code",
      "source": [
        "plot_histogram(pub_result.data.meas.get_counts())"
      ],
      "metadata": {
        "id": "a6GGEWWEcEz7"
      },
      "execution_count": null,
      "outputs": []
    }
  ]
}