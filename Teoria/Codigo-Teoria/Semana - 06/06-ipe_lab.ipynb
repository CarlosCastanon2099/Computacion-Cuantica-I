{
  "nbformat": 4,
  "nbformat_minor": 0,
  "metadata": {
    "colab": {
      "provenance": []
    },
    "kernelspec": {
      "name": "python3",
      "display_name": "Python 3"
    },
    "language_info": {
      "name": "python"
    }
  },
  "cells": [
    {
      "cell_type": "code",
      "execution_count": null,
      "metadata": {
        "colab": {
          "base_uri": "https://localhost:8080/"
        },
        "id": "ozWr-66aD890",
        "outputId": "296b3f2e-2799-4b30-be04-1c8a42209004"
      },
      "outputs": [
        {
          "output_type": "stream",
          "name": "stdout",
          "text": [
            "Collecting qiskit\n",
            "  Downloading qiskit-1.2.1-cp38-abi3-manylinux_2_17_x86_64.manylinux2014_x86_64.whl.metadata (12 kB)\n",
            "Collecting rustworkx>=0.15.0 (from qiskit)\n",
            "  Downloading rustworkx-0.15.1-cp38-abi3-manylinux_2_17_x86_64.manylinux2014_x86_64.whl.metadata (9.9 kB)\n",
            "Requirement already satisfied: numpy<3,>=1.17 in /usr/local/lib/python3.10/dist-packages (from qiskit) (1.26.4)\n",
            "Requirement already satisfied: scipy>=1.5 in /usr/local/lib/python3.10/dist-packages (from qiskit) (1.13.1)\n",
            "Requirement already satisfied: sympy>=1.3 in /usr/local/lib/python3.10/dist-packages (from qiskit) (1.13.2)\n",
            "Collecting dill>=0.3 (from qiskit)\n",
            "  Downloading dill-0.3.8-py3-none-any.whl.metadata (10 kB)\n",
            "Requirement already satisfied: python-dateutil>=2.8.0 in /usr/local/lib/python3.10/dist-packages (from qiskit) (2.8.2)\n",
            "Collecting stevedore>=3.0.0 (from qiskit)\n",
            "  Downloading stevedore-5.3.0-py3-none-any.whl.metadata (2.3 kB)\n",
            "Requirement already satisfied: typing-extensions in /usr/local/lib/python3.10/dist-packages (from qiskit) (4.12.2)\n",
            "Collecting symengine>=0.11 (from qiskit)\n",
            "  Downloading symengine-0.11.0-cp310-cp310-manylinux_2_12_x86_64.manylinux2010_x86_64.whl.metadata (1.2 kB)\n",
            "Requirement already satisfied: six>=1.5 in /usr/local/lib/python3.10/dist-packages (from python-dateutil>=2.8.0->qiskit) (1.16.0)\n",
            "Collecting pbr>=2.0.0 (from stevedore>=3.0.0->qiskit)\n",
            "  Downloading pbr-6.1.0-py2.py3-none-any.whl.metadata (3.4 kB)\n",
            "Requirement already satisfied: mpmath<1.4,>=1.1.0 in /usr/local/lib/python3.10/dist-packages (from sympy>=1.3->qiskit) (1.3.0)\n",
            "Downloading qiskit-1.2.1-cp38-abi3-manylinux_2_17_x86_64.manylinux2014_x86_64.whl (4.7 MB)\n",
            "\u001b[2K   \u001b[90m━━━━━━━━━━━━━━━━━━━━━━━━━━━━━━━━━━━━━━━━\u001b[0m \u001b[32m4.7/4.7 MB\u001b[0m \u001b[31m19.9 MB/s\u001b[0m eta \u001b[36m0:00:00\u001b[0m\n",
            "\u001b[?25hDownloading dill-0.3.8-py3-none-any.whl (116 kB)\n",
            "\u001b[2K   \u001b[90m━━━━━━━━━━━━━━━━━━━━━━━━━━━━━━━━━━━━━━━━\u001b[0m \u001b[32m116.3/116.3 kB\u001b[0m \u001b[31m8.4 MB/s\u001b[0m eta \u001b[36m0:00:00\u001b[0m\n",
            "\u001b[?25hDownloading rustworkx-0.15.1-cp38-abi3-manylinux_2_17_x86_64.manylinux2014_x86_64.whl (2.0 MB)\n",
            "\u001b[2K   \u001b[90m━━━━━━━━━━━━━━━━━━━━━━━━━━━━━━━━━━━━━━━━\u001b[0m \u001b[32m2.0/2.0 MB\u001b[0m \u001b[31m53.0 MB/s\u001b[0m eta \u001b[36m0:00:00\u001b[0m\n",
            "\u001b[?25hDownloading stevedore-5.3.0-py3-none-any.whl (49 kB)\n",
            "\u001b[2K   \u001b[90m━━━━━━━━━━━━━━━━━━━━━━━━━━━━━━━━━━━━━━━━\u001b[0m \u001b[32m49.7/49.7 kB\u001b[0m \u001b[31m3.7 MB/s\u001b[0m eta \u001b[36m0:00:00\u001b[0m\n",
            "\u001b[?25hDownloading symengine-0.11.0-cp310-cp310-manylinux_2_12_x86_64.manylinux2010_x86_64.whl (39.4 MB)\n",
            "\u001b[2K   \u001b[90m━━━━━━━━━━━━━━━━━━━━━━━━━━━━━━━━━━━━━━━━\u001b[0m \u001b[32m39.4/39.4 MB\u001b[0m \u001b[31m22.0 MB/s\u001b[0m eta \u001b[36m0:00:00\u001b[0m\n",
            "\u001b[?25hDownloading pbr-6.1.0-py2.py3-none-any.whl (108 kB)\n",
            "\u001b[2K   \u001b[90m━━━━━━━━━━━━━━━━━━━━━━━━━━━━━━━━━━━━━━━━\u001b[0m \u001b[32m108.5/108.5 kB\u001b[0m \u001b[31m4.8 MB/s\u001b[0m eta \u001b[36m0:00:00\u001b[0m\n",
            "\u001b[?25hInstalling collected packages: symengine, rustworkx, pbr, dill, stevedore, qiskit\n",
            "Successfully installed dill-0.3.8 pbr-6.1.0 qiskit-1.2.1 rustworkx-0.15.1 stevedore-5.3.0 symengine-0.11.0\n",
            "Collecting pylatexenc\n",
            "  Downloading pylatexenc-2.10.tar.gz (162 kB)\n",
            "\u001b[2K     \u001b[90m━━━━━━━━━━━━━━━━━━━━━━━━━━━━━━━━━━━━━━━━\u001b[0m \u001b[32m162.6/162.6 kB\u001b[0m \u001b[31m3.7 MB/s\u001b[0m eta \u001b[36m0:00:00\u001b[0m\n",
            "\u001b[?25h  Preparing metadata (setup.py) ... \u001b[?25l\u001b[?25hdone\n",
            "Building wheels for collected packages: pylatexenc\n",
            "  Building wheel for pylatexenc (setup.py) ... \u001b[?25l\u001b[?25hdone\n",
            "  Created wheel for pylatexenc: filename=pylatexenc-2.10-py3-none-any.whl size=136817 sha256=db39b7a52fd0d65f87bbc0ab641d06101f601f4755308f322bd5722cdc03a9af\n",
            "  Stored in directory: /root/.cache/pip/wheels/d3/31/8b/e09b0386afd80cfc556c00408c9aeea5c35c4d484a9c762fd5\n",
            "Successfully built pylatexenc\n",
            "Installing collected packages: pylatexenc\n",
            "Successfully installed pylatexenc-2.10\n",
            "Collecting qiskit-aer\n",
            "  Downloading qiskit_aer-0.15.1-cp310-cp310-manylinux_2_17_x86_64.manylinux2014_x86_64.whl.metadata (8.0 kB)\n",
            "Requirement already satisfied: qiskit>=1.1.0 in /usr/local/lib/python3.10/dist-packages (from qiskit-aer) (1.2.1)\n",
            "Requirement already satisfied: numpy>=1.16.3 in /usr/local/lib/python3.10/dist-packages (from qiskit-aer) (1.26.4)\n",
            "Requirement already satisfied: scipy>=1.0 in /usr/local/lib/python3.10/dist-packages (from qiskit-aer) (1.13.1)\n",
            "Requirement already satisfied: psutil>=5 in /usr/local/lib/python3.10/dist-packages (from qiskit-aer) (5.9.5)\n",
            "Requirement already satisfied: rustworkx>=0.15.0 in /usr/local/lib/python3.10/dist-packages (from qiskit>=1.1.0->qiskit-aer) (0.15.1)\n",
            "Requirement already satisfied: sympy>=1.3 in /usr/local/lib/python3.10/dist-packages (from qiskit>=1.1.0->qiskit-aer) (1.13.2)\n",
            "Requirement already satisfied: dill>=0.3 in /usr/local/lib/python3.10/dist-packages (from qiskit>=1.1.0->qiskit-aer) (0.3.8)\n",
            "Requirement already satisfied: python-dateutil>=2.8.0 in /usr/local/lib/python3.10/dist-packages (from qiskit>=1.1.0->qiskit-aer) (2.8.2)\n",
            "Requirement already satisfied: stevedore>=3.0.0 in /usr/local/lib/python3.10/dist-packages (from qiskit>=1.1.0->qiskit-aer) (5.3.0)\n",
            "Requirement already satisfied: typing-extensions in /usr/local/lib/python3.10/dist-packages (from qiskit>=1.1.0->qiskit-aer) (4.12.2)\n",
            "Requirement already satisfied: symengine>=0.11 in /usr/local/lib/python3.10/dist-packages (from qiskit>=1.1.0->qiskit-aer) (0.11.0)\n",
            "Requirement already satisfied: six>=1.5 in /usr/local/lib/python3.10/dist-packages (from python-dateutil>=2.8.0->qiskit>=1.1.0->qiskit-aer) (1.16.0)\n",
            "Requirement already satisfied: pbr>=2.0.0 in /usr/local/lib/python3.10/dist-packages (from stevedore>=3.0.0->qiskit>=1.1.0->qiskit-aer) (6.1.0)\n",
            "Requirement already satisfied: mpmath<1.4,>=1.1.0 in /usr/local/lib/python3.10/dist-packages (from sympy>=1.3->qiskit>=1.1.0->qiskit-aer) (1.3.0)\n",
            "Downloading qiskit_aer-0.15.1-cp310-cp310-manylinux_2_17_x86_64.manylinux2014_x86_64.whl (12.3 MB)\n",
            "\u001b[2K   \u001b[90m━━━━━━━━━━━━━━━━━━━━━━━━━━━━━━━━━━━━━━━━\u001b[0m \u001b[32m12.3/12.3 MB\u001b[0m \u001b[31m92.6 MB/s\u001b[0m eta \u001b[36m0:00:00\u001b[0m\n",
            "\u001b[?25hInstalling collected packages: qiskit-aer\n",
            "Successfully installed qiskit-aer-0.15.1\n",
            "Collecting qiskit-ibm-runtime\n",
            "  Downloading qiskit_ibm_runtime-0.29.0-py3-none-any.whl.metadata (19 kB)\n",
            "Requirement already satisfied: requests>=2.19 in /usr/local/lib/python3.10/dist-packages (from qiskit-ibm-runtime) (2.32.3)\n",
            "Collecting requests-ntlm>=1.1.0 (from qiskit-ibm-runtime)\n",
            "  Downloading requests_ntlm-1.3.0-py3-none-any.whl.metadata (2.4 kB)\n",
            "Requirement already satisfied: numpy>=1.13 in /usr/local/lib/python3.10/dist-packages (from qiskit-ibm-runtime) (1.26.4)\n",
            "Requirement already satisfied: urllib3>=1.21.1 in /usr/local/lib/python3.10/dist-packages (from qiskit-ibm-runtime) (2.0.7)\n",
            "Requirement already satisfied: python-dateutil>=2.8.0 in /usr/local/lib/python3.10/dist-packages (from qiskit-ibm-runtime) (2.8.2)\n",
            "Requirement already satisfied: websocket-client>=1.5.1 in /usr/local/lib/python3.10/dist-packages (from qiskit-ibm-runtime) (1.8.0)\n",
            "Collecting ibm-platform-services>=0.22.6 (from qiskit-ibm-runtime)\n",
            "  Downloading ibm_platform_services-0.57.0-py3-none-any.whl.metadata (9.1 kB)\n",
            "Requirement already satisfied: pydantic>=2.5.0 in /usr/local/lib/python3.10/dist-packages (from qiskit-ibm-runtime) (2.9.1)\n",
            "Requirement already satisfied: qiskit>=1.1.0 in /usr/local/lib/python3.10/dist-packages (from qiskit-ibm-runtime) (1.2.1)\n",
            "Collecting ibm-cloud-sdk-core<4.0.0,>=3.20.6 (from ibm-platform-services>=0.22.6->qiskit-ibm-runtime)\n",
            "  Downloading ibm_cloud_sdk_core-3.20.6-py3-none-any.whl.metadata (5.5 kB)\n",
            "Requirement already satisfied: annotated-types>=0.6.0 in /usr/local/lib/python3.10/dist-packages (from pydantic>=2.5.0->qiskit-ibm-runtime) (0.7.0)\n",
            "Requirement already satisfied: pydantic-core==2.23.3 in /usr/local/lib/python3.10/dist-packages (from pydantic>=2.5.0->qiskit-ibm-runtime) (2.23.3)\n",
            "Requirement already satisfied: typing-extensions>=4.6.1 in /usr/local/lib/python3.10/dist-packages (from pydantic>=2.5.0->qiskit-ibm-runtime) (4.12.2)\n",
            "Requirement already satisfied: six>=1.5 in /usr/local/lib/python3.10/dist-packages (from python-dateutil>=2.8.0->qiskit-ibm-runtime) (1.16.0)\n",
            "Requirement already satisfied: rustworkx>=0.15.0 in /usr/local/lib/python3.10/dist-packages (from qiskit>=1.1.0->qiskit-ibm-runtime) (0.15.1)\n",
            "Requirement already satisfied: scipy>=1.5 in /usr/local/lib/python3.10/dist-packages (from qiskit>=1.1.0->qiskit-ibm-runtime) (1.13.1)\n",
            "Requirement already satisfied: sympy>=1.3 in /usr/local/lib/python3.10/dist-packages (from qiskit>=1.1.0->qiskit-ibm-runtime) (1.13.2)\n",
            "Requirement already satisfied: dill>=0.3 in /usr/local/lib/python3.10/dist-packages (from qiskit>=1.1.0->qiskit-ibm-runtime) (0.3.8)\n",
            "Requirement already satisfied: stevedore>=3.0.0 in /usr/local/lib/python3.10/dist-packages (from qiskit>=1.1.0->qiskit-ibm-runtime) (5.3.0)\n",
            "Requirement already satisfied: symengine>=0.11 in /usr/local/lib/python3.10/dist-packages (from qiskit>=1.1.0->qiskit-ibm-runtime) (0.11.0)\n",
            "Requirement already satisfied: charset-normalizer<4,>=2 in /usr/local/lib/python3.10/dist-packages (from requests>=2.19->qiskit-ibm-runtime) (3.3.2)\n",
            "Requirement already satisfied: idna<4,>=2.5 in /usr/local/lib/python3.10/dist-packages (from requests>=2.19->qiskit-ibm-runtime) (3.8)\n",
            "Requirement already satisfied: certifi>=2017.4.17 in /usr/local/lib/python3.10/dist-packages (from requests>=2.19->qiskit-ibm-runtime) (2024.8.30)\n",
            "Requirement already satisfied: cryptography>=1.3 in /usr/local/lib/python3.10/dist-packages (from requests-ntlm>=1.1.0->qiskit-ibm-runtime) (43.0.1)\n",
            "Collecting pyspnego>=0.4.0 (from requests-ntlm>=1.1.0->qiskit-ibm-runtime)\n",
            "  Downloading pyspnego-0.11.1-py3-none-any.whl.metadata (5.4 kB)\n",
            "Requirement already satisfied: cffi>=1.12 in /usr/local/lib/python3.10/dist-packages (from cryptography>=1.3->requests-ntlm>=1.1.0->qiskit-ibm-runtime) (1.17.1)\n",
            "Collecting urllib3>=1.21.1 (from qiskit-ibm-runtime)\n",
            "  Downloading urllib3-2.2.3-py3-none-any.whl.metadata (6.5 kB)\n",
            "Requirement already satisfied: PyJWT<3.0.0,>=2.8.0 in /usr/local/lib/python3.10/dist-packages (from ibm-cloud-sdk-core<4.0.0,>=3.20.6->ibm-platform-services>=0.22.6->qiskit-ibm-runtime) (2.9.0)\n",
            "Requirement already satisfied: pbr>=2.0.0 in /usr/local/lib/python3.10/dist-packages (from stevedore>=3.0.0->qiskit>=1.1.0->qiskit-ibm-runtime) (6.1.0)\n",
            "Requirement already satisfied: mpmath<1.4,>=1.1.0 in /usr/local/lib/python3.10/dist-packages (from sympy>=1.3->qiskit>=1.1.0->qiskit-ibm-runtime) (1.3.0)\n",
            "Requirement already satisfied: pycparser in /usr/local/lib/python3.10/dist-packages (from cffi>=1.12->cryptography>=1.3->requests-ntlm>=1.1.0->qiskit-ibm-runtime) (2.22)\n",
            "Downloading qiskit_ibm_runtime-0.29.0-py3-none-any.whl (2.9 MB)\n",
            "\u001b[2K   \u001b[90m━━━━━━━━━━━━━━━━━━━━━━━━━━━━━━━━━━━━━━━━\u001b[0m \u001b[32m2.9/2.9 MB\u001b[0m \u001b[31m45.0 MB/s\u001b[0m eta \u001b[36m0:00:00\u001b[0m\n",
            "\u001b[?25hDownloading ibm_platform_services-0.57.0-py3-none-any.whl (343 kB)\n",
            "\u001b[2K   \u001b[90m━━━━━━━━━━━━━━━━━━━━━━━━━━━━━━━━━━━━━━━━\u001b[0m \u001b[32m343.3/343.3 kB\u001b[0m \u001b[31m29.4 MB/s\u001b[0m eta \u001b[36m0:00:00\u001b[0m\n",
            "\u001b[?25hDownloading requests_ntlm-1.3.0-py3-none-any.whl (6.6 kB)\n",
            "Downloading ibm_cloud_sdk_core-3.20.6-py3-none-any.whl (60 kB)\n",
            "\u001b[2K   \u001b[90m━━━━━━━━━━━━━━━━━━━━━━━━━━━━━━━━━━━━━━━━\u001b[0m \u001b[32m60.7/60.7 kB\u001b[0m \u001b[31m5.8 MB/s\u001b[0m eta \u001b[36m0:00:00\u001b[0m\n",
            "\u001b[?25hDownloading urllib3-2.2.3-py3-none-any.whl (126 kB)\n",
            "\u001b[2K   \u001b[90m━━━━━━━━━━━━━━━━━━━━━━━━━━━━━━━━━━━━━━━━\u001b[0m \u001b[32m126.3/126.3 kB\u001b[0m \u001b[31m11.6 MB/s\u001b[0m eta \u001b[36m0:00:00\u001b[0m\n",
            "\u001b[?25hDownloading pyspnego-0.11.1-py3-none-any.whl (130 kB)\n",
            "\u001b[2K   \u001b[90m━━━━━━━━━━━━━━━━━━━━━━━━━━━━━━━━━━━━━━━━\u001b[0m \u001b[32m130.5/130.5 kB\u001b[0m \u001b[31m13.5 MB/s\u001b[0m eta \u001b[36m0:00:00\u001b[0m\n",
            "\u001b[?25hInstalling collected packages: urllib3, pyspnego, ibm-cloud-sdk-core, requests-ntlm, ibm-platform-services, qiskit-ibm-runtime\n",
            "  Attempting uninstall: urllib3\n",
            "    Found existing installation: urllib3 2.0.7\n",
            "    Uninstalling urllib3-2.0.7:\n",
            "      Successfully uninstalled urllib3-2.0.7\n",
            "Successfully installed ibm-cloud-sdk-core-3.20.6 ibm-platform-services-0.57.0 pyspnego-0.11.1 qiskit-ibm-runtime-0.29.0 requests-ntlm-1.3.0 urllib3-2.2.3\n"
          ]
        }
      ],
      "source": [
        "!pip install qiskit\n",
        "!pip install pylatexenc\n",
        "!pip install qiskit-aer\n",
        "!pip install qiskit-ibm-runtime"
      ]
    },
    {
      "cell_type": "markdown",
      "source": [
        "# Estimación de fase iterativa (IPE)"
      ],
      "metadata": {
        "id": "CS_NhGa5Ebom"
      }
    },
    {
      "cell_type": "markdown",
      "source": [
        "Dado un operador unitario $\\hat U$ y un eigenestado $|\\Psi\\rangle$ de $\\hat U$ con un eigenvalor desconocido $e^{i 2\\pi \\varphi}$, deseamos estimar el valor de $\\varphi$.\n",
        "\n",
        "Suponemos lo siguiente:\n",
        "\n",
        "$\\bullet$ $U$ es un circuito cuántico que implementa $\\hat U$ y que podemos implementar la operación *control*-$U^{2^t}$ para el entero positivo $t$.\n",
        "\n",
        "$\\bullet$ Tenemos la capacidad de preparar eficientemente $|\\Psi\\rangle$.\n",
        "\n",
        "$\\bullet$ $\\varphi$ puede tener una expansión binaria exacta:\n",
        "$$\n",
        "\\varphi = \\varphi_1/2^1 + \\varphi_2/2^2 + \\cdots + \\varphi_m/2^m = 0.\\varphi_1 \\varphi_2 \\cdots \\varphi_m\n",
        "$$\n",
        "\n",
        "$\\bullet$ $\\hat U$ es un operador unitario que actúa sobre un qubit.\n",
        "\n",
        "Como la IPE (de *iterative phase estimation*) requiere un qubit auxiliar, necesitamos dos qubits, $q_0$ y $q_1$, donde $q_0$ es el qubit auxiliar y $q_1$ representa el sistema en el que opera $\\hat U$."
      ],
      "metadata": {
        "id": "N1SA7BW8Eo25"
      }
    },
    {
      "cell_type": "markdown",
      "source": [
        "$\\bullet$ Si inicializamos $q_0$ en el estado $|+\\rangle = \\frac{|0\\rangle + |1\\rangle}{\\sqrt{2}}$ y $q_1$ en el estado $|\\Psi \\rangle$, tenemos que\n",
        "$$\n",
        "\\begin{align}\n",
        "|+\\rangle |\\Psi \\rangle &= \\left(\\frac{|0\\rangle + |1\\rangle}{\\sqrt{2}}\\right) |\\Psi \\rangle \\\\\n",
        "&= \\frac{|0\\rangle |\\Psi \\rangle + |1\\rangle |\\Psi \\rangle}{\\sqrt{2}} \\\\\n",
        "&\\xrightarrow{\\text{control-}U^{2^t}} \\frac{|0\\rangle |\\Psi \\rangle + e^{i 2 \\pi 2^{t} \\varphi} |1\\rangle |\\Psi \\rangle}{\\sqrt{2}} \\\\\n",
        "&= \\left(\\frac{|0\\rangle + e^{i 2 \\pi 2^{t} \\varphi} |1\\rangle}{\\sqrt{2}}\\right) |\\Psi \\rangle.\n",
        "\\end{align}\n",
        "$$\n",
        "(*phase kickback*).\n",
        "\n",
        "Notemos que\n",
        "$$\n",
        "e^{i 2 \\pi 2^{t} \\varphi} = e^{i 2 \\pi 2^{t} (0.\\varphi_1 \\varphi_2 \\cdots \\varphi_m)}\n",
        "= e^{i 2 \\pi (\\varphi_1 \\cdots \\varphi_t . \\varphi_{t + 1} \\cdots \\varphi_m)}\n",
        "= e^{i 2 \\pi (0. \\varphi_{t + 1} \\cdots \\varphi_m)},\n",
        "$$\n",
        "donde en la última igualdad, la parte entera de la representación \"decimal\" de la fase ha desaparecido porque $e^{i 2\\pi n} = 1$ para cualquier entero $n$.\n",
        "Por ejemplo:\n",
        "- para $t=0$, la fase sería $e^{i 2 \\pi 2^{0} \\varphi} = e^{i 2 \\pi \\varphi} = e^{i 2 \\pi 0.\\varphi_1 \\varphi_2 ... \\varphi_m}$\n",
        "- para $t=1$, la fase sería $e^{i 2 \\pi 2^{1} \\varphi}= e^{i 2 \\pi \\varphi_1} e^{i 2 \\pi 0.\\varphi_2 \\varphi_3 ... \\varphi_m} = e^{i 2 \\pi 0.\\varphi_2 \\varphi_3 ... \\varphi_m}$\n",
        "- para $t=2$, la fase sería $e^{i 2 \\pi 2^{2} \\varphi} = e^{i 2 \\pi 0.\\varphi_3 \\varphi_4 ... \\varphi_m}$\n",
        "- para $t=m-1$, la fase sería $e^{i 2 \\pi 2^{m-1} \\varphi} = e^{i 2 \\pi 0.\\varphi_m}$.\n",
        "\n",
        "En el último caso, donde $t = m - 1$, la fase es $e^{i 2 \\pi 0.\\varphi_m}$, que es igual a $1$ si $\\varphi_m = 0$ y $-1$ si $\\varphi_m = 1$.\n",
        "En el primer caso, el qubit auxiliar $q_0$ estaría en el estado $|+\\rangle = \\frac{|0\\rangle + |1\\rangle}{\\sqrt{2}}$, y en el segundo caso estaría\n",
        "en el estado $|-\\rangle = \\frac{|0\\rangle - |1\\rangle}{\\sqrt{2}}$. Por lo tanto, medir el qubit en la base Pauli $X$ distinguiría estos casos con una tasa de éxito del 100%.\n",
        "Esto se hace ejecutando una compuerta Hadamard en el qubit antes de medirlo. En el primer caso mediríamos 0 y en el segundo caso mediríamos 1;\n",
        "en otras palabras, el bit medido sería igual a $\\varphi_m$."
      ],
      "metadata": {
        "id": "rFUS2k_fEv3g"
      }
    },
    {
      "cell_type": "markdown",
      "source": [
        "## El algoritmo\n",
        "\n",
        "$\\bullet$ En el primer paso, medimos directamente el bit menos significativo de la fase $\\varphi$, $\\varphi_m$. Inicializamos los registros de 2 qubits como se describió anteriormente ( $q_0 \\rightarrow |+\\rangle$ y $q_1 \\rightarrow |\\Psi \\rangle$ ), realizando una operación *control*-$U^{2^{m-1}}$ y midiendo $q_0$ en la base Pauli $X$.\n",
        "\n",
        "$\\bullet$ En el segundo paso, inicializamos los sistemas de la misma manera y aplicamos una operación *control*-$U^{2^{m-2}}$. La fase relativa en $q_0$ después de estas operaciones es ahora $e^{i 2 \\pi 0.\\varphi_{m-1}\\varphi_{m}}= e^{i 2 \\pi 0.\\varphi_{m-1}} e^{i 2 \\pi \\varphi_m/4}$.\n",
        "Para extraer el bit de fase $\\varphi_{m-1}$, primero realizamos una corrección de fase rotando alrededor del eje $Z$ en un ángulo $-2 \\pi \\varphi_m/4=-\\pi \\varphi_m/2$, lo que da como resultado que el estado de $q_0$ sea $|0\\rangle + e^{i 2 \\pi 0.\\varphi_{m-1}} | 1 \\rangle$. Después hacemos una medición en $q_0$ en la base Pauli $X$ para obtener el bit de fase $\\varphi_{m-1}$.\n",
        "\n",
        "$\\bullet$ En el paso $k$-ésimo del IPE, obtenemos $\\varphi_{m-k+1}$, consistente en la inicialización del registro ($q_0$ en $|+\\rangle$, $q_1$ en $|\\Psi\\rangle$), la aplicación de un $U^{2^{m-k}}$ *controlado*, una rotación alrededor de $Z$ de ángulo $\\omega_k = -2 \\pi 0.0\\varphi_{m-k+2} ... \\varphi_m$, y una medición de $q_0$ en la base de Pauli $X$: una transformada de Hadamard a $q_0$, y una medición de $q_0$ en la base computacional. Notemos que $q_1$ permanece en el estado $|\\Psi\\rangle$ durante todo el algoritmo."
      ],
      "metadata": {
        "id": "zV5KalhvE1_f"
      }
    },
    {
      "cell_type": "markdown",
      "source": [
        "## Implementación\n",
        "\n",
        "Haremos IPE en la compuerta $\\hat S$ de un solo qubit,\n",
        "\n",
        "$$ S =\n",
        "\\begin{pmatrix}\n",
        "1 & 0\\\\\n",
        "0 & e^{i\\pi / 2}\n",
        "\\end{pmatrix}$$\n",
        "\n",
        "Usaremos el estado $|\\Psi\\rangle = |1\\rangle$, con eigenvalor $e^{i\\pi / 2}= e^{i2\\pi \\cdot 1/4}$. Por lo tanto, tenemos $\\varphi = 1/4 = 0.01 = 0.\\varphi_1 \\varphi_2$. Dado que $\\varphi$ se puede representar exactamente con 2 bits. Nuestra implementación del circuito cuántico utilizará un registro clásico con dos bits para almacenar el resultado.\n",
        "\n",
        "La compuerta $S$ controlada se puede implementar utilizando la compuerta de fase controlada, disponible en Qiskit como `CPhaseGate`, que también se puede aplicar llamando al método `cp` de un `QuantumCircuit`. La compuerta de fase controlada está parametrizada por un ángulo $\\theta$ y tiene la matriz\n",
        "$$\n",
        "\\text{CPhase}(\\theta) =\n",
        "\\begin{pmatrix}\n",
        "1 & 0 & 0 & 0 \\\\\n",
        "0 & 1 & 0 & 0 \\\\\n",
        "0 & 0 & 1 & 0 \\\\\n",
        "0 & 0 & 0 & e^{i\\theta}\n",
        "\\end{pmatrix}\n",
        "$$"
      ],
      "metadata": {
        "id": "ar97vzyMFFwZ"
      }
    },
    {
      "cell_type": "markdown",
      "source": [
        "### Ejercicio 1\n",
        "\n",
        "Obtenga el bit menos significativo de $\\varphi$ realizando los siguientes pasos:\n",
        "1. Inicialice los qubits:\n",
        "- Inicie el qubit auxiliar, $q[0]$, en el estado $|+\\rangle$\n",
        "- Inicie el qubit del sistema, $q[1]$, en el estado $|1\\rangle$.\n",
        "2. Aplique una compuerta *controlada*-$S^{2}$ aplicando una `CPhaseGate` con el ángulo apropiado.\n",
        "3. Mida el qubit auxiliar en la base $X$."
      ],
      "metadata": {
        "id": "bvf88a51FJiz"
      }
    },
    {
      "cell_type": "code",
      "source": [
        "from qiskit import ClassicalRegister, QuantumCircuit, QuantumRegister\n",
        "import numpy as np\n",
        "\n",
        "\n",
        "def step_1_circuit(qr: QuantumRegister, cr: ClassicalRegister) -> QuantumCircuit:\n",
        "    # qr es un registro de 2 qubits\n",
        "    # cr es un registro de 2 bits\n",
        "\n",
        "    qc = QuantumCircuit(qr, cr)\n",
        "\n",
        "    ####### llene el siguiente espacio #######\n",
        "\n",
        "\n",
        "\n",
        "    ###################################\n",
        "\n",
        "    return qc\n",
        "\n",
        "\n",
        "qr = QuantumRegister(2, \"q\")\n",
        "cr = ClassicalRegister(2, \"c\")\n",
        "qc = QuantumCircuit(qr, cr)\n",
        "qc = step_1_circuit(qr, cr)\n",
        "qc.draw(\"mpl\")"
      ],
      "metadata": {
        "colab": {
          "base_uri": "https://localhost:8080/",
          "height": 255
        },
        "id": "EvvJRNWkFY0D",
        "outputId": "7e9bc0fa-2e82-4c4e-bed7-6c564b0afbc7"
      },
      "execution_count": null,
      "outputs": [
        {
          "output_type": "execute_result",
          "data": {
            "text/plain": [
              "<Figure size 161.878x284.278 with 1 Axes>"
            ],
            "image/png": "[encoded data removed]"
          },
          "metadata": {},
          "execution_count": 2
        }
      ]
    },
    {
      "cell_type": "markdown",
      "source": [
        "En el primer paso, medimos el bit menos significativo $\\varphi_2$. En el segundo (y último) paso, extraemos el siguiente bit $\\varphi_1$, lo que implicará aplicar una corrección de fase para cancelar la contribución de fase de $\\varphi_2$. La corrección de fase depende del valor del registro clásico que contiene $\\varphi_2$. La corrección de fase se puede aplicar utilizando *PhaseGate*.\n",
        "\n",
        "## Ejercicio 2\n",
        "\n",
        "\n",
        "Obtenga el siguiente bit de $\\varphi$ realizando los siguientes pasos:\n",
        "1. Restablezca y reinicialice el qubit auxiliar.\n",
        "2. Aplique la compuerta unitaria controlada.\n",
        "3. Mida el qubit auxiliar en la base $X$."
      ],
      "metadata": {
        "id": "qWZ4t3w8FpRV"
      }
    },
    {
      "cell_type": "code",
      "source": [
        "def step_2_circuit(qr: QuantumRegister, cr: ClassicalRegister) -> QuantumCircuit:\n",
        "    # qr tiene 2 qubits\n",
        "    # cr tiene 2 bits\n",
        "\n",
        "    # comenzamos con el circuito del Ejercicio 1\n",
        "    qc = step_1_circuit(qr, cr)\n",
        "\n",
        "    ####### llene el siguiente espacio #######\n",
        "\n",
        "\n",
        "    ######################################\n",
        "\n",
        "    return qc\n",
        "\n",
        "\n",
        "\n",
        "qr = QuantumRegister(2, \"q\")\n",
        "cr = ClassicalRegister(2, \"c\")\n",
        "qc = QuantumCircuit(qr, cr)\n",
        "qc = step_2_circuit(qr, cr)\n",
        "qc.draw(\"mpl\")"
      ],
      "metadata": {
        "colab": {
          "base_uri": "https://localhost:8080/",
          "height": 255
        },
        "id": "JlRc_gFvFw_T",
        "outputId": "175a13f3-cdb0-4904-c61c-e623ccab16ad"
      },
      "execution_count": null,
      "outputs": [
        {
          "output_type": "execute_result",
          "data": {
            "text/plain": [
              "<Figure size 161.878x284.278 with 1 Axes>"
            ],
            "image/png": "[encoded data removed]"
          },
          "metadata": {},
          "execution_count": 3
        }
      ]
    },
    {
      "cell_type": "code",
      "source": [
        "from qiskit_aer import AerSimulator\n",
        "backend =  AerSimulator(method='statevector')\n",
        "\n",
        "\n",
        "job = backend.run(qc,shots=1024)\n",
        "\n",
        "resultados = job.result()\n",
        "counts = resultados.get_counts()\n",
        "counts"
      ],
      "metadata": {
        "id": "F8s5JWTOF72P"
      },
      "execution_count": null,
      "outputs": []
    },
    {
      "cell_type": "markdown",
      "source": [
        "Si el circuito es correcto, deberías haber obtenido la cadena de bits `01` con un 100 % de probabilidad. Este valor corresponde a la fase escrita en binario como $\\varphi = 0.01 = 1/4$."
      ],
      "metadata": {
        "id": "FAQqJefLGG0B"
      }
    },
    {
      "cell_type": "markdown",
      "source": [
        "## Ejercicio 3\n",
        "\n",
        "Construye un circuito IPE para estimar la fase de la compuerta T,\n",
        "\n",
        "$$ T =\n",
        "\\begin{pmatrix}\n",
        "1 & 0\\\\\n",
        "0 & e^{i\\pi / 4}\n",
        "\\end{pmatrix}$$\n",
        "\n",
        "¿Cuántos bits se necesitan para representar la fase en este caso?"
      ],
      "metadata": {
        "id": "Say8Tk-wGHnY"
      }
    },
    {
      "cell_type": "code",
      "source": [
        "from qiskit import ClassicalRegister, QuantumCircuit, QuantumRegister\n",
        "import numpy as np\n",
        "\n",
        "\n",
        "def t_gate_ipe_circuit(qr: QuantumRegister, cr: ClassicalRegister) -> QuantumCircuit:\n",
        "    # qr tiene 2 qubits\n",
        "    # cr tiene 3 bits\n",
        "\n",
        "    qc = QuantumCircuit(qr, cr)\n",
        "\n",
        "    ####### llene el siguiente espacio #######\n",
        "\n",
        "\n",
        "    ###################################\n",
        "\n",
        "    return qc\n",
        "\n",
        "\n",
        "qr = QuantumRegister(2, \"q\")\n",
        "cr = ClassicalRegister(3, \"c\")\n",
        "qc = QuantumCircuit(qr, cr)\n",
        "qc = t_gate_ipe_circuit(qr, cr)\n",
        "qc.draw(\"mpl\")"
      ],
      "metadata": {
        "id": "OZTZqnMIGLkM"
      },
      "execution_count": null,
      "outputs": []
    },
    {
      "cell_type": "code",
      "source": [
        "from qiskit_aer import AerSimulator\n",
        "backend =  AerSimulator(method='statevector')\n",
        "\n",
        "\n",
        "job = backend.run(qc,shots=1024)\n",
        "resultados = job.result()\n",
        "counts = resultados.get_counts()\n",
        "counts"
      ],
      "metadata": {
        "id": "vXjdkia8GSFW"
      },
      "execution_count": null,
      "outputs": []
    },
    {
      "cell_type": "markdown",
      "source": [
        "## Ejecutando en hardware cuántico"
      ],
      "metadata": {
        "id": "rkMyB3XCGWL6"
      }
    },
    {
      "cell_type": "code",
      "source": [
        "# Necesario para ejecutar un trabajo en hardware cuántico\n",
        "\n",
        "from qiskit_ibm_runtime import QiskitRuntimeService"
      ],
      "metadata": {
        "id": "f3LFlNZTGaQg"
      },
      "execution_count": null,
      "outputs": []
    },
    {
      "cell_type": "code",
      "source": [
        "# el 'token' se copia de ibm quantum\n",
        "\n",
        "ibm_quantum_service = QiskitRuntimeService(channel=\"ibm_quantum\", token=\"<token>\")"
      ],
      "metadata": {
        "id": "GN12NK4WGfVy"
      },
      "execution_count": null,
      "outputs": []
    },
    {
      "cell_type": "code",
      "source": [
        "from qiskit import QuantumCircuit\n",
        "from qiskit.transpiler.preset_passmanagers import generate_preset_pass_manager\n",
        "from qiskit_ibm_runtime import QiskitRuntimeService, SamplerV2 as Sampler"
      ],
      "metadata": {
        "id": "HEOgqB0iGk4s"
      },
      "execution_count": null,
      "outputs": []
    },
    {
      "cell_type": "code",
      "source": [
        "# optimizar\n",
        "backend = ibm_quantum_service.least_busy(operational=True, simulator=False)\n",
        "pm = generate_preset_pass_manager(backend=backend, optimization_level=1)\n",
        "isa_circuit = pm.run(qc)"
      ],
      "metadata": {
        "id": "cF1DYY3hGn2y"
      },
      "execution_count": null,
      "outputs": []
    },
    {
      "cell_type": "code",
      "source": [
        "# ejecutar el \"sampler\"\n",
        "sampler = Sampler(backend=backend)\n",
        "sampler.options.default_shots = 1024\n",
        "job = sampler.run([isa_circuit])\n",
        "print(f\"Job ID = {job.job_id()}\")\n",
        "pub_result = job.result()[0]\n",
        "print(f\"cuentas: {pub_result.data.meas.get_counts()}\")"
      ],
      "metadata": {
        "id": "zGiGKRS3Gv8G"
      },
      "execution_count": null,
      "outputs": []
    },
    {
      "cell_type": "markdown",
      "source": [
        "## Cuando la fase no tiene una expansión binaria exacta\n",
        "\n",
        "Consideremos el caso en el que la fase no tiene una expansión binaria exacta, por ejemplo, $\\varphi = 1/3$.\n",
        "En este caso, la compuerta de un solo qubit tiene la expansión binaria unitaria\n",
        "\n",
        "$$ U =\n",
        "\\begin{pmatrix}\n",
        "1 & 0\\\\\n",
        "0 & e^{i2\\pi / 3}\n",
        "\\end{pmatrix}\n",
        "$$\n",
        "\n",
        "El ángulo $\\varphi = 1/3$ no tiene una expansión binaria finita exacta. En cambio, sino la expansión binaria infinita\n",
        "\n",
        "$$\n",
        "1/3 = 0.010101\\ldots\n",
        "$$\n",
        "\n",
        "En la práctica trabajamos con un número fijo de bits de precisión, por lo que nuestro objetivo es obtener el valor más cercano que se pueda representar con esos bits. En el siguiente ejemplo, utilizaremos dos bits de precisión. En este caso, el valor más cercano es $0.01 = 1/4$. Como este valor no representa la fase exacta, existe cierta probabilidad de que obtengamos un resultado diferente, menos preciso.\n",
        "\n",
        "En las siguientes celdas de código, construimos y simulamos un circuito IPE para medir la fase de esta compuerta."
      ],
      "metadata": {
        "id": "u5-naXbNHH3r"
      }
    },
    {
      "cell_type": "code",
      "source": [
        "from qiskit import ClassicalRegister, QuantumCircuit, QuantumRegister\n",
        "import numpy as np\n",
        "\n",
        "\n",
        "def u_circuit(qr: QuantumRegister, cr: ClassicalRegister) -> QuantumCircuit:\n",
        "\n",
        "\n",
        "    qc = QuantumCircuit(qr, cr)\n",
        "\n",
        "    # inicialización\n",
        "    q0, q1 = qr\n",
        "    qc.h(q0)\n",
        "    qc.x(q1)\n",
        "\n",
        "    # aplicamos control-U tantas veces como sea necesario\n",
        "    u_angle = 2 * np.pi / 3\n",
        "    k = 1\n",
        "    cphase_angle = u_angle * 2**k\n",
        "    qc.cp(cphase_angle, q0, q1)\n",
        "\n",
        "    # medimos el qubit auxiliar en la base Xen el bit 1\n",
        "    qc.h(q0)\n",
        "    c0, c1 = cr\n",
        "    qc.measure(q0, c0)\n",
        "\n",
        "    # reinicializamos el qubit auxiliar\n",
        "    qc.reset(q0)\n",
        "    qc.h(q0)\n",
        "\n",
        "    # aplicamos la corrección de fase, si es necesario\n",
        "    with qc.if_test((c0, 1)):\n",
        "        qc.p(-np.pi / 2, q0)\n",
        "\n",
        "    # aplicamos control-U tantas veces como sea necesario\n",
        "    k = 0\n",
        "    cphase_angle = u_angle * 2**k\n",
        "    qc.cp(cphase_angle, q0, q1)\n",
        "\n",
        "    # medimos el qubit en la base X\n",
        "    qc.h(q0)\n",
        "    qc.measure(q0, c1)\n",
        "    #qc.measure_all()\n",
        "\n",
        "    return qc\n",
        "\n",
        "\n",
        "qr = QuantumRegister(2, \"q\")\n",
        "cr = ClassicalRegister(2, \"c\")\n",
        "qc = QuantumCircuit(qr, cr)\n",
        "qc = u_circuit(qr, cr)\n",
        "qc.draw(\"mpl\")"
      ],
      "metadata": {
        "id": "Ksx17AYZHIww"
      },
      "execution_count": null,
      "outputs": []
    },
    {
      "cell_type": "code",
      "source": [
        "from qiskit_aer import AerSimulator\n",
        "backend =  AerSimulator(method='statevector')\n",
        "\n",
        "job = backend.run(qc,shots=1024)\n",
        "resultados = job.result()\n",
        "counts = resultados.get_counts()\n",
        "success_probability = counts[\"01\"] / counts.shots()\n",
        "print(f\"probabilidad de éxito: {success_probability}\")"
      ],
      "metadata": {
        "id": "85aUniCrHP2r"
      },
      "execution_count": null,
      "outputs": []
    }
  ]
}