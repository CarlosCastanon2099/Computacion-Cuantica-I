{
  "nbformat": 4,
  "nbformat_minor": 0,
  "metadata": {
    "colab": {
      "provenance": []
    },
    "kernelspec": {
      "name": "python3",
      "display_name": "Python 3"
    },
    "language_info": {
      "name": "python"
    }
  },
  "cells": [
    {
      "cell_type": "code",
      "execution_count": null,
      "metadata": {
        "id": "yAujkY4l0Lt7"
      },
      "outputs": [],
      "source": [
        "!pip install qiskit\n",
        "!pip install pylatexenc\n",
        "!pip install qiskit-aer\n",
        "!pip install qiskit-ibm-runtime"
      ]
    },
    {
      "cell_type": "code",
      "source": [
        "from typing import List, Optional\n",
        "from qiskit import transpile, QuantumCircuit, QuantumRegister, ClassicalRegister\n",
        "from qiskit.visualization import plot_histogram\n",
        "import warnings\n",
        "warnings.filterwarnings(\"ignore\")\n",
        "import math\n",
        "import numpy as np\n",
        "\n",
        "from qiskit_ibm_runtime import SamplerV2                    # para simular repeticiones de un experimento\n",
        "from qiskit_ibm_runtime.fake_provider import FakeManilaV2   # backend falso que simula hardware real (con ruido)\n",
        "\n",
        "from qiskit_aer import AerSimulator\n",
        "backend =  AerSimulator(method='statevector')"
      ],
      "metadata": {
        "id": "WCXuPftl0Ql_"
      },
      "execution_count": null,
      "outputs": []
    },
    {
      "cell_type": "markdown",
      "source": [
        "#Corrección de errores\n",
        "\n",
        "El error en computación cuántica se refiere al fenómeno por el cual las computadoras cuánticas, a diferencia de las clásicas, no pueden corregir errores copiando datos codificados una y otra vez. Los errores pueden ocurrir debido a varias fuentes, como:\n",
        "\n",
        "**Ruido:** las perturbaciones ambientales, como las fluctuaciones de temperatura o las interacciones con las moléculas circundantes, pueden hacer que los qubits pierdan su información.\n",
        "\n",
        "**Decoherencia:** los qubits son extremadamente sensibles, e incluso cambios leves pueden inducir errores.\n",
        "\n",
        "**Errores de compuerta cuántica:** las imperfecciones en las compuertas cuánticas, que realizan operaciones en los qubits, pueden introducir errores.\n",
        "\n",
        "Algunas técnicas de mitigación de errores incluyen:\n",
        "\n",
        "**Códigos de corrección de errores cuánticos:** estos códigos codifican información cuántica en múltiples qubits físicos para formar un \"qubit lógico\". Esto permite la detección y corrección de errores.\n",
        "\n",
        "*En este laboratorio seguiremos el método anterior.*\n",
        "\n",
        "**Algoritmos de corrección de errores:** estos algoritmos, como el *surface code*, detectan y corrigen errores midiendo síndromes (indicadores de errores) y aplicando operaciones de corrección.\n"
      ],
      "metadata": {
        "id": "hfu_Tgd58JFF"
      }
    },
    {
      "cell_type": "markdown",
      "source": [
        "## Conceptos previos\n",
        "\n",
        "\n",
        "**Ruido cuántico**\n",
        "\n",
        "El ruido cuántico es una fuente fundamental de ruido en los sistemas cuánticos, que surge de la indeterminación inherente de la mecánica cuántica. Es un proceso aleatorio causado por fluctuaciones en la cantidad de fotones que llegan al detector de un punto a otro.\n",
        "\n",
        "**Coherencia**\n",
        "\n",
        "La coherencia cuántica se refiere a la capacidad de un sistema de mantener una relación de fase bien definida entre diferentes estados en una superposición. Esta propiedad permite que los qubits existan en una combinación lineal de estados base, lo que permite el paralelismo cuántico y la interferencia, que son fundamentales para la computación cuántica.\n",
        "\n",
        "\n"
      ],
      "metadata": {
        "id": "U4wgHXdc8SRv"
      }
    },
    {
      "cell_type": "markdown",
      "source": [
        "#Errores clásicos (digitales)\n",
        "\n",
        "Supongamos que deseamos enviar un mensaje en términos de 1s y 0s. Incluso en el caso clásico, existe alguna probabilidad de que algún bit cambie, por ejemplo de 0 a 1.\n",
        "\n",
        "Si la probabilidad de que un bit cambie de valor (i.e. de que haya error) es 0.1, entonces hay una posibilidad de 1 en 10, de que el bit recibido sea incorrecto. Si se envía 0 diez veces, el mensaje podría leerse como 0001000000.\n",
        "\n",
        "Una de las soluciones más simples es usar alguna repetición. El *bit de datos* 1 puede codificarse como 111, y de la misma manera un 0 se codifica como 000. Cada *bit de datos* ahora se codifica usando tres bits en lugar de solo uno.\n",
        "\n",
        "Si ahora enviamos 000 y ocurre un error, entonces el receptor podría ver 001. Como el receptor sabe que debería haber recibido 000 o 111, podría deducir que probablemente se envió 000 y se invirtió un solo bit.\n",
        "\n",
        "¿Qué pasa si ocurren múltiples errores? Nuestro mensaje se convierte en 011 y el destinatario ahora asume que queríamos enviar 111. El error sigue presente. Al usar la repetición, **reducimos la posibilidad** de que eso suceda.\n",
        "\n",
        "La probabilidad de error se puede obtener de la distribución binomial:\n",
        "\n",
        "$$P(k)=\\begin{pmatrix}n\\\\k\\end{pmatrix}p^k(1-p)^{n-k}.$$\n"
      ],
      "metadata": {
        "id": "jQ6O4kdp8W82"
      }
    },
    {
      "cell_type": "code",
      "source": [
        "# probabilidad de encontrar un error en 000\n",
        "p1 = 0.10\n",
        "\n",
        "# probabilidad de que un mensaje tenga 2 o 3 errores\n",
        "p3 = 3 * p1 * p1 * (1 - p1) + p1 * p1 * p1\n",
        "\n",
        "print(\"Probabilidad de un error en 000 = {}\".format(p1))\n",
        "print(\"Probabilidad de dos o más errores en the 000 = {:.4f}\".format(p3))"
      ],
      "metadata": {
        "id": "x6prMtQU8bI-"
      },
      "execution_count": null,
      "outputs": []
    },
    {
      "cell_type": "markdown",
      "source": [
        "**¿Qué sucede conforme variamos p1?**\n",
        "\n",
        "Sabiendo cómo puede ayudar la repetición, podemos implementar un programa simple que *codifique* el mensaje anterior. *Deseamos convertir un bit en tres bits*. Después, podríamos escribir un programa simple para *decodificar* el mensaje, tomando los tres bits y convirtiéndolos nuevamente en uno."
      ],
      "metadata": {
        "id": "dLry0u3P8fgU"
      }
    },
    {
      "cell_type": "markdown",
      "source": [
        "## Ejercicio 1\n",
        "\n",
        "Construyamos un circuito que decodifique un estado de tres bits, utilizando los qubits 0, 1 y 2, en un solo bit en el qubit 4, siguiendo las reglas siguientes:\n",
        "\n",
        "- 000->0\n",
        "- 001->0\n",
        "- 010->0\n",
        "- 100->0\n",
        "- 111->1\n",
        "- 110->1\n",
        "- 101->1\n",
        "- 011->1"
      ],
      "metadata": {
        "id": "CRhACvM88kVh"
      }
    },
    {
      "cell_type": "code",
      "source": [
        "def create_decoder(qr: QuantumRegister, cr: ClassicalRegister) -> QuantumCircuit:\n",
        "# Espere un bit codificado en los primeros 3 qubits y descodifíquelo en el cuarto qubit\n",
        "# Asegúrese de que los valores de los primeros 3 qubits permanezcan iguales\n",
        "\n",
        "    qc = QuantumCircuit(qr, cr)\n",
        "    q0, q1, q2, q3 = qr\n",
        "    (c0,) = cr\n",
        "\n",
        "    ####### complete el siguiente espacio #######\n",
        "\n",
        "\n",
        "\n",
        "    ####################################\n",
        "\n",
        "    return qc"
      ],
      "metadata": {
        "id": "T89HcuJf8nkG"
      },
      "execution_count": null,
      "outputs": []
    },
    {
      "cell_type": "markdown",
      "source": [
        "Veamos cómo se vería nuestra decodificación en el caso en que codificamos 1.\n",
        "\n",
        "Intente experimentar con diferentes entradas (incluidas las que tienen un error) para ver cómo se comportaría su circuito de corrección de errores en estos casos."
      ],
      "metadata": {
        "id": "jgWyq_A_8scK"
      }
    },
    {
      "cell_type": "code",
      "source": [
        "# Esperamos que un bit se codifique en los primeros 3 qubits y lo descodifiquemos en el cuarto qubitqr = QuantumRegister(4)\n",
        "qr = QuantumRegister(4)\n",
        "cr = ClassicalRegister(1)\n",
        "\n",
        "q0, q1, q2, q3 = qr\n",
        "\n",
        "# Para codificar un 1. Cámbielos para probar las otras codificaciones.\n",
        "encoder = QuantumCircuit(qr, cr)\n",
        "encoder.x(q0)\n",
        "encoder.x(q1)\n",
        "encoder.x(q2)\n",
        "\n",
        "decoder = create_decoder(qr, cr)\n",
        "qc1 = encoder.compose(decoder)\n",
        "\n",
        "qc1.measure(q3, cr)\n",
        "\n",
        "qc1.draw(\"mpl\")"
      ],
      "metadata": {
        "id": "LCXSN_iM8xkn"
      },
      "execution_count": null,
      "outputs": []
    },
    {
      "cell_type": "code",
      "source": [
        "job = backend.run(qc1,shots=1024)\n",
        "resultados = job.result()\n",
        "counts = resultados.get_counts()\n",
        "counts"
      ],
      "metadata": {
        "id": "t6EW6ngR8z9L"
      },
      "execution_count": null,
      "outputs": []
    },
    {
      "cell_type": "markdown",
      "source": [
        "#El caso cuántico\n",
        "\n",
        "Clásicamente, repitiendo un bit podemos atenuar los errores. Cuánticamente, no podemos hacer eso:\n",
        "\n",
        "1. El Teorema de no clonación.\n",
        "\n",
        "2. Medir un qubit hará que su estado colapse, lo que significa que debemos tener cuidado al trabajar con qubits entrelazados.\n",
        "\n",
        "\n",
        "Necesitaremos varios qubits para almacenar la información, además necesitaremos algunos qubits *ancilla* adicionales, que usamos como *estabilizadores*.\n",
        "\n",
        "La idea es que estos *ancilla* no estén entrelazados con los qubits que almacenan el estado, sin embargo, aún nos dan pistas sobre posibles errores al ser medidos.\n",
        "\n",
        "Utilizaremos dos conjuntos de qubits, unos utilizados para la codificación y otros utilizados para los estabilizadores."
      ],
      "metadata": {
        "id": "PSoTWTPN83x1"
      }
    },
    {
      "cell_type": "markdown",
      "source": [
        "## Implementación del código de repetición de cambio de bits (*bit-flip*)"
      ],
      "metadata": {
        "id": "tZ_Bn9ol9MgT"
      }
    },
    {
      "cell_type": "code",
      "source": [
        "# Configurar un circuito cuántico base para nuestros experimentos.\n",
        "encoding = QuantumRegister(3)\n",
        "stabilizer = QuantumRegister(2)\n",
        "\n",
        "encoding_q0, encoding_q1, encoding_q2 = encoding\n",
        "stabilizer_q0, stabilizer_q1 = stabilizer\n",
        "\n",
        "# Resultados de la codificación\n",
        "results = ClassicalRegister(3)\n",
        "\n",
        "result_b0, result_b1, result_b2 = results\n",
        "\n",
        "# Para medir el estabilizador\n",
        "syndrome = ClassicalRegister(2)\n",
        "\n",
        "syndrome_b0, syndrome_b1 = syndrome\n",
        "\n",
        "# El qubit real que está codificado\n",
        "state = encoding[0]\n",
        "\n",
        "# Las ancillas utilizadas para codificar el estado\n",
        "ancillas = encoding[1:]\n",
        "\n",
        "\n",
        "# Inicialización\n",
        "def initialize_circuit() -> QuantumCircuit:\n",
        "    return QuantumCircuit(encoding, stabilizer, results, syndrome)"
      ],
      "metadata": {
        "id": "z8SoTOAI9QEE"
      },
      "execution_count": null,
      "outputs": []
    },
    {
      "cell_type": "markdown",
      "source": [
        "### Inicialización del qubit\n",
        "\n",
        "Para proteger un estado cuántico de errores, primero debemos prepararlo.\n",
        "En general, podemos preparar el estado $$|\\Psi_0\\rangle \\rightarrow |\\Psi_1\\rangle = (\\alpha |0\\rangle + \\beta |1\\rangle)$$\n",
        "En el circuito siguiente, preparamos el estado físico $$|\\Psi_1\\rangle = |1\\rangle$$"
      ],
      "metadata": {
        "id": "-lZFNhdM9SY5"
      }
    },
    {
      "cell_type": "code",
      "source": [
        "initial_state = initialize_circuit()\n",
        "\n",
        "initial_state.x(encoding[0])\n",
        "\n",
        "initial_state.draw(output=\"mpl\")"
      ],
      "metadata": {
        "id": "7B1NHjfo9Zqw"
      },
      "execution_count": null,
      "outputs": []
    },
    {
      "cell_type": "markdown",
      "source": [
        "### Codificación del qubit\n",
        "\n",
        "De manera similar al caso clásico, queremos usar la repetición para almacenar el qubit inicial.\n",
        "\n",
        "Queremos mapear nuestro estado $|\\Psi_1\\rangle = (\\alpha |0\\rangle + \\beta |1\\rangle)$ usando nuestra codificación $U_{en}|\\Psi_0\\rangle$ al estado $ (\\alpha |000\\rangle + \\beta |111\\rangle)$.\n",
        "\n",
        "Este estado es un estado entrelazado y cuando se mide un qubit, también se conoce el resultado de los otros dos qubits.\n",
        "\n",
        "Por lo tanto, usaremos CX para crear este estado entrelazado de tres qubits a partir del estado inicial de un qubit:"
      ],
      "metadata": {
        "id": "HOHlt6V49aVY"
      }
    },
    {
      "cell_type": "code",
      "source": [
        "# Codificación mediante código de inversión de bits\n",
        "def encode_bit_flip(qc, state, ancillas):\n",
        "    qc.barrier(state, *ancillas)\n",
        "    for ancilla in ancillas:\n",
        "        qc.cx(state, ancilla)\n",
        "    return qc\n",
        "\n",
        "\n",
        "# El circuito que codifica nuestra qubit\n",
        "encoding_circuit = encode_bit_flip(initialize_circuit(), state, ancillas)\n",
        "\n",
        "# El circuito incluyendo todas las partes hasta ahora\n",
        "complete_circuit = initial_state.compose(encoding_circuit)\n",
        "complete_circuit.draw(output=\"mpl\")"
      ],
      "metadata": {
        "id": "O2dVwUs89eIn"
      },
      "execution_count": null,
      "outputs": []
    },
    {
      "cell_type": "markdown",
      "source": [
        "### Preparación de un circuito de decodificación\n",
        "\n",
        "Para decodificar el estado original, debemos construir un decodificador que haga lo opuesto, es decir, un decodificador $U_{de}|\\Psi_0\\rangle$ que asigne $ (\\alpha |000\\rangle + \\beta |111\\rangle)$ a $|\\Psi_1\\rangle = (\\alpha |0\\rangle + \\beta |1\\rangle)$\n",
        "\n",
        "Como hace exactamente lo opuesto, podemos invertir nuestro codificador:\n",
        "\n",
        "$U_{de} = U_{en}^\\dagger$"
      ],
      "metadata": {
        "id": "kNh_0LWH9hJP"
      }
    },
    {
      "cell_type": "code",
      "source": [
        "# Decoding (doing the reverse)\n",
        "def decode_bit_flip(qc, state, ancillas):\n",
        "    qc.barrier(state, *ancillas)\n",
        "    for ancilla in ancillas:\n",
        "        qc.cx(state, ancilla)\n",
        "    return qc\n",
        "\n",
        "\n",
        "decoding_circuit = decode_bit_flip(initialize_circuit(), state, ancillas)\n",
        "\n",
        "decoding_circuit.draw(output=\"mpl\")"
      ],
      "metadata": {
        "id": "ABsEG8aL9ktB"
      },
      "execution_count": null,
      "outputs": []
    },
    {
      "cell_type": "markdown",
      "source": [
        "### Medición de estabilizadores\n",
        "\n",
        "Hemos visto anteriormente que podemos entrelazar al qubit $A$ con el qubit $B$ utilizando un CX con $A$ como objetivo y $B$ como control (si $B$ ya estaba en superposición o entrelazado).\n",
        "\n",
        "Después podemos desenredarlo nuevamente utilizando otro CX en $A$ como objetivo con $B$ como control (u otro qubit que esté completamente entrelazado con $A$).\n",
        "\n",
        "Dado que queremos medir los estabilizadores para obtener una indicación de los posibles errores que ocurrieron, es importante que **NO** estén entrelazados con los qubits que codifican el estado.\n",
        "\n",
        "Necesitamos un número par de compuertas CX aplicadas a cada estabilizador. Para que el estabilizador sea útil, al medirlo debe indicarnos si ocurrió un error de inversión de bits y en cuál de los tres qubits de codificación ocurrió."
      ],
      "metadata": {
        "id": "4ETIqpFW9nAj"
      }
    },
    {
      "cell_type": "markdown",
      "source": [
        "### Ejercicio 2\n",
        "\n",
        "Calcule los bits de síndrome, de modo que se puedan medir para detectar errores de cambio de bit único. Hemos incluido un código que medirá los bits de síndrome y restablecerá los qubits estabilizadores al estado \"0\".\n",
        "\n",
        "Hay diferentes formas de hacer esto, así que obtengamos un estabilizador con la codificación más simple posible:\n",
        "\n",
        "`00` -> No se produjo ningún error\n",
        "\n",
        "`01` -> Se produjo un error en el qubit 0 (el primer qubit)\n",
        "\n",
        "`10` -> Se produjo un error en el qubit 1 (el segundo qubit)\n",
        "\n",
        "`11` -> Se produjo un error en el qubit 2 (el tercer qubit)\n",
        "\n",
        "*Hint: Los tres qubits de codificación deberían estar perfectamente correlacionados, si no lo están, en uno de ellos se produjo un error de cambio de bit.*"
      ],
      "metadata": {
        "id": "z4ftKx7a9rG0"
      }
    },
    {
      "cell_type": "code",
      "source": [
        "# Agregue funciones de modo que los bits clásicos se puedan usar para ver qué qubit se invierte en el caso de que se invierta un solo qubit.\n",
        "# Use 2 bits clásicos para ello.\n",
        "# 0 = 00 = ningún qubit invertido\n",
        "# 1 = 01 = primer qubit (qubit 0) invertido\n",
        "# 2 = 10 segundo qubit (qubit 1) invertido\n",
        "# 3 = 11 = tercer qubit (qubit 2) invertido\n",
        "\n",
        "def measure_syndrome_bit(qc, encoding, stabilizer):\n",
        "    qc.barrier()\n",
        "    encoding_q0, encoding_q1, encoding_q2 = encoding\n",
        "    stabilizer_q0, stabilizer_q1 = stabilizer\n",
        "\n",
        "    ####### complete el código #######\n",
        "\n",
        "\n",
        "\n",
        "\n",
        "    ####################################\n",
        "\n",
        "    ####### no modifique lo siguiente #######\n",
        "    qc.barrier()\n",
        "    qc.measure(stabilizer, syndrome)\n",
        "    with qc.if_test((syndrome_b0, 1)):\n",
        "        qc.x(stabilizer_q0)\n",
        "    with qc.if_test((syndrome_b1, 1)):\n",
        "        qc.x(stabilizer_q1)\n",
        "\n",
        "    return qc\n",
        "\n",
        "\n",
        "syndrome_circuit = measure_syndrome_bit(initialize_circuit(), encoding, stabilizer)\n",
        "\n",
        "complete_circuit = initial_state.compose(encoding_circuit).compose(syndrome_circuit)\n",
        "complete_circuit.draw(\"mpl\")"
      ],
      "metadata": {
        "id": "Ffy9X3b69uWr"
      },
      "execution_count": null,
      "outputs": []
    },
    {
      "cell_type": "markdown",
      "source": [
        "## Corrección de errores\n",
        "\n",
        "Ahora podemos construir estabilizadores y, al medirlos, obtenemos los síndromes de error. No sólo queremos obtener indicaciones si se produjo un error, sino que queremos poder corregir los errores.\n",
        "\n",
        "Utilizaremos *circuitos dinámicos* para utilizar nuestras mediciones de síndrome con el fin de corregir errores potenciales. De manera similar al caso clásico, solo podemos corregir como máximo 1 error; si quisiéramos corregir más, necesitaríamos un código más largo, con más qubits de codificación."
      ],
      "metadata": {
        "id": "TmCqVr4D9yKR"
      }
    },
    {
      "cell_type": "markdown",
      "source": [
        "### Ejercicio 3\n",
        "\n",
        "Corrige los errores según los síndromes medidos."
      ],
      "metadata": {
        "id": "qIFwbe389_kW"
      }
    },
    {
      "cell_type": "code",
      "source": [
        "# Corrija los errores. Recuerde cómo codificamos los errores arriba\n",
        "def apply_correction_bit(qc, encoding, syndrome):\n",
        "    qc.barrier()\n",
        "    encoding_q0, encoding_q1, encoding_q2 = encoding\n",
        "\n",
        "    ####### complete el código #######\n",
        "\n",
        "\n",
        "    #####################################\n",
        "\n",
        "    return qc\n",
        "\n",
        "\n",
        "correction_circuit = apply_correction_bit(initialize_circuit(), encoding, syndrome)\n",
        "complete_circuit = (\n",
        "    initial_state.compose(encoding_circuit)\n",
        "    .compose(syndrome_circuit)\n",
        "    .compose(correction_circuit)\n",
        ")\n",
        "complete_circuit.draw(output=\"mpl\")"
      ],
      "metadata": {
        "id": "38MwYpg_-CmM"
      },
      "execution_count": null,
      "outputs": []
    },
    {
      "cell_type": "markdown",
      "source": [
        "Lo único que falta ahora es medir los qubits de codificación. Aplicaremos el circuito decodificador antes de medir para recuperar el estado inicial.\n",
        "\n",
        "Si todo funciona perfectamente y sin errores, bastaría con medir solo nuestro qubit inicial, sin embargo, como no siempre es así, medimos todos los qubits para ver si ha ocurrido algo incorrecto."
      ],
      "metadata": {
        "id": "vdh4ojXN-FPD"
      }
    },
    {
      "cell_type": "code",
      "source": [
        "def apply_final_readout(qc, encoding, results):\n",
        "    qc.barrier(encoding)\n",
        "    qc.measure(encoding, results)\n",
        "    return qc\n",
        "\n",
        "\n",
        "measuring_circuit = apply_final_readout(initialize_circuit(), encoding, results)\n",
        "complete_circuit = (\n",
        "    initial_state.compose(encoding_circuit)\n",
        "    .compose(syndrome_circuit)\n",
        "    .compose(correction_circuit)\n",
        "    .compose(decoding_circuit)\n",
        "    .compose(measuring_circuit)\n",
        ")\n",
        "complete_circuit.draw(output=\"mpl\")"
      ],
      "metadata": {
        "id": "OaVKeD_Y-MXS"
      },
      "execution_count": null,
      "outputs": []
    },
    {
      "cell_type": "markdown",
      "source": [
        "Ahora que ya tenemos todo podemos probar si obtenemos el resultado correcto.\n",
        "\n",
        "Haremos una primera prueba sin errores para asegurarnos de que la implementación fue correcta:"
      ],
      "metadata": {
        "id": "2UMdVBsz-O6x"
      }
    },
    {
      "cell_type": "code",
      "source": [
        "counts = backend.run(complete_circuit, shots=1000).result().get_counts()\n",
        "plot_histogram(counts)"
      ],
      "metadata": {
        "id": "JFVcv-OD-S03"
      },
      "execution_count": null,
      "outputs": []
    },
    {
      "cell_type": "markdown",
      "source": [
        "Podemos ver que obtenemos los resultados correctos (debería dar `00 001`, ya que inicializamos nuestro qubit inicial en el estado 1).\n",
        "\n",
        "Como puede ver, los otros qubits utilizados en la codificación están en el estado `0` después del proceso como se esperaba.\n",
        "\n",
        "Ahora sabemos que nuestro circuito funciona sin ruido. Agreguemos algo de ruido.\n",
        "\n",
        "Para esto, tomamos un simulador que simula el backend ibm_manila, incluido el ruido:\n",
        "\n",
        "*Nota: Elegimos este backend aquí, ya que tiene un diseño simple. Analizaremos los diseños con más detalle más adelante.*"
      ],
      "metadata": {
        "id": "HB_YaWr--VL-"
      }
    },
    {
      "cell_type": "code",
      "source": [
        "backend = FakeManilaV2()\n",
        "counts = backend.run(complete_circuit, shots=1000).result().get_counts()\n",
        "plot_histogram(counts)"
      ],
      "metadata": {
        "id": "AMMl0-Bz-ZLG"
      },
      "execution_count": null,
      "outputs": []
    },
    {
      "cell_type": "markdown",
      "source": [
        "Obtendremos algunos resultados erróneos, pero en general, la mayoría de los resultados son correctos. Esto es una buena señal y significa que incluso con ruido nuestro código puede funcionar.\n",
        "\n",
        "Aun así, esto no nos dice qué tan bueno es nuestro esquema, ya que no tenemos una comparación con el caso sin corrección de errores, así que veamos qué tan bueno seríamos sin los pasos de corrección de errores:"
      ],
      "metadata": {
        "id": "I0e3cVO2-dOM"
      }
    },
    {
      "cell_type": "code",
      "source": [
        "qc3 = (\n",
        "    initial_state.compose(encoding_circuit)\n",
        "    .compose(syndrome_circuit)\n",
        "    .compose(decoding_circuit)\n",
        "    .compose(measuring_circuit)\n",
        ")\n",
        "\n",
        "\n",
        "backend = FakeManilaV2()\n",
        "counts = backend.run(qc3, shots=1000).result().get_counts()\n",
        "plot_histogram(counts)"
      ],
      "metadata": {
        "id": "vRcn-EPJ-hDX"
      },
      "execution_count": null,
      "outputs": []
    },
    {
      "cell_type": "markdown",
      "source": [
        "Podemos ver que los resultados son aproximadamente los mismos, o incluso ligeramente peores, ya que no utilizamos los qubits de codificación después de que se crean.\n",
        "\n",
        "Cuando usamos estos qubits para los cálculos, normalmente se introducirían algunos errores, este no es el caso aquí.\n",
        "\n",
        "Por otro lado, la parte de corrección de errores puede introducir errores, ya que también consiste en operaciones que toman tiempo.\n",
        "\n",
        "Para fines de prueba, construimos un circuito, que introduce algunos errores, pero de manera controlada:\n",
        "\n",
        "- Queremos introducir errores de inversión de bits, ya que eso es lo que estamos corrigiendo\n",
        "\n",
        "- Queremos que los errores en los 3 qubits de codificación sean independientes entre sí\n",
        "\n",
        "- Queremos que podamos elegir qué tan alta es la probabilidad de que se introduzcan errores\n",
        "\n",
        "- Queremos tener nuestra entrada en porcentaje, y la salida debe ser un circuito que genere errores con esa probabilidad."
      ],
      "metadata": {
        "id": "qSLUvu0A-jff"
      }
    },
    {
      "cell_type": "markdown",
      "source": [
        "### Ejercicio 4\n",
        "Crea un circuito para agregar ruido como se define anteriormente."
      ],
      "metadata": {
        "id": "avVOLRig-oX6"
      }
    },
    {
      "cell_type": "code",
      "source": [
        "# Agregue algunos errores como se definió anteriormente (solo agregue errores a los qubits de codificación)\n",
        "def make_some_noise(qc, encoding, syndrome, error_percentage):\n",
        "    encoding_q0, encoding_q1, encoding_q2 = encoding\n",
        "    syndrome_b0, syndrome_b1 = syndrome\n",
        "\n",
        "    ####### modifique el código #######\n",
        "\n",
        "\n",
        "    ##################################\n",
        "\n",
        "    return qc\n",
        "\n",
        "\n",
        "# Construcción de un circuito con una tasa de error del 10% (para cada uno de los qubits de codificación)\n",
        "noise_circuit = make_some_noise(initialize_circuit(), encoding, syndrome, 10)\n",
        "noise_circuit.draw(output=\"mpl\")"
      ],
      "metadata": {
        "id": "pK1JWy1B-sNc"
      },
      "execution_count": null,
      "outputs": []
    },
    {
      "cell_type": "markdown",
      "source": [
        "Utilice el código a continuación para probar su función y crear un circuito que introduzca una tasa de error del 10%.\n",
        "\n"
      ],
      "metadata": {
        "id": "DRZd15A2-umB"
      }
    },
    {
      "cell_type": "code",
      "source": [
        "qc4 = (\n",
        "    initial_state.compose(encoding_circuit)\n",
        "    .compose(noise_circuit)\n",
        "    .compose(syndrome_circuit)\n",
        "    .compose(correction_circuit)\n",
        "    .compose(decoding_circuit)\n",
        "    .compose(measuring_circuit)\n",
        ")\n",
        "\n",
        "\n",
        "backend = FakeManilaV2()\n",
        "counts = backend.run(qc4, shots=1000).result().get_counts()\n",
        "plot_histogram(counts)"
      ],
      "metadata": {
        "id": "gPPUG1Kj-07c"
      },
      "execution_count": null,
      "outputs": []
    },
    {
      "cell_type": "markdown",
      "source": [
        "Podemos ver que nuestros resultados empeoraron, pero aún obtenemos \"001\" en la mayoría de los casos.\n",
        "\n",
        "Ahora hemos creado con éxito nuestro primer código de corrección de errores e incluso lo hemos probado."
      ],
      "metadata": {
        "id": "qh_HKU2f-3BU"
      }
    }
  ]
}