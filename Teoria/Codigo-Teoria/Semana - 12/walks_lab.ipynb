{
  "nbformat": 4,
  "nbformat_minor": 0,
  "metadata": {
    "colab": {
      "provenance": []
    },
    "kernelspec": {
      "name": "python3",
      "display_name": "Python 3"
    },
    "language_info": {
      "name": "python"
    }
  },
  "cells": [
    {
      "cell_type": "code",
      "execution_count": null,
      "metadata": {
        "id": "rkVI2e7oICVD"
      },
      "outputs": [],
      "source": [
        "import matplotlib.pyplot as plt\n",
        "%matplotlib inline\n",
        "import numpy as np"
      ]
    },
    {
      "cell_type": "markdown",
      "source": [
        "#Caminatas aleatorias y caminatas cuánticas"
      ],
      "metadata": {
        "id": "4T2kenSqIErV"
      }
    },
    {
      "cell_type": "markdown",
      "source": [
        "##Caminatas aleatorias\n",
        "\n",
        "Podemos construir una caminata aleatoria unidimensional de la siguiente manera:\n",
        "\n",
        "Definimos un espacio donde sucede la caminata: en este caso, una línea recta, igualmente espaciada.\n",
        "\n",
        "El lanzamiento de una moneda decide el paso:\n",
        "\n",
        "- Si sale cara: un paso a la derecha.\n",
        "- Si sale cruz: un paso a la izquierda.\n",
        "\n",
        "![caminata_aleatoria.png](data:image/png;base64,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)\n",
        "\n",
        "La moneda es justa, por lo que las probabilidades de que salga cara o cruz son iguales.\n",
        "\n",
        "El problema es encontrar la probabilidad de caer en un punto determinado después de una cantidad determinada de pasos y encontrar a qué distancia estás en promedio de donde comenzaste.\n",
        "\n",
        "¿Por qué nos interesa este juego?\n",
        "\n",
        "Las caminatas aleatorias son fundamentales en la física estadística: ayudan a  predecir qué tan rápido se difundirá un gas en otro, qué tan rápido se propagará el calor en un sólido, qué tan grandes serán las fluctuaciones de presión en un recipiente pequeño, etc."
      ],
      "metadata": {
        "id": "k_Cs2t34IJJd"
      }
    },
    {
      "cell_type": "markdown",
      "source": [
        "### Ejercicio 1:\n",
        "\n",
        "Complete el siguiente código para implementar una caminata aleatoria en una línea recta."
      ],
      "metadata": {
        "id": "9CdBffpnIWxd"
      }
    },
    {
      "cell_type": "code",
      "source": [
        "# Definimos el número de veces que nuestro caminante recorrerá la recta\n",
        "iterations = 100000\n",
        "\n",
        "# En cada iteración, el caminante dará un total de t pasos\n",
        "t = 1000\n",
        "\n",
        "# finalPositions es un arreglo que indica la posición final en cada repetición del experimento\n",
        "finalPositions = []"
      ],
      "metadata": {
        "id": "xdC6wRhuIb2M"
      },
      "execution_count": null,
      "outputs": []
    },
    {
      "cell_type": "code",
      "source": [
        "# Implemente la caminata aleatoria. En este momento, el objetivo es crear el arreglo de posiciones finales\n",
        "# para el total de iteraciones.\n",
        "# Guarde la posición final de cada experimento como un elemento de finalPositions\n",
        "# Recuerde: la instrucción np.random.rand() genera números aleatorios entre 0 y 1\n"
      ],
      "metadata": {
        "id": "aDLZXNAiIe8G"
      },
      "execution_count": null,
      "outputs": []
    },
    {
      "cell_type": "code",
      "source": [
        "# Obtenemos el número de caminatas que terminan en la posición n, dividida entre el total de caminatas\n",
        "\n",
        "y = []\n",
        "for i in range(min(finalPositions),max(finalPositions)):\n",
        "    y.append(float(finalPositions.count(i))/iterations)"
      ],
      "metadata": {
        "id": "bXoP0DYUIin_"
      },
      "execution_count": null,
      "outputs": []
    },
    {
      "cell_type": "code",
      "source": [
        "x = np.linspace(min(finalPositions),max(finalPositions),int(max(finalPositions)-min(finalPositions)))\n",
        "\n",
        "fig = plt.figure(figsize=(10,5))\n",
        "\n",
        "plt.bar(x,y,color='blue',width=0.6)\n",
        "plt.xlabel('final position')\n",
        "plt.ylabel('probability of being at postion $n$')\n",
        "plt.title('Classical random walk distribution')\n",
        "plt.show()"
      ],
      "metadata": {
        "id": "-buqKt6BIk8W"
      },
      "execution_count": null,
      "outputs": []
    },
    {
      "cell_type": "markdown",
      "source": [
        "## Caminatas cuánticas discretas\n",
        "\n",
        "En el caso cuántico, la posición del caminante, $n$, en la recta es descrita por el vector $|n\\rangle$ en el espacio de Hilbert $\\mathcal{H}_p$, de dimensión infinita. La evolución depende de una *moneda cuántica*. El espacio de Hilbert completo es entonces $\\mathcal{H}=\\mathcal{H}_{moneda}\\otimes\\mathcal{H}_{caminante}$, donde $\\mathcal{H}_{caminante}$ es un espacio de Hilbert de dimensión 2.\n",
        "\n",
        "El desplazamiento del caminante ocurre bajo las reglas:\n",
        "\n",
        "- Si se obtiene cara, el caminante pasa de $|n\\rangle$ a $|n+1\\rangle$.\n",
        "\n",
        "- Si se obtiene cruz, el caminante pasa de $|n\\rangle$ a $|n-1\\rangle$.\n",
        "\n",
        "El desplazamiento (*shift*) es descrito por el operador (unitario) $\\hat S$, cuya acción es\n",
        "\n",
        "$$\\hat S|0\\rangle|n\\rangle = |0\\rangle|n+1\\rangle$$\n",
        "$$\\hat S|1\\rangle|n\\rangle = |1\\rangle|n-1\\rangle$$\n",
        "\n",
        "La caminata cuántica inicia cuando aplicamos el operador $\\hat C\\otimes\\hat I_{caminate}$ al estado inicial, siendo $\\hat C$ la moneda cuántica. Después de este paso, el estado de la moneda cambia, pero el estado del caminante permanece igual. Una moneda cuántica usual es el operador de Hadamard,\n",
        "\n",
        "$$\\hat H =\\frac{1}{\\sqrt{2}}\\begin{pmatrix}\n",
        "1 & 1 \\\\\n",
        "1 & -1\n",
        "\\end{pmatrix}.$$\n",
        "\n",
        "Tras lanzar la moneda, se aplica el operador de desplazamiento,\n",
        "\n",
        "$$\\hat S=|0\\rangle\\langle0|\\otimes\\sum_{n=0}^\\infty|n+1\\rangle\\langle n|+\n",
        "|1\\rangle\\langle1|\\otimes\\sum_{n=0}^\\infty |n-1\\rangle\\langle n|.$$\n",
        "\n",
        "La dinámica de la caminata es determinada por el operador unitario\n",
        "\n",
        "$$U=\\hat S(\\hat H\\otimes\\hat I),$$ **sin mediciones intermedias** (en general).\n",
        "\n",
        "Un paso consiste en aplicar $\\hat U$ una vez. Después de $t$ pasos temporales, el estado del sistema es\n",
        "$$|\\psi(t)=\\hat U^t|\\psi(0)\\rangle.$$"
      ],
      "metadata": {
        "id": "fBHREC5nItYS"
      }
    },
    {
      "cell_type": "markdown",
      "source": [
        "### Ejercicio 2: Muestre que, si el estado inicial es\n",
        "$$|\\psi(0)\\rangle=|0\\rangle|n=0\\rangle,$$\n",
        "entonces\n",
        "$$|\\psi(1)\\rangle=\\frac{1}{\\sqrt{2}}\\big(|1\\rangle|-1\\rangle+|0\\rangle|1\\rangle\\big)$$\n",
        "$$|\\psi(1)\\rangle=\\frac{1}{2}\\big(-|1\\rangle|-2\\rangle+(|0\\rangle+|1\\rangle)|0\\rangle+|0\\rangle|2\\rangle\\big)$$\n",
        "$$|\\psi(1)\\rangle=\\frac{1}{2\\sqrt{2}}\\big(|1\\rangle|-3\\rangle-|0\\rangle|-1\\rangle+(2|0\\rangle+|1\\rangle)|1\\rangle+|0\\rangle|3\\rangle\\big)$$"
      ],
      "metadata": {
        "id": "LTDYz2rqOxsA"
      }
    },
    {
      "cell_type": "markdown",
      "source": [
        "### Ejercicio 2: implemente el operador *shift*\n",
        "\n",
        "$$\\hat S=|0\\rangle\\langle0|\\otimes\\sum_{n=0}^\\infty|n+1\\rangle\\langle n|+\n",
        "|1\\rangle\\langle1|\\otimes\\sum_{n=0}^\\infty|n-1\\rangle\\langle n|$$\n",
        "\n",
        "*Hint: la instrucción np.outer(vector1,vector2) realiza el producto exterior de los vectores correspondientes.*"
      ],
      "metadata": {
        "id": "io0zlBEsIL6x"
      }
    },
    {
      "cell_type": "markdown",
      "source": [
        "##Simulación de una caminata cuántica"
      ],
      "metadata": {
        "id": "WtRRZSHPOsq2"
      }
    },
    {
      "cell_type": "markdown",
      "source": [
        "Iniciamos el producto tensorial $\\hat H\\otimes\\hat I$.\n",
        "\n",
        "En este ejercicio trabajaremos en una recta que va de -3 a +3, así que haremos $n=7$."
      ],
      "metadata": {
        "id": "-mAk-zCAIPi6"
      }
    },
    {
      "cell_type": "code",
      "source": [
        "n = 7 # Representamos una caminata entre -25 y +25\n",
        "\n",
        "H = [[1/np.sqrt(2),1/np.sqrt(2)],[1/np.sqrt(2),-1/np.sqrt(2)]]\n",
        "HoI = np.kron(H,np.eye(n))"
      ],
      "metadata": {
        "id": "IU9LMrlNPJBH"
      },
      "execution_count": null,
      "outputs": []
    },
    {
      "cell_type": "markdown",
      "source": [
        "Los estados $|n\\rangle$ quedan definidos a través de los siguientes vectores:"
      ],
      "metadata": {
        "id": "Kn1MYgylPLhS"
      }
    },
    {
      "cell_type": "code",
      "source": [
        "def generate_basis(n):\n",
        "    # Creamos una lista de n vectores con 1 en la i-ésima entrada\n",
        "    basis_vectors = []\n",
        "    for i in range(n):\n",
        "        vector = np.zeros(n)\n",
        "        vector[i] = 1\n",
        "        basis_vectors.append(vector)\n",
        "    return basis_vectors\n",
        "\n",
        "\n",
        "vector = generate_basis(n)"
      ],
      "metadata": {
        "id": "y5MYQaV7POwv"
      },
      "execution_count": null,
      "outputs": []
    },
    {
      "cell_type": "markdown",
      "source": [
        "### Ejercicio 3: implemente el operador *shift*\n",
        "\n",
        "$$\\hat S=|0\\rangle\\langle0|\\otimes\\sum_{n=0}^\\infty|n+1\\rangle\\langle n|+\n",
        "|1\\rangle\\langle1|\\otimes\\sum_{n=0}^\\infty|n-1\\rangle\\langle n|$$\n",
        "\n",
        "*Hint: la instrucción np.outer(vector1,vector2) realiza el producto exterior de los vectores correspondientes.*"
      ],
      "metadata": {
        "id": "bevi-__FPSUE"
      }
    },
    {
      "cell_type": "code",
      "source": [
        "#Implemente el operador shift"
      ],
      "metadata": {
        "id": "KqdfAIsXPe23"
      },
      "execution_count": null,
      "outputs": []
    },
    {
      "cell_type": "markdown",
      "source": [
        "Ahora definimos el operador de evolución, $U=\\hat S(\\hat H\\otimes\\hat I)$"
      ],
      "metadata": {
        "id": "Qqp4m0p4Pln7"
      }
    },
    {
      "cell_type": "code",
      "source": [
        "U = np.matmul(shift,HoI)"
      ],
      "metadata": {
        "id": "aPJpT44lPpK0"
      },
      "execution_count": null,
      "outputs": []
    },
    {
      "cell_type": "markdown",
      "source": [
        "Inicializamos el sistema en el estado\n",
        "\n",
        "$$|\\psi(0)\\rangle = |0\\rangle\\otimes|3\\rangle$$"
      ],
      "metadata": {
        "id": "E1iZWaRcPrfA"
      }
    },
    {
      "cell_type": "code",
      "source": [
        "psi = np.kron([1,0],vector[n//2])"
      ],
      "metadata": {
        "id": "EZHm4fPOP9_U"
      },
      "execution_count": null,
      "outputs": []
    },
    {
      "cell_type": "markdown",
      "source": [
        "### Ejercicio 3: cree una función que evolucione al sistema\n",
        "\n",
        "$$|\\psi(t)\\rangle = U^t|\\psi(0)\\rangle$$"
      ],
      "metadata": {
        "id": "9v_ULmzDQBLd"
      }
    },
    {
      "cell_type": "code",
      "source": [
        "# la función debe recibir como argumentos el número de pasos, time_steps, un estado inicial y el operador de evolución, U.\n",
        "\n",
        "def system_evolution(time_steps,initial_state,U):"
      ],
      "metadata": {
        "id": "9Ve9l48PQJzB"
      },
      "execution_count": null,
      "outputs": []
    },
    {
      "cell_type": "markdown",
      "source": [
        "Verifiquemos la implementación, para $t=0,1,2,3$"
      ],
      "metadata": {
        "id": "Mmr4ZCfPQWix"
      }
    },
    {
      "cell_type": "code",
      "source": [
        "time_steps = 1\n",
        "final_state = system_evolution(time_steps,psi,U)\n",
        "print(final_state)"
      ],
      "metadata": {
        "id": "9hpFCI4YQcFj"
      },
      "execution_count": null,
      "outputs": []
    },
    {
      "cell_type": "markdown",
      "source": [
        "###Ejercicio 4*: ¿Cómo puede simular una medición sobre un estado $|n\\rangle$?"
      ],
      "metadata": {
        "id": "nBwnpPy7Qp6L"
      }
    },
    {
      "cell_type": "code",
      "source": [],
      "metadata": {
        "id": "5n-e3v2CQ1K0"
      },
      "execution_count": null,
      "outputs": []
    }
  ]
}