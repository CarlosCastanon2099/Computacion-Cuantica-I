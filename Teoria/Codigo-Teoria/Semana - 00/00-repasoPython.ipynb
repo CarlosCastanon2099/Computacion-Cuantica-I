{
  "nbformat": 4,
  "nbformat_minor": 0,
  "metadata": {
    "colab": {
      "provenance": []
    },
    "kernelspec": {
      "name": "python3",
      "display_name": "Python 3"
    },
    "language_info": {
      "name": "python"
    }
  },
  "cells": [
    {
      "cell_type": "markdown",
      "source": [
        "# Repaso de Python y Google Colab\n",
        "\n",
        "Podemos acceder desde la dirección: https://colab.research.google.com/"
      ],
      "metadata": {
        "id": "0fKvftS0qnBm"
      }
    },
    {
      "cell_type": "markdown",
      "source": [
        "## Google Colab\n",
        "\n",
        "$\\bullet$ Google Colaboratory permite ejectuar código Python en la nube.\n",
        "\n",
        "$\\bullet$ Es compatible con GitHub y Google Drive.\n",
        "\n",
        "$\\bullet$ Podemos importar y exportar los cuadernos de trabajo.\n",
        "\n",
        "$\\bullet$ Es posible instalar librerías usando !pip.\n",
        "\n",
        "$\\bullet$ Es posible usar GPUs.\n",
        "\n",
        "$\\bullet$ Usamos las celdas de tipo *Code*, para escribir código Python, y *Text*, para escribir text.\n",
        "\n",
        "\n"
      ],
      "metadata": {
        "id": "H4ObylQfrret"
      }
    },
    {
      "cell_type": "markdown",
      "source": [
        "### Algunos comandos útiles:\n",
        "\n",
        "$\\bullet$ Insertar celda arriba de la celda actual: [Ctrl] + [M] + [A].\n",
        "\n",
        "$\\bullet$ Insertar celda abajo de la celda actual: [Ctrl] + [M] + [B].\n",
        "\n",
        "$\\bullet$ Borrar una celda: [Ctrl] + [M] + [D].\n",
        "\n",
        "$\\bullet$ Cambiar tipo de celda a *Code*: [Ctrl] + [M] + [Y].\n",
        "\n",
        "$\\bullet$ Cambiar tipo de celda a *Text*: [Ctrl] + [M] + [M].\n",
        "\n",
        "$\\bullet$ Guardar: [Ctrl] + [S].\n",
        "\n",
        "$\\bullet$ Deshacer: [Ctrl] + [Z].\n",
        "\n",
        "$\\bullet$ Para ejecutar comandos de *bash*, iniciamos con !\n",
        "\n",
        "$\\bullet$ Para ejecutar una celda: [Shift] + [Enter]"
      ],
      "metadata": {
        "id": "5O08JJHqvQ5H"
      }
    },
    {
      "cell_type": "markdown",
      "source": [
        "### Podemos escribir ecuaciones en $\\LaTeX{}$\n",
        "\n",
        "La ecuación de Schrödinger:\n",
        "\n",
        "$i\\hbar\\frac{\\partial |\\psi\\rangle}{\\partial t} = \\hat H |\\psi\\rangle$\n",
        "\n",
        "\\\\\n",
        "\n",
        "Una matriz identidad:\n",
        "\n",
        "$ I_{3\\times 3} =\n",
        "\\begin{pmatrix}\n",
        "1 & 0 & 0 \\\\\n",
        "0 & 1 & 0 \\\\\n",
        "0 & 0 & 1\n",
        "\\end{pmatrix}\n",
        "$\n",
        "\n",
        "\\\\\n",
        "\n",
        "$\\bullet$ Para escribir en **negritas**, encerramos entre **.\n",
        "\n",
        "$\\bullet$ Para escribir en *itálicas* encerramos entre *."
      ],
      "metadata": {
        "id": "sBFPttWwzRx1"
      }
    },
    {
      "cell_type": "markdown",
      "source": [
        "## Python\n",
        "\n",
        "Es un lenguaje dinámico."
      ],
      "metadata": {
        "id": "Qo6Ryw1W_G8S"
      }
    },
    {
      "cell_type": "markdown",
      "source": [
        "### Variables"
      ],
      "metadata": {
        "id": "VOIlGKKQvhF3"
      }
    },
    {
      "cell_type": "code",
      "source": [
        "# Numéricas\n",
        "\n",
        "x = 10.\n",
        "y = 6\n",
        "\n",
        "# Operaciones matemáticas\n",
        "\n",
        "suma = x+y\n",
        "producto = x*y\n",
        "division = x/y\n",
        "residuo = x%y\n",
        "potencia = x**y\n",
        "\n",
        "print(suma)\n",
        "print(producto)\n",
        "print(division)\n",
        "print(residuo)\n",
        "print(potencia)"
      ],
      "metadata": {
        "id": "0PrZOoIevjcG",
        "colab": {
          "base_uri": "https://localhost:8080/"
        },
        "outputId": "eed7e84f-6756-47e8-acdb-557c8e0b74dd"
      },
      "execution_count": 1,
      "outputs": [
        {
          "output_type": "stream",
          "name": "stdout",
          "text": [
            "16.0\n",
            "60.0\n",
            "1.6666666666666667\n",
            "4.0\n",
            "1000000.0\n"
          ]
        }
      ]
    },
    {
      "cell_type": "code",
      "source": [
        "# Cadenas de caracteres (strings)\n",
        "\n",
        "primera_palabra = \"hola\"\n",
        "segundaPalabra = \"mundo\"\n",
        "palabra3 = \"!\"\n",
        "\n",
        "print(primera_palabra+' '+segundaPalabra+palabra3)\n",
        "print(palabra3*5)"
      ],
      "metadata": {
        "id": "jyIzeSyEvohb",
        "colab": {
          "base_uri": "https://localhost:8080/"
        },
        "outputId": "a8a9f525-1238-4d86-823b-5751db87686e"
      },
      "execution_count": 2,
      "outputs": [
        {
          "output_type": "stream",
          "name": "stdout",
          "text": [
            "hola mundo!\n",
            "!!!!!\n"
          ]
        }
      ]
    },
    {
      "cell_type": "code",
      "source": [
        "# Ejercicio rápido:\n",
        "\n",
        "# la instrucción\n",
        "# a = float(input(\"Dame un número \"))\n",
        "# le asigna un valor numérico a la variable a.\n",
        "\n",
        "# la instrucción\n",
        "# a = str(a)\n",
        "#convierte la variable a en un string.\n",
        "\n",
        "#Escriba un programa que, dado el importe total de la cuenta de un restaurante, pregunte al cliente qué porcentaje de propina dejará.\n",
        "# Al final, su programa debe dar como salida a pantalla un mensaje indicando el total de la cuenta.\n"
      ],
      "metadata": {
        "id": "4BFFmHq16n-f"
      },
      "execution_count": null,
      "outputs": []
    },
    {
      "cell_type": "markdown",
      "source": [
        "### Listas"
      ],
      "metadata": {
        "id": "AUiKtd3o6S5r"
      }
    },
    {
      "cell_type": "code",
      "source": [
        "# Listas\n",
        "\n",
        "boolean = True\n",
        "mi_lista = [1,2,\"hector\",4,boolean]\n",
        "print(mi_lista)"
      ],
      "metadata": {
        "id": "ipz0KZbixebS",
        "colab": {
          "base_uri": "https://localhost:8080/"
        },
        "outputId": "0e2a1b53-f6e1-49b6-815b-4e60179d2a62"
      },
      "execution_count": 3,
      "outputs": [
        {
          "output_type": "stream",
          "name": "stdout",
          "text": [
            "[1, 2, 'hector', 4, True]\n"
          ]
        }
      ]
    },
    {
      "cell_type": "code",
      "source": [
        "# Accedemos a los elementos de la lista\n",
        "\n",
        "print(mi_lista[0])\n",
        "print(mi_lista[3])\n",
        "print(mi_lista[-1])\n",
        "\n",
        "# Obtenemos el número de elementos en la lista\n",
        "\n",
        "print(\"mi_lista tiene \"+str(len(mi_lista))+\" elementos\")"
      ],
      "metadata": {
        "id": "WjD2r4wFyMwN",
        "colab": {
          "base_uri": "https://localhost:8080/"
        },
        "outputId": "abc15c7a-9773-4dd5-ae30-0c61221238d3"
      },
      "execution_count": 4,
      "outputs": [
        {
          "output_type": "stream",
          "name": "stdout",
          "text": [
            "1\n",
            "4\n",
            "True\n",
            "mi_lista tiene 5 elementos\n"
          ]
        }
      ]
    },
    {
      "cell_type": "code",
      "source": [
        "# Operaciones y métodos de listas\n",
        "\n",
        "nueva_lista = [-10,0,10,20]\n",
        "\n",
        "\n",
        "# Agregamos un elemento a la lista\n",
        "nueva_lista.append(30)\n",
        "\n",
        "print(nueva_lista)"
      ],
      "metadata": {
        "id": "eV1r9a99y1Xt",
        "colab": {
          "base_uri": "https://localhost:8080/"
        },
        "outputId": "8b0ba2ce-4d79-477a-c9fa-99687b01d69e"
      },
      "execution_count": 5,
      "outputs": [
        {
          "output_type": "stream",
          "name": "stdout",
          "text": [
            "[-10, 0, 10, 20, 30]\n"
          ]
        }
      ]
    },
    {
      "cell_type": "code",
      "source": [
        "# Insertamos el elemento 5 a la lista, en la penúltima posición\n",
        "\n",
        "nueva_lista.insert(len(mi_lista)-1,5)\n",
        "\n",
        "print(nueva_lista)"
      ],
      "metadata": {
        "id": "xefr_4_Z18Fo",
        "colab": {
          "base_uri": "https://localhost:8080/"
        },
        "outputId": "92b896e6-aded-47c0-81a6-dc246c612a3e"
      },
      "execution_count": 6,
      "outputs": [
        {
          "output_type": "stream",
          "name": "stdout",
          "text": [
            "[-10, 0, 10, 20, 5, 30]\n"
          ]
        }
      ]
    },
    {
      "cell_type": "code",
      "source": [
        "# Eliminamos el elemento en la segunda posición de mi_lista\n",
        "\n",
        "nueva_lista.pop(1)\n",
        "\n",
        "print(nueva_lista)"
      ],
      "metadata": {
        "id": "m12dC2mt2dDX",
        "colab": {
          "base_uri": "https://localhost:8080/"
        },
        "outputId": "99db64bf-786e-47cf-8e84-8fcd392aab31"
      },
      "execution_count": 7,
      "outputs": [
        {
          "output_type": "stream",
          "name": "stdout",
          "text": [
            "[-10, 10, 20, 5, 30]\n"
          ]
        }
      ]
    },
    {
      "cell_type": "code",
      "source": [
        "# Contamos el número de veces que se repite -10 en la lista\n",
        "\n",
        "nueva_lista.count(-10)"
      ],
      "metadata": {
        "id": "tMg1EQ3A017X",
        "colab": {
          "base_uri": "https://localhost:8080/"
        },
        "outputId": "37386a55-32ff-45a7-aef3-c5d70d099917"
      },
      "execution_count": 8,
      "outputs": [
        {
          "output_type": "execute_result",
          "data": {
            "text/plain": [
              "1"
            ]
          },
          "metadata": {},
          "execution_count": 8
        }
      ]
    },
    {
      "cell_type": "code",
      "source": [
        "# Encontrar el máximo\n",
        "\n",
        "print(max(nueva_lista))\n",
        "\n",
        "# y el mínimo\n",
        "\n",
        "print(min(nueva_lista))"
      ],
      "metadata": {
        "id": "KLksTGA731TB",
        "colab": {
          "base_uri": "https://localhost:8080/"
        },
        "outputId": "92e80548-fafa-40da-a513-981025c042e1"
      },
      "execution_count": 9,
      "outputs": [
        {
          "output_type": "stream",
          "name": "stdout",
          "text": [
            "30\n",
            "-10\n"
          ]
        }
      ]
    },
    {
      "cell_type": "code",
      "source": [
        "# ¿Cuál es el resultado de x+y?\n",
        "# ¿Cuál es el resultado de x[0]+y[0]?\n",
        "# ¿Cómo podría sumar algebraicamente x[i]+y[i]?\n",
        "\n",
        "x = [1,2,3]\n",
        "y = ['1','2','3']\n",
        "\n"
      ],
      "metadata": {
        "id": "K6Ce1LT8ZKqk"
      },
      "execution_count": 10,
      "outputs": []
    },
    {
      "cell_type": "code",
      "source": [
        "x+y"
      ],
      "metadata": {
        "colab": {
          "base_uri": "https://localhost:8080/"
        },
        "id": "GdybL9QS7wE5",
        "outputId": "a4610c83-d99f-485e-a861-315c899e8d39"
      },
      "execution_count": 11,
      "outputs": [
        {
          "output_type": "execute_result",
          "data": {
            "text/plain": [
              "[1, 2, 3, '1', '2', '3']"
            ]
          },
          "metadata": {},
          "execution_count": 11
        }
      ]
    },
    {
      "cell_type": "code",
      "source": [
        "x[0]+int(y[0])"
      ],
      "metadata": {
        "colab": {
          "base_uri": "https://localhost:8080/"
        },
        "id": "Q1S16nYi73Kk",
        "outputId": "15920c50-beca-406f-976b-e59374ec4cab"
      },
      "execution_count": 13,
      "outputs": [
        {
          "output_type": "execute_result",
          "data": {
            "text/plain": [
              "2"
            ]
          },
          "metadata": {},
          "execution_count": 13
        }
      ]
    },
    {
      "cell_type": "markdown",
      "source": [
        "### Condicionales"
      ],
      "metadata": {
        "id": "ZG2aNNKA4Jvc"
      }
    },
    {
      "cell_type": "code",
      "source": [
        "# if\n",
        "\n",
        "edad = float(input(\"¿Cuál es tu edad? \"))\n",
        "\n",
        "maxima_frecuencia_cardiaca = 220. - edad\n",
        "\n",
        "frecuencia_actual = maxima_frecuencia_cardiaca*.86\n",
        "\n",
        "if (frecuencia_actual > maxima_frecuencia_cardiaca):\n",
        "  print(\"debes tomar un descanso\")\n",
        "elif (frecuencia_actual < maxima_frecuencia_cardiaca and frecuencia_actual > 0.85*maxima_frecuencia_cardiaca):\n",
        "  print(\"considera disminuir el ritmo\")\n",
        "else:\n",
        "  print(\"todo bien\")"
      ],
      "metadata": {
        "id": "iGGjmJ8s4wvQ"
      },
      "execution_count": null,
      "outputs": []
    },
    {
      "cell_type": "markdown",
      "source": [
        "### Lazos (loops)"
      ],
      "metadata": {
        "id": "EBDiSkrfiCdB"
      }
    },
    {
      "cell_type": "code",
      "source": [
        "enteros_positivos = [1,2,3,4,5]\n",
        "\n",
        "for entero in enteros_positivos:\n",
        "  print(entero)"
      ],
      "metadata": {
        "id": "6vPc_aFMiEIx",
        "colab": {
          "base_uri": "https://localhost:8080/"
        },
        "outputId": "7fa42d1e-5c19-470b-9515-f519cba3015f"
      },
      "execution_count": 14,
      "outputs": [
        {
          "output_type": "stream",
          "name": "stdout",
          "text": [
            "1\n",
            "2\n",
            "3\n",
            "4\n",
            "5\n"
          ]
        }
      ]
    },
    {
      "cell_type": "markdown",
      "source": [
        "*List comprehensions*"
      ],
      "metadata": {
        "id": "CU0jUh7ek3Ik"
      }
    },
    {
      "cell_type": "code",
      "source": [
        "cuadrados = [entero*entero for entero in enteros_positivos]\n",
        "cuadrados"
      ],
      "metadata": {
        "id": "z36SJBc_kWeU",
        "colab": {
          "base_uri": "https://localhost:8080/"
        },
        "outputId": "92e7d987-28c2-45c5-a303-e6f2b2b3a8a4"
      },
      "execution_count": 15,
      "outputs": [
        {
          "output_type": "execute_result",
          "data": {
            "text/plain": [
              "[1, 4, 9, 16, 25]"
            ]
          },
          "metadata": {},
          "execution_count": 15
        }
      ]
    },
    {
      "cell_type": "code",
      "source": [
        "for i in range(5):\n",
        "  print(i)"
      ],
      "metadata": {
        "id": "P677HeyVk2OA",
        "colab": {
          "base_uri": "https://localhost:8080/"
        },
        "outputId": "11a70152-9c7f-4dac-dec1-3d65ea5e8ab8"
      },
      "execution_count": 16,
      "outputs": [
        {
          "output_type": "stream",
          "name": "stdout",
          "text": [
            "0\n",
            "1\n",
            "2\n",
            "3\n",
            "4\n"
          ]
        }
      ]
    },
    {
      "cell_type": "code",
      "source": [
        "# range(inicio,final,paso)\n",
        "\n",
        "for i in range(-1,9,2):\n",
        "  print(i)"
      ],
      "metadata": {
        "id": "h2dPs16llSb-",
        "colab": {
          "base_uri": "https://localhost:8080/"
        },
        "outputId": "48d11907-bf9c-46f2-94b7-edfc2459229d"
      },
      "execution_count": 17,
      "outputs": [
        {
          "output_type": "stream",
          "name": "stdout",
          "text": [
            "-1\n",
            "1\n",
            "3\n",
            "5\n",
            "7\n"
          ]
        }
      ]
    },
    {
      "cell_type": "markdown",
      "source": [],
      "metadata": {
        "id": "OJ3r1cnsAIji"
      }
    },
    {
      "cell_type": "code",
      "source": [
        "# while\n",
        "\n",
        "tiempo_limite = 10\n",
        "tiempo = 0\n",
        "\n",
        "while(tiempo < tiempo_limite):\n",
        "  print(tiempo)\n",
        "  tiempo = tiempo+1"
      ],
      "metadata": {
        "id": "9e7xej99lWVD",
        "colab": {
          "base_uri": "https://localhost:8080/"
        },
        "outputId": "70a86c85-97f4-447e-810c-120ed4b28df4"
      },
      "execution_count": 18,
      "outputs": [
        {
          "output_type": "stream",
          "name": "stdout",
          "text": [
            "0\n",
            "1\n",
            "2\n",
            "3\n",
            "4\n",
            "5\n",
            "6\n",
            "7\n",
            "8\n",
            "9\n"
          ]
        }
      ]
    },
    {
      "cell_type": "code",
      "source": [
        "tiempo"
      ],
      "metadata": {
        "colab": {
          "base_uri": "https://localhost:8080/"
        },
        "id": "u9gvW3X89sx6",
        "outputId": "4ec4cbfc-df49-4fcf-9a37-8dd5b1eb198a"
      },
      "execution_count": 19,
      "outputs": [
        {
          "output_type": "execute_result",
          "data": {
            "text/plain": [
              "10"
            ]
          },
          "metadata": {},
          "execution_count": 19
        }
      ]
    },
    {
      "cell_type": "code",
      "source": [
        "#break: termina la ejecución del lazo\n",
        "\n",
        "numero = 5\n",
        "intento = int(input(\"dime un número entero entre 1 y 10 \"))\n",
        "\n",
        "while(intento != numero):\n",
        "  intento = int(input(\"dime un número entero entre 1 y 10 \"))\n",
        "\n",
        "print(\"correcto, el número era \"+str(numero))\n"
      ],
      "metadata": {
        "id": "E7BrmDMmmIw9",
        "colab": {
          "base_uri": "https://localhost:8080/",
          "height": 290
        },
        "outputId": "add01c7a-dd9f-4d56-cb4e-4d6611ecc47d"
      },
      "execution_count": 20,
      "outputs": [
        {
          "name": "stdout",
          "output_type": "stream",
          "text": [
            "dime un número entero entre 1 y 10 1\n",
            "dime un número entero entre 1 y 10 1\n",
            "dime un número entero entre 1 y 10 1\n",
            "dime un número entero entre 1 y 10 \n"
          ]
        },
        {
          "output_type": "error",
          "ename": "ValueError",
          "evalue": "invalid literal for int() with base 10: ''",
          "traceback": [
            "\u001b[0;31m---------------------------------------------------------------------------\u001b[0m",
            "\u001b[0;31mValueError\u001b[0m                                Traceback (most recent call last)",
            "\u001b[0;32m<ipython-input-20-dffa9c9c0474>\u001b[0m in \u001b[0;36m<cell line: 6>\u001b[0;34m()\u001b[0m\n\u001b[1;32m      5\u001b[0m \u001b[0;34m\u001b[0m\u001b[0m\n\u001b[1;32m      6\u001b[0m \u001b[0;32mwhile\u001b[0m\u001b[0;34m(\u001b[0m\u001b[0mintento\u001b[0m \u001b[0;34m!=\u001b[0m \u001b[0mnumero\u001b[0m\u001b[0;34m)\u001b[0m\u001b[0;34m:\u001b[0m\u001b[0;34m\u001b[0m\u001b[0;34m\u001b[0m\u001b[0m\n\u001b[0;32m----> 7\u001b[0;31m   \u001b[0mintento\u001b[0m \u001b[0;34m=\u001b[0m \u001b[0mint\u001b[0m\u001b[0;34m(\u001b[0m\u001b[0minput\u001b[0m\u001b[0;34m(\u001b[0m\u001b[0;34m\"dime un número entero entre 1 y 10 \"\u001b[0m\u001b[0;34m)\u001b[0m\u001b[0;34m)\u001b[0m\u001b[0;34m\u001b[0m\u001b[0;34m\u001b[0m\u001b[0m\n\u001b[0m\u001b[1;32m      8\u001b[0m \u001b[0;34m\u001b[0m\u001b[0m\n\u001b[1;32m      9\u001b[0m \u001b[0mprint\u001b[0m\u001b[0;34m(\u001b[0m\u001b[0;34m\"correcto, el número era \"\u001b[0m\u001b[0;34m+\u001b[0m\u001b[0mstr\u001b[0m\u001b[0;34m(\u001b[0m\u001b[0mnumero\u001b[0m\u001b[0;34m)\u001b[0m\u001b[0;34m)\u001b[0m\u001b[0;34m\u001b[0m\u001b[0;34m\u001b[0m\u001b[0m\n",
            "\u001b[0;31mValueError\u001b[0m: invalid literal for int() with base 10: ''"
          ]
        }
      ]
    },
    {
      "cell_type": "code",
      "source": [
        "15# continue: termina la ejecución actual del lazo\n",
        "# Vamos a imprimir los números impares\n",
        "\n",
        "for i in range(10):\n",
        "  if (i%2 == 0):\n",
        "    continue\n",
        "  print(i)\n"
      ],
      "metadata": {
        "id": "IRS960WrmNvI",
        "colab": {
          "base_uri": "https://localhost:8080/"
        },
        "outputId": "44f659fe-7345-489e-8a6b-9cc199598e9b"
      },
      "execution_count": 21,
      "outputs": [
        {
          "output_type": "stream",
          "name": "stdout",
          "text": [
            "1\n",
            "3\n",
            "5\n",
            "7\n",
            "9\n"
          ]
        }
      ]
    },
    {
      "cell_type": "code",
      "source": [
        "# Ejercicio rápido: dada la lista\n",
        "\n",
        "frutas = ['manzana','pera','naranja','sandia','mandarina']\n",
        "\n",
        "# escriba un programa que encuentre si la palabra 'sandia' está en la lista; de ser así. En caso contrario indique al usuario que la palabra no está en la lista.\n"
      ],
      "metadata": {
        "id": "RNlOZ83pctFe"
      },
      "execution_count": 23,
      "outputs": []
    },
    {
      "cell_type": "markdown",
      "source": [
        "### Funciones"
      ],
      "metadata": {
        "id": "xXfU8YSZneW9"
      }
    },
    {
      "cell_type": "code",
      "source": [
        "# definimos una función usando def:\n",
        "\n",
        "def saludos(nombre):\n",
        "  print(\"Hola, \"+nombre)\n",
        "\n",
        "\n",
        "nombre = \"Héctor\"\n",
        "saludos(nombre)"
      ],
      "metadata": {
        "id": "fOycxhp0oCEL",
        "colab": {
          "base_uri": "https://localhost:8080/"
        },
        "outputId": "813e44a0-dbbe-4b03-cd44-ebe010dd71b4"
      },
      "execution_count": 24,
      "outputs": [
        {
          "output_type": "stream",
          "name": "stdout",
          "text": [
            "Hola, Héctor\n"
          ]
        }
      ]
    },
    {
      "cell_type": "code",
      "source": [
        "# una función puede regresar valores:\n",
        "\n",
        "def suma_de_vectores(x,y):\n",
        "  suma_vectorial = []\n",
        "  for i in range(len(x)):\n",
        "    suma_vectorial.append(x[i]+y[i])\n",
        "  return suma_vectorial\n",
        "\n",
        "x = [1,2,3]\n",
        "y = [4,5,6]\n",
        "\n",
        "suma_vectorial = suma_de_vectores(x,y)\n",
        "print(suma_vectorial)"
      ],
      "metadata": {
        "id": "xx-uUjbKolHM",
        "colab": {
          "base_uri": "https://localhost:8080/"
        },
        "outputId": "a84597cd-cebf-46a3-835c-3f384401ed68"
      },
      "execution_count": 25,
      "outputs": [
        {
          "output_type": "stream",
          "name": "stdout",
          "text": [
            "[5, 7, 9]\n"
          ]
        }
      ]
    },
    {
      "cell_type": "markdown",
      "source": [
        "Ejercicio rápido:\n",
        "\n",
        "Para pasar de grados Celsius a grados Farenheit, usamos la siguiente expesión:\n",
        "\n",
        "$^\\circ F = \\frac{9}{5}^\\circ C$+32\n",
        "\n",
        "Escriba una función que haga esa conversión. Verifique, por ejemplo que $20^\\circ C\\approx68^\\circ F$.\n"
      ],
      "metadata": {
        "id": "taY-xR6mdrok"
      }
    },
    {
      "cell_type": "code",
      "source": [
        "# Solución"
      ],
      "metadata": {
        "id": "z7Fngdttel-V"
      },
      "execution_count": null,
      "outputs": []
    },
    {
      "cell_type": "markdown",
      "source": [
        "### Diccionarios\n",
        "\n",
        "Los diccionarios son estructuras de datos que contienen llaves (*keys*) y valores (*values*). Para acceder a los valores, usamos las llaves."
      ],
      "metadata": {
        "id": "-b16CTzao6ha"
      }
    },
    {
      "cell_type": "code",
      "source": [
        "# Creemos un diccionario:\n",
        "\n",
        "directorio = {}\n",
        "\n",
        "directorio[\"Héctor\"] = 123456\n",
        "directorio[\"Miguel\"] = 987654\n",
        "directorio[\"Mejía\"] = 567123\n",
        "\n",
        "print(directorio)"
      ],
      "metadata": {
        "id": "uyfQloKqrMjR",
        "colab": {
          "base_uri": "https://localhost:8080/"
        },
        "outputId": "ad45ff75-99a5-4573-815b-b5344c6d0b5f"
      },
      "execution_count": 26,
      "outputs": [
        {
          "output_type": "stream",
          "name": "stdout",
          "text": [
            "{'Héctor': 123456, 'Miguel': 987654, 'Mejía': 567123}\n"
          ]
        }
      ]
    },
    {
      "cell_type": "code",
      "source": [
        "directorio[\"Héctor\"]"
      ],
      "metadata": {
        "id": "OHClQ-vqr8bQ",
        "colab": {
          "base_uri": "https://localhost:8080/"
        },
        "outputId": "f90d3623-452f-4ea5-9ad0-e20ffaaf7def"
      },
      "execution_count": 27,
      "outputs": [
        {
          "output_type": "execute_result",
          "data": {
            "text/plain": [
              "123456"
            ]
          },
          "metadata": {},
          "execution_count": 27
        }
      ]
    },
    {
      "cell_type": "code",
      "source": [
        "#para conocer las llaves\n",
        "\n",
        "directorio.keys()"
      ],
      "metadata": {
        "id": "q4OQC9Rrr_qe",
        "colab": {
          "base_uri": "https://localhost:8080/"
        },
        "outputId": "f6ae5f0f-16bc-445e-dcc5-16d2bb58e9c0"
      },
      "execution_count": 28,
      "outputs": [
        {
          "output_type": "execute_result",
          "data": {
            "text/plain": [
              "dict_keys(['Héctor', 'Miguel', 'Mejía'])"
            ]
          },
          "metadata": {},
          "execution_count": 28
        }
      ]
    },
    {
      "cell_type": "code",
      "source": [
        "# y los valores\n",
        "\n",
        "directorio.values()"
      ],
      "metadata": {
        "id": "c4edk4jUsN4T",
        "colab": {
          "base_uri": "https://localhost:8080/"
        },
        "outputId": "aa7e9a45-6732-477d-9a1b-f0d9efe0ce1b"
      },
      "execution_count": 29,
      "outputs": [
        {
          "output_type": "execute_result",
          "data": {
            "text/plain": [
              "dict_values([123456, 987654, 567123])"
            ]
          },
          "metadata": {},
          "execution_count": 29
        }
      ]
    },
    {
      "cell_type": "code",
      "source": [
        "#alternativamente, podemos definir un diccionario como\n",
        "\n",
        "directorio = {\"Héctor\":123456,\"Miguel\":987654,\"Mejía\":567123}\n",
        "\n",
        "directorio"
      ],
      "metadata": {
        "id": "_m2H_LMUsQsT",
        "colab": {
          "base_uri": "https://localhost:8080/"
        },
        "outputId": "a17120b0-673b-4ea3-cd76-74814705f941"
      },
      "execution_count": 30,
      "outputs": [
        {
          "output_type": "execute_result",
          "data": {
            "text/plain": [
              "{'Héctor': 123456, 'Miguel': 987654, 'Mejía': 567123}"
            ]
          },
          "metadata": {},
          "execution_count": 30
        }
      ]
    },
    {
      "cell_type": "code",
      "source": [
        "# podemos borrar una entrada:\n",
        "\n",
        "directorio.pop(\"Miguel\")\n",
        "\n",
        "directorio"
      ],
      "metadata": {
        "id": "GeKGnW-Dsl_4",
        "colab": {
          "base_uri": "https://localhost:8080/"
        },
        "outputId": "0e1142ce-3d49-4e5c-b8f3-7b15cdf7bd68"
      },
      "execution_count": 31,
      "outputs": [
        {
          "output_type": "execute_result",
          "data": {
            "text/plain": [
              "{'Héctor': 123456, 'Mejía': 567123}"
            ]
          },
          "metadata": {},
          "execution_count": 31
        }
      ]
    },
    {
      "cell_type": "markdown",
      "source": [
        "## Numpy\n",
        "\n",
        "Librería de Python para cómputo científico. Permite operar con arreglos multidimensionales."
      ],
      "metadata": {
        "id": "rPi5eC8MsyyU"
      }
    },
    {
      "cell_type": "code",
      "source": [
        "# en caso de ser necesario, instalamos la librería descomentando la siguiente línea:\n",
        "# !pip install numpy\n",
        "\n",
        "import numpy as np"
      ],
      "metadata": {
        "id": "Wb4w0MFotWPl"
      },
      "execution_count": 32,
      "outputs": []
    },
    {
      "cell_type": "code",
      "source": [
        "a = np.array([1,2,3])\n",
        "\n",
        "print(type(a))\n",
        "\n",
        "for i in range(len(a)):\n",
        "  a[i] = a[i]**2\n",
        "  print(i,a[i])"
      ],
      "metadata": {
        "id": "Pa19L07ktY3D",
        "colab": {
          "base_uri": "https://localhost:8080/"
        },
        "outputId": "fff81c20-1d59-4ea4-fea7-2fe79c582dec"
      },
      "execution_count": 33,
      "outputs": [
        {
          "output_type": "stream",
          "name": "stdout",
          "text": [
            "<class 'numpy.ndarray'>\n",
            "0 1\n",
            "1 4\n",
            "2 9\n"
          ]
        }
      ]
    },
    {
      "cell_type": "code",
      "source": [
        "# a es un arreglo de una dimensión:\n",
        "\n",
        "a.shape"
      ],
      "metadata": {
        "id": "Ba_RdWcKued9",
        "colab": {
          "base_uri": "https://localhost:8080/"
        },
        "outputId": "a4529494-a3ef-41c1-9238-aaba36f830cf"
      },
      "execution_count": 34,
      "outputs": [
        {
          "output_type": "execute_result",
          "data": {
            "text/plain": [
              "(3,)"
            ]
          },
          "metadata": {},
          "execution_count": 34
        }
      ]
    },
    {
      "cell_type": "code",
      "source": [
        "b = np.array([[1,2],[3,4]])\n",
        "\n",
        "# b es un arreglo de dos dimensiones\n",
        "\n",
        "b.shape"
      ],
      "metadata": {
        "id": "4HB8G64hu5ip",
        "colab": {
          "base_uri": "https://localhost:8080/"
        },
        "outputId": "842cb160-ee6a-459e-cc90-e7a58cc57bae"
      },
      "execution_count": 35,
      "outputs": [
        {
          "output_type": "execute_result",
          "data": {
            "text/plain": [
              "(2, 2)"
            ]
          },
          "metadata": {},
          "execution_count": 35
        }
      ]
    },
    {
      "cell_type": "code",
      "source": [
        "print(b)"
      ],
      "metadata": {
        "id": "JXRVHDuvvHhh",
        "colab": {
          "base_uri": "https://localhost:8080/"
        },
        "outputId": "62a0550b-9386-4c8a-a77f-d4823aca52c4"
      },
      "execution_count": 36,
      "outputs": [
        {
          "output_type": "stream",
          "name": "stdout",
          "text": [
            "[[1 2]\n",
            " [3 4]]\n"
          ]
        }
      ]
    },
    {
      "cell_type": "code",
      "source": [
        "print(b[0][0],b[0,1])\n",
        "print(b[1,0],b[1][1])"
      ],
      "metadata": {
        "id": "5f2G3M7BvUg-",
        "colab": {
          "base_uri": "https://localhost:8080/"
        },
        "outputId": "091bca4a-8de4-40fb-e4f8-0f91a2439930"
      },
      "execution_count": 37,
      "outputs": [
        {
          "output_type": "stream",
          "name": "stdout",
          "text": [
            "1 2\n",
            "3 4\n"
          ]
        }
      ]
    },
    {
      "cell_type": "markdown",
      "source": [
        "#### *Slicing*\n",
        "\n",
        "Tomamos parte (rebanadas) de los elementos del arreglo."
      ],
      "metadata": {
        "id": "QEVrTi1qxG3Z"
      }
    },
    {
      "cell_type": "code",
      "source": [
        "a = [1,2,3,4,5,6,7,8,9]"
      ],
      "metadata": {
        "id": "uJe04U0oxLRC"
      },
      "execution_count": 38,
      "outputs": []
    },
    {
      "cell_type": "code",
      "source": [
        "a[:]"
      ],
      "metadata": {
        "id": "0_LiNi5GxV2P",
        "colab": {
          "base_uri": "https://localhost:8080/"
        },
        "outputId": "56dfb8a6-18e3-4632-c166-cd2584e2ba58"
      },
      "execution_count": 39,
      "outputs": [
        {
          "output_type": "execute_result",
          "data": {
            "text/plain": [
              "[1, 2, 3, 4, 5, 6, 7, 8, 9]"
            ]
          },
          "metadata": {},
          "execution_count": 39
        }
      ]
    },
    {
      "cell_type": "code",
      "source": [
        "a[0:5]"
      ],
      "metadata": {
        "id": "711136qixZvN",
        "colab": {
          "base_uri": "https://localhost:8080/"
        },
        "outputId": "440e3e05-f281-41dd-eee0-176ea27a6ff5"
      },
      "execution_count": 40,
      "outputs": [
        {
          "output_type": "execute_result",
          "data": {
            "text/plain": [
              "[1, 2, 3, 4, 5]"
            ]
          },
          "metadata": {},
          "execution_count": 40
        }
      ]
    },
    {
      "cell_type": "code",
      "source": [
        "a[4:8]"
      ],
      "metadata": {
        "id": "uSpeC0RYxdWM",
        "colab": {
          "base_uri": "https://localhost:8080/"
        },
        "outputId": "49375e8a-4f30-408c-b0f4-7d139f4f4563"
      },
      "execution_count": 41,
      "outputs": [
        {
          "output_type": "execute_result",
          "data": {
            "text/plain": [
              "[5, 6, 7, 8]"
            ]
          },
          "metadata": {},
          "execution_count": 41
        }
      ]
    },
    {
      "cell_type": "code",
      "source": [
        "a[4:]"
      ],
      "metadata": {
        "id": "SjrP4YXixnvc",
        "colab": {
          "base_uri": "https://localhost:8080/"
        },
        "outputId": "6e37023d-74a7-43de-cdd0-68cb62f61188"
      },
      "execution_count": 44,
      "outputs": [
        {
          "output_type": "execute_result",
          "data": {
            "text/plain": [
              "[5, 6, 7, 8, 9]"
            ]
          },
          "metadata": {},
          "execution_count": 44
        }
      ]
    },
    {
      "cell_type": "code",
      "source": [
        "a[:3]"
      ],
      "metadata": {
        "id": "tioLMl3Rxqr1",
        "colab": {
          "base_uri": "https://localhost:8080/"
        },
        "outputId": "b6dc7d2c-1fb3-46b0-c973-ae7abb00d0d6"
      },
      "execution_count": 47,
      "outputs": [
        {
          "output_type": "execute_result",
          "data": {
            "text/plain": [
              "[1, 2, 3]"
            ]
          },
          "metadata": {},
          "execution_count": 47
        }
      ]
    },
    {
      "cell_type": "markdown",
      "source": [
        "#### Algunas matrices importantes"
      ],
      "metadata": {
        "id": "7S0eScurvaM0"
      }
    },
    {
      "cell_type": "code",
      "source": [
        "# matriz 3x3 con 0 en cada entrada\n",
        "\n",
        "ceros = np.zeros((3,3))\n",
        "print(ceros)"
      ],
      "metadata": {
        "id": "7YWBYR_-vmqB",
        "colab": {
          "base_uri": "https://localhost:8080/"
        },
        "outputId": "fb1c1870-faf8-42b4-890b-19bd1bff3d1c"
      },
      "execution_count": 48,
      "outputs": [
        {
          "output_type": "stream",
          "name": "stdout",
          "text": [
            "[[0. 0. 0.]\n",
            " [0. 0. 0.]\n",
            " [0. 0. 0.]]\n"
          ]
        }
      ]
    },
    {
      "cell_type": "code",
      "source": [
        "# matriz 3x3 con 1 en cada entrada\n",
        "\n",
        "unos = np.ones((3,3))\n",
        "print(unos)"
      ],
      "metadata": {
        "id": "hPf9e_1zvucC",
        "colab": {
          "base_uri": "https://localhost:8080/"
        },
        "outputId": "3c9c8f2f-5709-4834-a8c0-17c80aa31d3c"
      },
      "execution_count": 49,
      "outputs": [
        {
          "output_type": "stream",
          "name": "stdout",
          "text": [
            "[[1. 1. 1.]\n",
            " [1. 1. 1.]\n",
            " [1. 1. 1.]]\n"
          ]
        }
      ]
    },
    {
      "cell_type": "code",
      "source": [
        "# matrix 3x3 con todas las entradas iguales a una constante\n",
        "constante = -3\n",
        "\n",
        "matriz_constante = np.full((3,3),constante)\n",
        "print(matriz_constante)"
      ],
      "metadata": {
        "id": "SXG3nbcuv7mf",
        "colab": {
          "base_uri": "https://localhost:8080/"
        },
        "outputId": "fdfcdd14-6d93-4537-eab6-14eebdb2e5e8"
      },
      "execution_count": 50,
      "outputs": [
        {
          "output_type": "stream",
          "name": "stdout",
          "text": [
            "[[-3 -3 -3]\n",
            " [-3 -3 -3]\n",
            " [-3 -3 -3]]\n"
          ]
        }
      ]
    },
    {
      "cell_type": "code",
      "source": [
        "# matriz identidad de 3x3\n",
        "\n",
        "identidad = np.eye(3)\n",
        "print(identidad)"
      ],
      "metadata": {
        "id": "zvZEaEDywKys",
        "colab": {
          "base_uri": "https://localhost:8080/"
        },
        "outputId": "0606e5db-554c-44e6-a6ac-01dbf7f434d5"
      },
      "execution_count": 51,
      "outputs": [
        {
          "output_type": "stream",
          "name": "stdout",
          "text": [
            "[[1. 0. 0.]\n",
            " [0. 1. 0.]\n",
            " [0. 0. 1.]]\n"
          ]
        }
      ]
    },
    {
      "cell_type": "code",
      "source": [
        "# matriz 3x3 con entradas aleatorias, entre 0 y 1\n",
        "\n",
        "matriz_aleatoria = np.random.random((3,3))\n",
        "print(matriz_aleatoria)"
      ],
      "metadata": {
        "id": "34YA3TM1wgrZ",
        "colab": {
          "base_uri": "https://localhost:8080/"
        },
        "outputId": "0032bd1c-65e4-4dac-9c21-5714e269fbb3"
      },
      "execution_count": 53,
      "outputs": [
        {
          "output_type": "stream",
          "name": "stdout",
          "text": [
            "[[0.46160348 0.52491512 0.34064435]\n",
            " [0.35241848 0.65641514 0.83997241]\n",
            " [0.85394883 0.55836731 0.18138746]]\n"
          ]
        }
      ]
    },
    {
      "cell_type": "code",
      "source": [
        "# podemos hacer slicing sobre las matrices\n",
        "\n",
        "print(identidad[0:2,0:3])"
      ],
      "metadata": {
        "id": "EgybJBksw08s",
        "colab": {
          "base_uri": "https://localhost:8080/"
        },
        "outputId": "b0970583-1653-4ccf-88da-4e1bc4ef4a59"
      },
      "execution_count": 55,
      "outputs": [
        {
          "output_type": "stream",
          "name": "stdout",
          "text": [
            "[[1. 0. 0.]\n",
            " [0. 1. 0.]]\n"
          ]
        }
      ]
    },
    {
      "cell_type": "markdown",
      "source": [
        "### Operaciones con arreglos (elemento a elemento)"
      ],
      "metadata": {
        "id": "mOMD71PFyEMG"
      }
    },
    {
      "cell_type": "code",
      "source": [
        "a = np.array([[1,2],[3,4]])\n",
        "b = np.array([[4,5],[6,7]])\n",
        "print(a)\n",
        "print('')\n",
        "print('')\n",
        "print(b)"
      ],
      "metadata": {
        "id": "m3yaTALUyhCb",
        "colab": {
          "base_uri": "https://localhost:8080/"
        },
        "outputId": "5057cf1b-6bd2-4e9c-b475-81748db781aa"
      },
      "execution_count": 56,
      "outputs": [
        {
          "output_type": "stream",
          "name": "stdout",
          "text": [
            "[[1 2]\n",
            " [3 4]]\n",
            "\n",
            "\n",
            "[[4 5]\n",
            " [6 7]]\n"
          ]
        }
      ]
    },
    {
      "cell_type": "code",
      "source": [
        "print(a+b)\n",
        "print(np.add(a,b))"
      ],
      "metadata": {
        "id": "0dBS1eIZys9X",
        "colab": {
          "base_uri": "https://localhost:8080/"
        },
        "outputId": "9d0f411d-1732-45d3-8ae0-10a356ccb3c3"
      },
      "execution_count": 57,
      "outputs": [
        {
          "output_type": "stream",
          "name": "stdout",
          "text": [
            "[[ 5  7]\n",
            " [ 9 11]]\n",
            "[[ 5  7]\n",
            " [ 9 11]]\n"
          ]
        }
      ]
    },
    {
      "cell_type": "code",
      "source": [
        "print(a-b)\n",
        "print(np.subtract(a,b))"
      ],
      "metadata": {
        "id": "PAQL_kifyvm0",
        "colab": {
          "base_uri": "https://localhost:8080/"
        },
        "outputId": "a790c9f3-e084-4a74-ac72-c3982c1add1f"
      },
      "execution_count": 58,
      "outputs": [
        {
          "output_type": "stream",
          "name": "stdout",
          "text": [
            "[[-3 -3]\n",
            " [-3 -3]]\n",
            "[[-3 -3]\n",
            " [-3 -3]]\n"
          ]
        }
      ]
    },
    {
      "cell_type": "code",
      "source": [
        "print(a*b)\n",
        "print(np.multiply(a,b))"
      ],
      "metadata": {
        "id": "sJG0swBly7fT",
        "colab": {
          "base_uri": "https://localhost:8080/"
        },
        "outputId": "a7669bbb-5b14-4e70-eebd-2f003d6bd546"
      },
      "execution_count": 59,
      "outputs": [
        {
          "output_type": "stream",
          "name": "stdout",
          "text": [
            "[[ 4 10]\n",
            " [18 28]]\n",
            "[[ 4 10]\n",
            " [18 28]]\n"
          ]
        }
      ]
    },
    {
      "cell_type": "code",
      "source": [
        "print(a/b)\n",
        "print(np.divide(a,b))"
      ],
      "metadata": {
        "id": "tpTuihCkzTBm",
        "colab": {
          "base_uri": "https://localhost:8080/"
        },
        "outputId": "ab0ae31c-7036-48e6-fd1b-47dd4c761a29"
      },
      "execution_count": 60,
      "outputs": [
        {
          "output_type": "stream",
          "name": "stdout",
          "text": [
            "[[0.25       0.4       ]\n",
            " [0.5        0.57142857]]\n",
            "[[0.25       0.4       ]\n",
            " [0.5        0.57142857]]\n"
          ]
        }
      ]
    },
    {
      "cell_type": "code",
      "source": [
        "print(np.sqrt(a))"
      ],
      "metadata": {
        "id": "axw7kZhOzbQv",
        "colab": {
          "base_uri": "https://localhost:8080/"
        },
        "outputId": "d11479ae-e5e9-48df-838c-9ccf5749dfaa"
      },
      "execution_count": 61,
      "outputs": [
        {
          "output_type": "stream",
          "name": "stdout",
          "text": [
            "[[1.         1.41421356]\n",
            " [1.73205081 2.        ]]\n"
          ]
        }
      ]
    },
    {
      "cell_type": "markdown",
      "source": [
        "### Operaciones vectoriales con arreglos"
      ],
      "metadata": {
        "id": "LOZIonhqzpAq"
      }
    },
    {
      "cell_type": "code",
      "source": [
        "up = np.array([1,0])\n",
        "down = np.array ([0,1])\n",
        "\n",
        "print(up,down)"
      ],
      "metadata": {
        "id": "bcdVRO6Dz5xw",
        "colab": {
          "base_uri": "https://localhost:8080/"
        },
        "outputId": "5911bb3e-f816-4cba-d5bc-c90448d13564"
      },
      "execution_count": 62,
      "outputs": [
        {
          "output_type": "stream",
          "name": "stdout",
          "text": [
            "[1 0] [0 1]\n"
          ]
        }
      ]
    },
    {
      "cell_type": "code",
      "source": [
        "a"
      ],
      "metadata": {
        "id": "l4hsduqdz5Wl",
        "colab": {
          "base_uri": "https://localhost:8080/"
        },
        "outputId": "ce8e4f66-61bb-4139-9b1e-dc8831161dca"
      },
      "execution_count": 63,
      "outputs": [
        {
          "output_type": "execute_result",
          "data": {
            "text/plain": [
              "array([[1, 2],\n",
              "       [3, 4]])"
            ]
          },
          "metadata": {},
          "execution_count": 63
        }
      ]
    },
    {
      "cell_type": "code",
      "source": [
        "identidad = np.eye(2)"
      ],
      "metadata": {
        "id": "Oehln6Uv0LR8"
      },
      "execution_count": 64,
      "outputs": []
    },
    {
      "cell_type": "code",
      "source": [
        "a*identidad"
      ],
      "metadata": {
        "id": "1EohaS5F0N_V",
        "colab": {
          "base_uri": "https://localhost:8080/"
        },
        "outputId": "7cb8d289-fc42-4a0b-9201-0981f30cc577"
      },
      "execution_count": 65,
      "outputs": [
        {
          "output_type": "execute_result",
          "data": {
            "text/plain": [
              "array([[1., 0.],\n",
              "       [0., 4.]])"
            ]
          },
          "metadata": {},
          "execution_count": 65
        }
      ]
    },
    {
      "cell_type": "code",
      "source": [
        "np.dot(a,identidad)"
      ],
      "metadata": {
        "id": "zZjuhIQi0S7l",
        "colab": {
          "base_uri": "https://localhost:8080/"
        },
        "outputId": "8a6eebf5-9ef7-4baa-e398-c82f1bbfda06"
      },
      "execution_count": 66,
      "outputs": [
        {
          "output_type": "execute_result",
          "data": {
            "text/plain": [
              "array([[1., 2.],\n",
              "       [3., 4.]])"
            ]
          },
          "metadata": {},
          "execution_count": 66
        }
      ]
    },
    {
      "cell_type": "code",
      "source": [
        "np.dot(up,a)"
      ],
      "metadata": {
        "id": "t5DPgHHL0XOw",
        "colab": {
          "base_uri": "https://localhost:8080/"
        },
        "outputId": "8d220edb-f179-4aa8-bded-9858fa0f0d96"
      },
      "execution_count": 67,
      "outputs": [
        {
          "output_type": "execute_result",
          "data": {
            "text/plain": [
              "array([1, 2])"
            ]
          },
          "metadata": {},
          "execution_count": 67
        }
      ]
    },
    {
      "cell_type": "code",
      "source": [
        "np.dot(a,up)"
      ],
      "metadata": {
        "id": "hGzbYbGa0aGO",
        "colab": {
          "base_uri": "https://localhost:8080/"
        },
        "outputId": "fd2994c8-1b4f-41d5-be0a-62e626712805"
      },
      "execution_count": 68,
      "outputs": [
        {
          "output_type": "execute_result",
          "data": {
            "text/plain": [
              "array([1, 3])"
            ]
          },
          "metadata": {},
          "execution_count": 68
        }
      ]
    },
    {
      "cell_type": "code",
      "source": [
        "np.dot(up,up)"
      ],
      "metadata": {
        "id": "fO3A5Uxw0ezw",
        "colab": {
          "base_uri": "https://localhost:8080/"
        },
        "outputId": "df17be4a-3842-479b-fb00-3bac3f0208af"
      },
      "execution_count": 69,
      "outputs": [
        {
          "output_type": "execute_result",
          "data": {
            "text/plain": [
              "1"
            ]
          },
          "metadata": {},
          "execution_count": 69
        }
      ]
    },
    {
      "cell_type": "code",
      "source": [
        "np.dot(up,down)"
      ],
      "metadata": {
        "id": "KG9iKNtE0i4S",
        "colab": {
          "base_uri": "https://localhost:8080/"
        },
        "outputId": "20fbfc6e-87d2-42d7-b959-72ddbd7da553"
      },
      "execution_count": 70,
      "outputs": [
        {
          "output_type": "execute_result",
          "data": {
            "text/plain": [
              "0"
            ]
          },
          "metadata": {},
          "execution_count": 70
        }
      ]
    },
    {
      "cell_type": "code",
      "source": [
        "(1+1j)*1j"
      ],
      "metadata": {
        "colab": {
          "base_uri": "https://localhost:8080/"
        },
        "id": "Y8VEOtEzJRgK",
        "outputId": "74fa7749-d21c-4697-c9a0-92286beae564"
      },
      "execution_count": 72,
      "outputs": [
        {
          "output_type": "execute_result",
          "data": {
            "text/plain": [
              "(-1+1j)"
            ]
          },
          "metadata": {},
          "execution_count": 72
        }
      ]
    },
    {
      "cell_type": "markdown",
      "source": [
        "El **producto de Kronecker** de\n",
        "\n",
        "$A =\n",
        "\\begin{pmatrix}\n",
        "a_{11} & a_{12} & \\ldots & a_{1N} \\\\\n",
        "a_{21} & a_{22} & \\ldots & a_{2N} \\\\\n",
        "\\vdots & \\vdots & \\ldots & \\vdots \\\\\n",
        "a_{N1} & a_{N2} & \\ldots & a_{NN}\n",
        "\\end{pmatrix}\n",
        "$\n",
        "\n",
        "y\n",
        "\n",
        "$B =\n",
        "\\begin{pmatrix}\n",
        "b_{11} & b_{12} & \\ldots & b_{1M} \\\\\n",
        "b_{21} & b_{22} & \\ldots & b_{2M} \\\\\n",
        "\\vdots & \\vdots & \\ldots & \\vdots \\\\\n",
        "b_{M1} & b_{M2} & \\ldots & b_{MM}\n",
        "\\end{pmatrix}\n",
        "$\n",
        "\n",
        "se define como\n",
        "\n",
        "$A\\otimes B =\n",
        "\\begin{pmatrix}\n",
        "a_{11}B & a_{12}B & \\ldots & a_{1N}B \\\\\n",
        "a_{21}B & a_{22}B & \\ldots & a_{2N}B \\\\\n",
        "\\vdots & \\vdots & \\ldots & \\vdots \\\\\n",
        "a_{N1}B & a_{N2}B & \\ldots & a_{NN}B\n",
        "\\end{pmatrix}\n",
        "$\n",
        "\n",
        "con\n",
        "\n",
        "$a_{ij}B =\n",
        "\\begin{pmatrix}\n",
        "a_{ij}b_{11} & a_{ij}b_{12} & \\ldots & a_{ij}b_{1M} \\\\\n",
        "a_{ij}b_{21} & a_{ij}b_{22} & \\ldots & a_{ij}b_{2M} \\\\\n",
        "\\vdots & \\vdots & \\ldots & \\vdots \\\\\n",
        "a_{ij}b_{M1} & a_{ij}b_{M2} & \\ldots & a_{ij}b_{MM} \\\\\n",
        "\\end{pmatrix}\n",
        "$\n"
      ],
      "metadata": {
        "id": "Jwlpi7nahXe9"
      }
    },
    {
      "cell_type": "code",
      "source": [
        "# Producto de Kronecker:\n",
        "\n",
        "np.kron(a,b)"
      ],
      "metadata": {
        "colab": {
          "base_uri": "https://localhost:8080/"
        },
        "id": "S1CdQsfAgWrm",
        "outputId": "64980daa-9940-4154-853b-0b10baee023e"
      },
      "execution_count": 73,
      "outputs": [
        {
          "output_type": "execute_result",
          "data": {
            "text/plain": [
              "array([[ 4,  5,  8, 10],\n",
              "       [ 6,  7, 12, 14],\n",
              "       [12, 15, 16, 20],\n",
              "       [18, 21, 24, 28]])"
            ]
          },
          "metadata": {},
          "execution_count": 73
        }
      ]
    },
    {
      "cell_type": "code",
      "source": [
        "# Eigenvalores y eigenvectores\n",
        "\n",
        "np.linalg.eig(a)"
      ],
      "metadata": {
        "colab": {
          "base_uri": "https://localhost:8080/"
        },
        "id": "OZOGXMyGj2bE",
        "outputId": "0049c673-6d58-4229-990c-4f3b52a99830"
      },
      "execution_count": 74,
      "outputs": [
        {
          "output_type": "execute_result",
          "data": {
            "text/plain": [
              "EigResult(eigenvalues=array([-0.37228132,  5.37228132]), eigenvectors=array([[-0.82456484, -0.41597356],\n",
              "       [ 0.56576746, -0.90937671]]))"
            ]
          },
          "metadata": {},
          "execution_count": 74
        }
      ]
    },
    {
      "cell_type": "markdown",
      "source": [
        "## Matplotlib\n",
        "\n",
        "Librería de Python para graficar datos y funciones"
      ],
      "metadata": {
        "id": "n6xkBVDP1Fow"
      }
    },
    {
      "cell_type": "code",
      "source": [
        "# si fuera necesario instalar, descomentamos la siguiente línea:\n",
        "# !pip install matplotlib\n",
        "\n",
        "import matplotlib.pyplot as plt"
      ],
      "metadata": {
        "id": "YJvbUkk_1OQB"
      },
      "execution_count": 75,
      "outputs": []
    },
    {
      "cell_type": "code",
      "source": [
        "x = np.arange(0,2*np.pi,0.1)\n",
        "print(x)"
      ],
      "metadata": {
        "id": "UC9dp-Z_1UAt",
        "colab": {
          "base_uri": "https://localhost:8080/"
        },
        "outputId": "3c29abe0-7204-472e-9ce3-8ff102224c9b"
      },
      "execution_count": 76,
      "outputs": [
        {
          "output_type": "stream",
          "name": "stdout",
          "text": [
            "[0.  0.1 0.2 0.3 0.4 0.5 0.6 0.7 0.8 0.9 1.  1.1 1.2 1.3 1.4 1.5 1.6 1.7\n",
            " 1.8 1.9 2.  2.1 2.2 2.3 2.4 2.5 2.6 2.7 2.8 2.9 3.  3.1 3.2 3.3 3.4 3.5\n",
            " 3.6 3.7 3.8 3.9 4.  4.1 4.2 4.3 4.4 4.5 4.6 4.7 4.8 4.9 5.  5.1 5.2 5.3\n",
            " 5.4 5.5 5.6 5.7 5.8 5.9 6.  6.1 6.2]\n"
          ]
        }
      ]
    },
    {
      "cell_type": "code",
      "source": [
        "y = np.sin(x)\n",
        "print(y)"
      ],
      "metadata": {
        "id": "x7vUedM41n8i",
        "colab": {
          "base_uri": "https://localhost:8080/"
        },
        "outputId": "6af2f851-01aa-4f11-e453-31dd70b97e87"
      },
      "execution_count": 78,
      "outputs": [
        {
          "output_type": "stream",
          "name": "stdout",
          "text": [
            "[ 0.          0.09983342  0.19866933  0.29552021  0.38941834  0.47942554\n",
            "  0.56464247  0.64421769  0.71735609  0.78332691  0.84147098  0.89120736\n",
            "  0.93203909  0.96355819  0.98544973  0.99749499  0.9995736   0.99166481\n",
            "  0.97384763  0.94630009  0.90929743  0.86320937  0.8084964   0.74570521\n",
            "  0.67546318  0.59847214  0.51550137  0.42737988  0.33498815  0.23924933\n",
            "  0.14112001  0.04158066 -0.05837414 -0.15774569 -0.2555411  -0.35078323\n",
            " -0.44252044 -0.52983614 -0.61185789 -0.68776616 -0.7568025  -0.81827711\n",
            " -0.87157577 -0.91616594 -0.95160207 -0.97753012 -0.993691   -0.99992326\n",
            " -0.99616461 -0.98245261 -0.95892427 -0.92581468 -0.88345466 -0.83226744\n",
            " -0.77276449 -0.70554033 -0.63126664 -0.55068554 -0.46460218 -0.37387666\n",
            " -0.2794155  -0.1821625  -0.0830894 ]\n"
          ]
        }
      ]
    },
    {
      "cell_type": "code",
      "source": [
        "print(type(x))\n",
        "print(type(y))"
      ],
      "metadata": {
        "id": "HzbjBP1E111H",
        "colab": {
          "base_uri": "https://localhost:8080/"
        },
        "outputId": "5f742197-0585-4482-d2b6-b60af6d2d8b9"
      },
      "execution_count": 79,
      "outputs": [
        {
          "output_type": "stream",
          "name": "stdout",
          "text": [
            "<class 'numpy.ndarray'>\n",
            "<class 'numpy.ndarray'>\n"
          ]
        }
      ]
    },
    {
      "cell_type": "code",
      "source": [
        "plt.plot(x,y)\n",
        "plt.show()"
      ],
      "metadata": {
        "id": "26rsZPFf16Cq",
        "colab": {
          "base_uri": "https://localhost:8080/",
          "height": 430
        },
        "outputId": "71776732-e498-457c-e64b-19d1ae04b144"
      },
      "execution_count": 80,
      "outputs": [
        {
          "output_type": "display_data",
          "data": {
            "text/plain": [
              "<Figure size 640x480 with 1 Axes>"
            ],
            "image/png": "[encoded data removed]"
          },
          "metadata": {}
        }
      ]
    },
    {
      "cell_type": "code",
      "source": [
        "z = np.cos(x)\n",
        "\n",
        "plt.scatter(x, y,color='g')\n",
        "plt.plot(x, z)\n",
        "plt.xlabel('$x$')\n",
        "plt.ylabel('$y$')\n",
        "plt.title('Funciones $\\sin$ y $\\cos$')\n",
        "plt.legend(['$\\sin$', '$\\cos$'])\n",
        "plt.show()"
      ],
      "metadata": {
        "id": "XZBWz2Gf2GBU",
        "colab": {
          "base_uri": "https://localhost:8080/",
          "height": 474
        },
        "outputId": "adbdc64b-ff1d-4443-eea7-2b06dde3a7ff"
      },
      "execution_count": 81,
      "outputs": [
        {
          "output_type": "display_data",
          "data": {
            "text/plain": [
              "<Figure size 640x480 with 1 Axes>"
            ],
            "image/png": "[encoded data removed]"
          },
          "metadata": {}
        }
      ]
    },
    {
      "cell_type": "code",
      "source": [],
      "metadata": {
        "id": "h9Itsiq3Kol1"
      },
      "execution_count": null,
      "outputs": []
    }
  ]
}