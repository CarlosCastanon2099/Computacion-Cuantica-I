{
  "nbformat": 4,
  "nbformat_minor": 0,
  "metadata": {
    "colab": {
      "provenance": []
    },
    "kernelspec": {
      "name": "python3",
      "display_name": "Python 3"
    },
    "language_info": {
      "name": "python"
    }
  },
  "cells": [
    {
      "cell_type": "code",
      "execution_count": null,
      "metadata": {
        "id": "kmj4GPvl_fIM"
      },
      "outputs": [],
      "source": [
        "!pip install qiskit\n",
        "!pip install pylatexenc\n",
        "!pip install qiskit-aer"
      ]
    },
    {
      "cell_type": "code",
      "source": [
        "from typing import List, Optional\n",
        "from qiskit import transpile, QuantumCircuit, QuantumRegister, ClassicalRegister\n",
        "from qiskit.visualization import plot_histogram\n",
        "import warnings\n",
        "warnings.filterwarnings(\"ignore\")\n",
        "import math\n",
        "import numpy as np\n",
        "\n",
        "import matplotlib.pyplot as plt\n",
        "%matplotlib inline\n",
        "import numpy as np\n",
        "\n",
        "\n",
        "from qiskit_aer import AerSimulator\n",
        "backend =  AerSimulator(method='statevector')"
      ],
      "metadata": {
        "id": "9optCRSr_m0A"
      },
      "execution_count": null,
      "outputs": []
    },
    {
      "cell_type": "markdown",
      "source": [
        "#La prueba de intercambio (*SWAP* test)\n",
        "\n",
        "La prueba de intercambio es un procedimiento fundamental en computación cuántica que se utiliza para estimar el producto interno (o superposición) entre dos estados cuánticos. Es un componente crucial en varios algoritmos cuánticos, en particular en el aprendizaje automático cuántico y el procesamiento de información cuántica.\n",
        "\n",
        "La prueba de intercambio proporciona una estimación del producto interno con una precisión que aumenta con el número de disparos. La prueba de intercambio se puede aplicar tanto a estados de un solo cúbit como a estados de varios qubits.\n",
        "\n",
        "![Quantum-swap-test-circuit-correct.png](data:image/png;base64,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)"
      ],
      "metadata": {
        "id": "hn0lQWOJ_8fv"
      }
    },
    {
      "cell_type": "markdown",
      "source": [
        "Se puede probar que la probabilidad de medir el estado $|0\\rangle$ en ek primero qubit es $$P_0=\\frac{1+|\\langle\\phi|\\psi\\rangle|^2}{2}$$ y, correspondientemente, la probabilidad del estado $|1\\rangle$ es $$P_1\\frac{1-|\\langle\\phi|\\psi\\rangle|^2}{2}$$"
      ],
      "metadata": {
        "id": "cjNAmwxZADSR"
      }
    },
    {
      "cell_type": "code",
      "source": [
        "def swap_circuit():\n",
        "    qr = QuantumRegister(3)\n",
        "    cr = ClassicalRegister(1)\n",
        "    qc = QuantumCircuit(qr, cr)\n",
        "\n",
        "    # Inicializamos a psi en el estado |+>:\n",
        "    qc.h(qr[2])\n",
        "    qc.barrier()\n",
        "\n",
        "\n",
        "    # Ahora implementamos el circuito\n",
        "\n",
        "    qc.h(qr[0])\n",
        "\n",
        "    # Aplicamos el intercambio controlado\n",
        "\n",
        "    qc.cswap(qr[0], qr[1], qr[2])\n",
        "\n",
        "\n",
        "    qc.h(qr[0])\n",
        "\n",
        "    qc.measure(qr[0], cr[0])\n",
        "\n",
        "    return qc"
      ],
      "metadata": {
        "id": "OuHdIQ58AHl4"
      },
      "execution_count": null,
      "outputs": []
    },
    {
      "cell_type": "code",
      "source": [
        "swap_test = swap_circuit()\n",
        "swap_test.draw('mpl')"
      ],
      "metadata": {
        "id": "KpJlhltcAdEB"
      },
      "execution_count": null,
      "outputs": []
    },
    {
      "cell_type": "code",
      "source": [
        "shots = 1024\n",
        "counts = backend.run(swap_test, shots=shots).result().get_counts()\n",
        "\n",
        "probability_0 = counts.get('0')/shots\n",
        "probability_1 = counts.get('1')/shots\n",
        "\n",
        "print(\"Probability of measuring the first qubit in |0> = \",probability_0)\n",
        "print(\"Probability of measuring the first qubit in |1> = \",probability_1)"
      ],
      "metadata": {
        "id": "YqCC-QdxAdyJ"
      },
      "execution_count": null,
      "outputs": []
    },
    {
      "cell_type": "code",
      "source": [
        "plot_histogram(counts)"
      ],
      "metadata": {
        "id": "Il4FjJU7AikJ"
      },
      "execution_count": null,
      "outputs": []
    },
    {
      "cell_type": "markdown",
      "source": [
        "## Ejercicio 1:\n",
        "\n",
        "Escriba una función que calcule $$|\\langle\\phi|\\psi\\rangle|^2,$$ con base en los resultados de la simulación."
      ],
      "metadata": {
        "id": "UQ_8WpsTAlDF"
      }
    },
    {
      "cell_type": "code",
      "source": [
        "def ip(probability_0):\n",
        "\n",
        "  # Complete la función para obtener el valor solicitado\n",
        "\n",
        "\n",
        "  ############################################################\n",
        "\n",
        "\n",
        "  return inner_product\n",
        "\n",
        "print(\"|<phi|psi>|^2 = \",ip(probability_0))"
      ],
      "metadata": {
        "id": "k-vHe0SqApYJ"
      },
      "execution_count": null,
      "outputs": []
    },
    {
      "cell_type": "markdown",
      "source": [
        "## Ejercicio 2:\n",
        "\n",
        "Explique si sus resultados coinciden con la teoría."
      ],
      "metadata": {
        "id": "D1cn22V7AxdO"
      }
    },
    {
      "cell_type": "markdown",
      "source": [
        "## Ejercicio 3:\n",
        "\n",
        "¿Cómo cambian los resultados si ahora $|\\phi\\rangle=|-\\rangle$?"
      ],
      "metadata": {
        "id": "lSAh0i2bAyRo"
      }
    },
    {
      "cell_type": "code",
      "source": [],
      "metadata": {
        "id": "sCLwO9-CA281"
      },
      "execution_count": null,
      "outputs": []
    }
  ]
}