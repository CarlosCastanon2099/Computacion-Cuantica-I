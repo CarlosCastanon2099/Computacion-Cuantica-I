{
  "nbformat": 4,
  "nbformat_minor": 0,
  "metadata": {
    "colab": {
      "provenance": []
    },
    "kernelspec": {
      "name": "python3",
      "display_name": "Python 3"
    },
    "language_info": {
      "name": "python"
    }
  },
  "cells": [
    {
      "cell_type": "code",
      "execution_count": null,
      "metadata": {
        "id": "4Yu0kC8vGcR1"
      },
      "outputs": [],
      "source": [
        "#!pip install qiskit\n",
        "#!pip install pylatexenc\n",
        "#!pip install qiskit-aer"
      ]
    },
    {
      "cell_type": "code",
      "source": [
        "from typing import List, Optional\n",
        "from qiskit import transpile, QuantumCircuit, QuantumRegister, ClassicalRegister\n",
        "from qiskit.visualization import plot_histogram\n",
        "import warnings\n",
        "warnings.filterwarnings(\"ignore\")\n",
        "import math\n",
        "import numpy as np\n",
        "\n",
        "import matplotlib.pyplot as plt\n",
        "%matplotlib inline\n",
        "import numpy as np\n",
        "\n",
        "\n",
        "from qiskit_aer import AerSimulator\n",
        "backend =  AerSimulator(method='statevector')"
      ],
      "metadata": {
        "id": "mnjUUz8wJ_FM"
      },
      "execution_count": null,
      "outputs": []
    },
    {
      "cell_type": "markdown",
      "source": [
        "#Breve oráculo cuántico\n",
        "\n",
        "Un oráculo cuántico es una operación no explícita que se utiliza como entrada para otro algoritmo. Sin embargo, en lugar de ser una función clásica que devuelve un valor numérico, un oráculo cuántico se basa en la mecánica cuántica y manipula qubits para producir una salida cuántica.\n",
        "\n",
        "##Características\n",
        "\n",
        "Un oráculo cuántico se define como una operación que toma una entrada binaria de $n$ bits y genera una salida binaria de $m$ bits. La salida no se determina por una función clásica, sino que se produce a través de la interacción entre los qubits y la manipulación cuántica. Esto permite que el oráculo cuántico produzca resultados no deterministas y con propiedades cuánticas, como superposición y entrelazamiento."
      ],
      "metadata": {
        "id": "KvYktSZUKLRH"
      }
    },
    {
      "cell_type": "markdown",
      "source": [
        "## El oráculo del algoritmo de Simon:\n",
        "\n",
        "Consideremos la función con las siguientes entradas y salidas:\n",
        "\n",
        "- $f(00)=10$\n",
        "- $f(01)=10$\n",
        "- $f(10)=01$\n",
        "- $f(11)=01$\n",
        "\n",
        "En el algoritmo de Simon, el oráculo hace el mapeo\n",
        "\n",
        "$$|0\\rangle|x\\rangle\\to|f(x)\\rangle|x\\rangle.$$ En el caso de la función anterior,\n",
        "esto es\n",
        "\n",
        "- $|00\\rangle|00\\rangle\\to|10\\rangle|00\\rangle$\n",
        "- $|00\\rangle|01\\rangle\\to|10\\rangle|01\\rangle$\n",
        "- $|00\\rangle|10\\rangle\\to|01\\rangle|10\\rangle$\n",
        "- $|00\\rangle|11\\rangle\\to|01\\rangle|11\\rangle$"
      ],
      "metadata": {
        "id": "6HAHz0RTKpW_"
      }
    },
    {
      "cell_type": "markdown",
      "source": [
        "## Ejercicio: Implemente el oráculo anterior."
      ],
      "metadata": {
        "id": "7MCjsWbBMF0J"
      }
    },
    {
      "cell_type": "code",
      "source": [
        "# Inicializamos el circuito\n",
        "\n",
        "qr = QuantumRegister(4)\n",
        "oracle = QuantumCircuit(qr)"
      ],
      "metadata": {
        "id": "ybR8VlzfMMMg"
      },
      "execution_count": null,
      "outputs": []
    },
    {
      "cell_type": "code",
      "source": [
        "# Modifique para probar diferentes valores de x,\n",
        "# agregando compuertas NOT\n",
        "#\n",
        "# Recuerde el orden de los qubits en qiskit."
      ],
      "metadata": {
        "id": "zG20frpdNnx_"
      },
      "execution_count": null,
      "outputs": []
    },
    {
      "cell_type": "code",
      "source": [
        "# Implemente el oráculo anterior"
      ],
      "metadata": {
        "id": "r2LfSdg9Mgk1"
      },
      "execution_count": null,
      "outputs": []
    },
    {
      "cell_type": "code",
      "source": [
        "oracle.measure_all()\n",
        "oracle.draw('mpl')"
      ],
      "metadata": {
        "id": "MttM-rHvMx1l"
      },
      "execution_count": null,
      "outputs": []
    },
    {
      "cell_type": "code",
      "source": [
        "counts = backend.run(oracle, shots=1000).result().get_counts()\n",
        "plot_histogram(counts)"
      ],
      "metadata": {
        "id": "m3pMg5r_M4Yd"
      },
      "execution_count": null,
      "outputs": []
    },
    {
      "cell_type": "code",
      "source": [],
      "metadata": {
        "id": "99jCRstBNCFI"
      },
      "execution_count": null,
      "outputs": []
    }
  ]
}